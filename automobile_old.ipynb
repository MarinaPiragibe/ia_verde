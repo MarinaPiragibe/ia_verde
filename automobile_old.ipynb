{
 "cells": [
  {
   "cell_type": "code",
   "execution_count": 1,
   "id": "690812c5",
   "metadata": {},
   "outputs": [
    {
     "name": "stdout",
     "output_type": "stream",
     "text": [
      "{'uci_id': 10, 'name': 'Automobile', 'repository_url': 'https://archive.ics.uci.edu/dataset/10/automobile', 'data_url': 'https://archive.ics.uci.edu/static/public/10/data.csv', 'abstract': \"From 1985 Ward's Automotive Yearbook\", 'area': 'Other', 'tasks': ['Regression'], 'characteristics': ['Multivariate'], 'num_instances': 205, 'num_features': 25, 'feature_types': ['Categorical', 'Integer', 'Real'], 'demographics': [], 'target_col': ['symboling'], 'index_col': None, 'has_missing_values': 'yes', 'missing_values_symbol': 'NaN', 'year_of_dataset_creation': 1985, 'last_updated': 'Thu Aug 10 2023', 'dataset_doi': '10.24432/C5B01C', 'creators': ['Jeffrey Schlimmer'], 'intro_paper': None, 'additional_info': {'summary': 'This data set consists of three types of entities: (a) the specification of an auto in terms of various characteristics, (b) its assigned insurance risk rating, (c) its normalized losses in use as compared to other cars.  The second rating corresponds to the degree to which the auto is more risky than its price indicates. Cars are initially assigned a risk factor symbol associated with its price.   Then, if it is more risky (or less), this symbol is adjusted by moving it up (or down) the scale.  Actuarians call this process \"symboling\".  A value of +3 indicates that the auto is risky, -3 that it is probably pretty safe.\\r\\n\\r\\nThe third factor is the relative average loss payment per insured vehicle year.  This value is normalized for all autos within a particular size classification (two-door small, station wagons, sports/speciality, etc...), and represents the average loss per car per year.\\r\\n\\r\\nNote: Several of the attributes in the database could be used as a \"class\" attribute.', 'purpose': None, 'funded_by': None, 'instances_represent': None, 'recommended_data_splits': None, 'sensitive_data': None, 'preprocessing_description': None, 'variable_info': 'Attribute: Attribute Range\\r\\n\\r\\n  1. symboling:                -3, -2, -1, 0, 1, 2, 3.\\r\\n  2. normalized-losses:        continuous from 65 to 256.\\r\\n  3. make:                     \\r\\n                               alfa-romero, audi, bmw, chevrolet, dodge, honda,\\r\\n                               isuzu, jaguar, mazda, mercedes-benz, mercury,\\r\\n                               mitsubishi, nissan, peugot, plymouth, porsche,\\r\\n                               renault, saab, subaru, toyota, volkswagen, volvo\\r\\n\\r\\n  4. fuel-type:                diesel, gas.\\r\\n  5. aspiration:               std, turbo.\\r\\n  6. num-of-doors:             four, two.\\r\\n  7. body-style:               hardtop, wagon, sedan, hatchback, convertible.\\r\\n  8. drive-wheels:             4wd, fwd, rwd.\\r\\n  9. engine-location:          front, rear.\\r\\n 10. wheel-base:               continuous from 86.6 120.9.\\r\\n 11. length:                   continuous from 141.1 to 208.1.\\r\\n 12. width:                    continuous from 60.3 to 72.3.\\r\\n 13. height:                   continuous from 47.8 to 59.8.\\r\\n 14. curb-weight:              continuous from 1488 to 4066.\\r\\n 15. engine-type:              dohc, dohcv, l, ohc, ohcf, ohcv, rotor.\\r\\n 16. num-of-cylinders:         eight, five, four, six, three, twelve, two.\\r\\n 17. engine-size:              continuous from 61 to 326.\\r\\n 18. fuel-system:              1bbl, 2bbl, 4bbl, idi, mfi, mpfi, spdi, spfi.\\r\\n 19. bore:                     continuous from 2.54 to 3.94.\\r\\n 20. stroke:                   continuous from 2.07 to 4.17.\\r\\n 21. compression-ratio:        continuous from 7 to 23.\\r\\n 22. horsepower:               continuous from 48 to 288.\\r\\n 23. peak-rpm:                 continuous from 4150 to 6600.\\r\\n 24. city-mpg:                 continuous from 13 to 49.\\r\\n 25. highway-mpg:              continuous from 16 to 54.\\r\\n 26. price:                    continuous from 5118 to 45400.', 'citation': None}}\n",
      "                 name     role         type demographic  \\\n",
      "0               price  Feature   Continuous        None   \n",
      "1         highway-mpg  Feature   Continuous        None   \n",
      "2            city-mpg  Feature   Continuous        None   \n",
      "3            peak-rpm  Feature   Continuous        None   \n",
      "4          horsepower  Feature   Continuous        None   \n",
      "5   compression-ratio  Feature   Continuous        None   \n",
      "6              stroke  Feature   Continuous        None   \n",
      "7                bore  Feature   Continuous        None   \n",
      "8         fuel-system  Feature  Categorical        None   \n",
      "9         engine-size  Feature   Continuous        None   \n",
      "10   num-of-cylinders  Feature      Integer        None   \n",
      "11        engine-type  Feature  Categorical        None   \n",
      "12        curb-weight  Feature   Continuous        None   \n",
      "13             height  Feature   Continuous        None   \n",
      "14              width  Feature   Continuous        None   \n",
      "15             length  Feature   Continuous        None   \n",
      "16         wheel-base  Feature   Continuous        None   \n",
      "17    engine-location  Feature       Binary        None   \n",
      "18       drive-wheels  Feature  Categorical        None   \n",
      "19         body-style  Feature  Categorical        None   \n",
      "20       num-of-doors  Feature      Integer        None   \n",
      "21         aspiration  Feature       Binary        None   \n",
      "22          fuel-type  Feature       Binary        None   \n",
      "23               make  Feature  Categorical        None   \n",
      "24  normalized-losses  Feature   Continuous        None   \n",
      "25          symboling   Target      Integer        None   \n",
      "\n",
      "                                          description units missing_values  \n",
      "0                       continuous from 5118 to 45400  None            yes  \n",
      "1                            continuous from 16 to 54  None             no  \n",
      "2                            continuous from 13 to 49  None             no  \n",
      "3                        continuous from 4150 to 6600  None            yes  \n",
      "4                           continuous from 48 to 288  None            yes  \n",
      "5                             continuous from 7 to 23  None             no  \n",
      "6                        continuous from 2.07 to 4.17  None            yes  \n",
      "7                        continuous from 2.54 to 3.94  None            yes  \n",
      "8        1bbl, 2bbl, 4bbl, idi, mfi, mpfi, spdi, spfi  None             no  \n",
      "9                           continuous from 61 to 326  None             no  \n",
      "10         eight, five, four, six, three, twelve, two  None             no  \n",
      "11             dohc, dohcv, l, ohc, ohcf, ohcv, rotor  None             no  \n",
      "12                       continuous from 1488 to 4066  None             no  \n",
      "13                       continuous from 47.8 to 59.8  None             no  \n",
      "14                       continuous from 60.3 to 72.3  None             no  \n",
      "15                     continuous from 141.1 to 208.1  None             no  \n",
      "16                         continuous from 86.6 120.9  None             no  \n",
      "17                                        front, rear  None             no  \n",
      "18                                      4wd, fwd, rwd  None             no  \n",
      "19      hardtop, wagon, sedan, hatchback, convertible  None             no  \n",
      "20                                          four, two  None            yes  \n",
      "21                                         std, turbo  None             no  \n",
      "22                                        diesel, gas  None             no  \n",
      "23  alfa-romero, audi, bmw, chevrolet, dodge, hond...  None             no  \n",
      "24                          continuous from 65 to 256  None            yes  \n",
      "25                             -3, -2, -1, 0, 1, 2, 3  None             no  \n"
     ]
    }
   ],
   "source": [
    "from ucimlrepo import fetch_ucirepo \n",
    "  \n",
    "# fetch dataset \n",
    "automobile = fetch_ucirepo(id=10) \n",
    "  \n",
    "# data (as pandas dataframes) \n",
    "X = automobile.data.features \n",
    "y = automobile.data.targets \n",
    "  \n",
    "# metadata \n",
    "print(automobile.metadata) \n",
    "  \n",
    "# variable information \n",
    "print(automobile.variables) \n"
   ]
  },
  {
   "cell_type": "code",
   "execution_count": 5,
   "id": "9a58a070",
   "metadata": {},
   "outputs": [
    {
     "name": "stderr",
     "output_type": "stream",
     "text": [
      "c:\\Users\\masar\\Documents\\UFF\\IAVerde\\ia_verde\\.venv\\Lib\\site-packages\\sklearn\\preprocessing\\_label.py:110: DataConversionWarning: A column-vector y was passed when a 1d array was expected. Please change the shape of y to (n_samples, ), for example using ravel().\n",
      "  y = column_or_1d(y, warn=True)\n"
     ]
    },
    {
     "ename": "AttributeError",
     "evalue": "'Modelo' object has no attribute 'X_train'",
     "output_type": "error",
     "traceback": [
      "\u001b[31m---------------------------------------------------------------------------\u001b[39m",
      "\u001b[31mAttributeError\u001b[39m                            Traceback (most recent call last)",
      "\u001b[36mCell\u001b[39m\u001b[36m \u001b[39m\u001b[32mIn[5]\u001b[39m\u001b[32m, line 5\u001b[39m\n\u001b[32m      1\u001b[39m \u001b[38;5;28;01mfrom\u001b[39;00m\u001b[38;5;250m \u001b[39m\u001b[34;01mmodelo\u001b[39;00m\u001b[38;5;250m \u001b[39m\u001b[38;5;28;01mimport\u001b[39;00m Modelo\n\u001b[32m      4\u001b[39m modelo = Modelo(X, y)\n\u001b[32m----> \u001b[39m\u001b[32m5\u001b[39m \u001b[43mmodelo\u001b[49m\u001b[43m.\u001b[49m\u001b[43mtreinar_e_avaliar_modelo\u001b[49m\u001b[43m(\u001b[49m\u001b[43m)\u001b[49m\n",
      "\u001b[36mFile \u001b[39m\u001b[32mc:\\Users\\masar\\Documents\\UFF\\IAVerde\\ia_verde\\modelo.py:37\u001b[39m, in \u001b[36mModelo.treinar_e_avaliar_modelo\u001b[39m\u001b[34m(self, epocas, batch_size)\u001b[39m\n\u001b[32m     36\u001b[39m \u001b[38;5;28;01mdef\u001b[39;00m\u001b[38;5;250m \u001b[39m\u001b[34mtreinar_e_avaliar_modelo\u001b[39m(\u001b[38;5;28mself\u001b[39m, epocas=\u001b[32m30\u001b[39m, batch_size=\u001b[32m32\u001b[39m):\n\u001b[32m---> \u001b[39m\u001b[32m37\u001b[39m     modelo = \u001b[38;5;28;43mself\u001b[39;49m\u001b[43m.\u001b[49m\u001b[43miniciar_modelo\u001b[49m\u001b[43m(\u001b[49m\u001b[43m)\u001b[49m\n\u001b[32m     38\u001b[39m     modelo.fit(\u001b[38;5;28mself\u001b[39m.X_train, \u001b[38;5;28mself\u001b[39m.y_train, epocas, batch_size=\u001b[32m32\u001b[39m, verbose=\u001b[32m1\u001b[39m)\n\u001b[32m     39\u001b[39m     \u001b[38;5;66;03m# Avaliar\u001b[39;00m\n",
      "\u001b[36mFile \u001b[39m\u001b[32mc:\\Users\\masar\\Documents\\UFF\\IAVerde\\ia_verde\\modelo.py:27\u001b[39m, in \u001b[36mModelo.iniciar_modelo\u001b[39m\u001b[34m(self)\u001b[39m\n\u001b[32m     24\u001b[39m \u001b[38;5;28mself\u001b[39m.codificar()\n\u001b[32m     25\u001b[39m \u001b[38;5;28mself\u001b[39m.separar_treino_teste()\n\u001b[32m     26\u001b[39m model = tf.keras.Sequential([\n\u001b[32m---> \u001b[39m\u001b[32m27\u001b[39m tf.keras.layers.Dense(\u001b[32m64\u001b[39m, activation=\u001b[33m'\u001b[39m\u001b[33mrelu\u001b[39m\u001b[33m'\u001b[39m, input_shape=(\u001b[38;5;28;43mself\u001b[39;49m\u001b[43m.\u001b[49m\u001b[43mX_train\u001b[49m.shape[\u001b[32m1\u001b[39m],)),\n\u001b[32m     28\u001b[39m tf.keras.layers.Dense(\u001b[32m32\u001b[39m, activation=\u001b[33m'\u001b[39m\u001b[33mrelu\u001b[39m\u001b[33m'\u001b[39m),\n\u001b[32m     29\u001b[39m tf.keras.layers.Dense(\u001b[38;5;28mlen\u001b[39m(\u001b[38;5;28mset\u001b[39m(\u001b[38;5;28mself\u001b[39m.y)), activation=\u001b[33m'\u001b[39m\u001b[33msoftmax\u001b[39m\u001b[33m'\u001b[39m)\n\u001b[32m     30\u001b[39m ])\n\u001b[32m     32\u001b[39m \u001b[38;5;28;01mreturn\u001b[39;00m model.compile(optimizer=\u001b[33m'\u001b[39m\u001b[33madam\u001b[39m\u001b[33m'\u001b[39m,\n\u001b[32m     33\u001b[39m         loss=\u001b[33m'\u001b[39m\u001b[33msparse_categorical_crossentropy\u001b[39m\u001b[33m'\u001b[39m,\n\u001b[32m     34\u001b[39m         metrics=[\u001b[33m'\u001b[39m\u001b[33maccuracy\u001b[39m\u001b[33m'\u001b[39m])\n",
      "\u001b[31mAttributeError\u001b[39m: 'Modelo' object has no attribute 'X_train'"
     ]
    }
   ],
   "source": [
    "from modelo import Modelo\n",
    "\n",
    "\n",
    "modelo = Modelo(X, y)\n",
    "modelo.treinar_e_avaliar_modelo()"
   ]
  }
 ],
 "metadata": {
  "kernelspec": {
   "display_name": ".venv",
   "language": "python",
   "name": "python3"
  },
  "language_info": {
   "codemirror_mode": {
    "name": "ipython",
    "version": 3
   },
   "file_extension": ".py",
   "mimetype": "text/x-python",
   "name": "python",
   "nbconvert_exporter": "python",
   "pygments_lexer": "ipython3",
   "version": "3.12.1"
  }
 },
 "nbformat": 4,
 "nbformat_minor": 5
}
