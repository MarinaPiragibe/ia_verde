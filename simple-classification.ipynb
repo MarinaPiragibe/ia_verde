{
 "cells": [
  {
   "cell_type": "markdown",
   "id": "4f162e58",
   "metadata": {},
   "source": [
    "### Create a dataset with samples from three categories: cofee, tea and water"
   ]
  },
  {
   "cell_type": "code",
   "execution_count": 1,
   "id": "a8a59302",
   "metadata": {},
   "outputs": [
    {
     "ename": "ModuleNotFoundError",
     "evalue": "No module named 'matplotlib'",
     "output_type": "error",
     "traceback": [
      "\u001b[31m---------------------------------------------------------------------------\u001b[39m",
      "\u001b[31mModuleNotFoundError\u001b[39m                       Traceback (most recent call last)",
      "\u001b[36mCell\u001b[39m\u001b[36m \u001b[39m\u001b[32mIn[1]\u001b[39m\u001b[32m, line 2\u001b[39m\n\u001b[32m      1\u001b[39m \u001b[38;5;28;01mimport\u001b[39;00m\u001b[38;5;250m \u001b[39m\u001b[34;01mnumpy\u001b[39;00m\u001b[38;5;250m \u001b[39m\u001b[38;5;28;01mas\u001b[39;00m\u001b[38;5;250m \u001b[39m\u001b[34;01mnp\u001b[39;00m\n\u001b[32m----> \u001b[39m\u001b[32m2\u001b[39m \u001b[38;5;28;01mimport\u001b[39;00m\u001b[38;5;250m \u001b[39m\u001b[34;01mmatplotlib\u001b[39;00m\u001b[34;01m.\u001b[39;00m\u001b[34;01mpyplot\u001b[39;00m\u001b[38;5;250m \u001b[39m\u001b[38;5;28;01mas\u001b[39;00m\u001b[38;5;250m \u001b[39m\u001b[34;01mplt\u001b[39;00m\n\u001b[32m      3\u001b[39m \u001b[38;5;28;01mfrom\u001b[39;00m\u001b[38;5;250m \u001b[39m\u001b[34;01mmatplotlib\u001b[39;00m\u001b[38;5;250m \u001b[39m\u001b[38;5;28;01mimport\u001b[39;00m cm\n\u001b[32m      4\u001b[39m \u001b[38;5;28;01mfrom\u001b[39;00m\u001b[38;5;250m \u001b[39m\u001b[34;01mmatplotlib\u001b[39;00m\u001b[34;01m.\u001b[39;00m\u001b[34;01mticker\u001b[39;00m\u001b[38;5;250m \u001b[39m\u001b[38;5;28;01mimport\u001b[39;00m LinearLocator\n",
      "\u001b[31mModuleNotFoundError\u001b[39m: No module named 'matplotlib'"
     ]
    }
   ],
   "source": [
    "import numpy as np\n",
    "import matplotlib.pyplot as plt\n",
    "from matplotlib import cm\n",
    "from matplotlib.ticker import LinearLocator\n",
    "\n",
    "# Create data\n",
    "N  = 200\n",
    "c1 = (0.90 + 0.4 * np.random.rand(N), 0.90 + 0.4*np.random.rand(N))\n",
    "c2 = (0.60 + 0.4 * np.random.rand(N), 0.60 + 0.4*np.random.rand(N))\n",
    "c3 = (0.30 + 0.4 * np.random.rand(N), 0.30 + 0.4*np.random.rand(N))\n",
    "\n",
    "data    = (c1, c2, c3)\n",
    "colors  = (\"red\", \"green\", \"blue\")\n",
    "classes = (\"class1\", \"class2\", \"class3\")\n",
    "\n",
    "# Create plot\n",
    "fig = plt.figure()\n",
    "ax  = fig.add_subplot(1, 1, 1)\n",
    "ax.set_xlabel('x1')\n",
    "ax.set_ylabel('x2')\n",
    "\n",
    "for data, color, classes in zip(data, colors, classes):\n",
    "    x1, x2 = data\n",
    "    ax.scatter(x1, x2, alpha=0.8, c=color, edgecolors='none', s=50, label=classes)\n",
    "\n",
    "plt.title('Three classes represented by two random variables')\n",
    "plt.legend(loc=2)\n",
    "plt.show()"
   ]
  },
  {
   "cell_type": "markdown",
   "id": "4f0dc5d3",
   "metadata": {},
   "source": [
    "### Separate the samples into training and testing sets"
   ]
  },
  {
   "cell_type": "code",
   "execution_count": 2,
   "id": "5c452204",
   "metadata": {},
   "outputs": [],
   "source": [
    "def UnisonShuffling(a, b):\n",
    "    assert len(a) == len(b)\n",
    "    p = np.random.permutation(len(a))\n",
    "    return a[p], b[p]\n",
    "\n",
    "X = [] \n",
    "Y = []\n",
    "class1_size = len(c1[0])\n",
    "for i in range(class1_size):\n",
    "    X.append((c1[0][i],c1[1][i]))\n",
    "    Y.append((1,0,0)) \n",
    "class2_size = len(c2[0])\n",
    "for i in range(class2_size):\n",
    "    X.append((c2[0][i],c2[1][i]))\n",
    "    Y.append((0,1,0))\n",
    "class3_size = len(c3[0])\n",
    "for i in range(class3_size):\n",
    "    X.append((c3[0][i],c3[1][i]))\n",
    "    Y.append((0,0,1))\n",
    "nsamples = class1_size + class2_size + class3_size\n",
    "X = np.array(X)\n",
    "Y = np.array(Y)\n",
    "# Apply shuffle and separate training and testing\n",
    "Xaux = np.copy(X)\n",
    "Yaux = np.copy(Y)\n",
    "X, Y = UnisonShuffling(Xaux,Yaux) \n",
    "X_train = X[:nsamples//10]\n",
    "Y_train = Y[:nsamples//10]\n",
    "X_test  = X[nsamples//10:nsamples]\n",
    "Y_test  = Y[nsamples//10:nsamples]"
   ]
  },
  {
   "cell_type": "markdown",
   "id": "01b3f26b",
   "metadata": {},
   "source": [
    "### Create a neural network model for classification and train it"
   ]
  },
  {
   "cell_type": "code",
   "execution_count": 3,
   "id": "b49a4759",
   "metadata": {
    "scrolled": false
   },
   "outputs": [
    {
     "name": "stdout",
     "output_type": "stream",
     "text": [
      "NeuralNet(\n",
      "  (classifier): Sequential(\n",
      "    (0): Linear(in_features=2, out_features=4, bias=True)\n",
      "    (1): ReLU()\n",
      "    (2): Linear(in_features=4, out_features=3, bias=True)\n",
      "  )\n",
      ")\n",
      "Parameter containing:\n",
      "tensor([[-0.4004,  0.6780],\n",
      "        [ 0.0895,  0.7850],\n",
      "        [-0.8661, -0.4031],\n",
      "        [ 0.5113,  0.3356]], requires_grad=True) Parameter containing:\n",
      "tensor([0., 0., 0., 0.], requires_grad=True)\n",
      "Parameter containing:\n",
      "tensor([[-0.5375,  0.5138,  0.4719, -0.6269],\n",
      "        [ 0.0238, -0.1101, -0.5798, -0.6242],\n",
      "        [-0.0645, -0.7325,  0.2796,  0.7706]], requires_grad=True) Parameter containing:\n",
      "tensor([0., 0., 0.], requires_grad=True)\n"
     ]
    }
   ],
   "source": [
    "import torch\n",
    "from torch import nn as nn\n",
    "import torch.optim as optim\n",
    "\n",
    "# Define a MLP model with four neurons in the hidden layer and three neurons in the decision layer\n",
    "\n",
    "class NeuralNet(nn.Module):\n",
    "\n",
    "    def __init__(self):\n",
    "        super(NeuralNet, self).__init__()\n",
    "        self.classifier = nn.Sequential(\n",
    "            nn.Linear(in_features=2, out_features=4, bias=True),\n",
    "            nn.ReLU(),\n",
    "            nn.Linear(in_features=4, out_features=3, bias=True)\n",
    "        )\n",
    "        self.weights_init()\n",
    "\n",
    "    def forward(self, x):\n",
    "        y = self.classifier(x)\n",
    "        return y\n",
    "\n",
    "    def weights_init(self):\n",
    "        for x in self.modules():\n",
    "            if isinstance(x, nn.Linear):\n",
    "                torch.nn.init.xavier_uniform_(x.weight.data)\n",
    "                if (x.bias is not None): \n",
    "                    x.bias.data.zero_()\n",
    "\n",
    "    \n",
    "# Create the model with cross entropy loss and statistical gradient descendant optimizer\n",
    "\n",
    "model     = NeuralNet()\n",
    "print(model)\n",
    "criterion = nn.CrossEntropyLoss()\n",
    "optimizer = optim.SGD(model.parameters(), lr=1e-1)\n",
    "\n",
    "# Print weights and bias\n",
    "print(model.classifier[0].weight, model.classifier[0].bias)\n",
    "print(model.classifier[2].weight, model.classifier[2].bias)"
   ]
  },
  {
   "cell_type": "markdown",
   "id": "4ab3c236",
   "metadata": {},
   "source": [
    "### A suitable weight initialization can speed up convergence. We can set the weights of the four neurons in the first layer as follows. "
   ]
  },
  {
   "cell_type": "code",
   "execution_count": 4,
   "id": "d8a6fff1",
   "metadata": {},
   "outputs": [
    {
     "data": {
      "image/png": "[encoded data removed]",
      "text/plain": [
       "<Figure size 432x288 with 1 Axes>"
      ]
     },
     "metadata": {
      "needs_background": "light"
     },
     "output_type": "display_data"
    }
   ],
   "source": [
    "fig = plt.imread('./figs/simple-classification.png')\n",
    "plt.imshow(fig)\n",
    "plt.show()"
   ]
  },
  {
   "cell_type": "code",
   "execution_count": 5,
   "id": "eaec0d23",
   "metadata": {},
   "outputs": [
    {
     "name": "stdout",
     "output_type": "stream",
     "text": [
      "Parameter containing:\n",
      "tensor([[ 0.7071,  0.7071],\n",
      "        [-0.7071, -0.7071],\n",
      "        [ 0.7071,  0.7071],\n",
      "        [-0.7071, -0.7071]]) Parameter containing:\n",
      "tensor([-1.2021,  1.2021, -0.7778,  0.7778])\n",
      "Parameter containing:\n",
      "tensor([[-0.5375,  0.5138,  0.4719, -0.6269],\n",
      "        [ 0.0238, -0.1101, -0.5798, -0.6242],\n",
      "        [-0.0645, -0.7325,  0.2796,  0.7706]], requires_grad=True) Parameter containing:\n",
      "tensor([0., 0., 0.], requires_grad=True)\n"
     ]
    }
   ],
   "source": [
    "# You can set the weights W1, W2, W3, W4 (orthogonal vectors of the class separation lines above)\n",
    "# and the biases based on the distances b1 and b2 to the origin. Note that, the NN performs \n",
    "# <(x1,x2),Wi> + bias, i=1,2,3,4, then the bias must be -b1 for W1, b1 for W2, -b2 for W3, and b2 for W4. \n",
    "# The following lines do that and freeze the dense layer for the training process. If you comment those lines, \n",
    "# the training process will estimate the weights of the hidden layer. \n",
    "\n",
    "v       = (2.0**0.5)/2\n",
    "b1      = ((0.85)**2 + (0.85)**2)**0.5\n",
    "b2      = ((0.55)**2 + (0.55)**2)**0.5\n",
    "weights = np.array([[v, v], [-v, -v], [v, v], [-v, -v]])\n",
    "bias    = np.array([-b1, b1, -b2, b2])\n",
    "\n",
    "# Convert from numpy to tensor\n",
    "weights = nn.Parameter(torch.from_numpy(weights).float())\n",
    "bias    = nn.Parameter(torch.from_numpy(bias).float())\n",
    "\n",
    "# Set weights and bias of the first hidden layer\n",
    "model.classifier[0].weight.data  = weights\n",
    "model.classifier[0].bias.data    = bias\n",
    "\n",
    "# Freeze first hidden layer\n",
    "for param in model.classifier[0].parameters():\n",
    "    param.requires_grad = False\n",
    "    \n",
    "# Print weights and bias\n",
    "print(model.classifier[0].weight, model.classifier[0].bias)\n",
    "print(model.classifier[2].weight, model.classifier[2].bias)    "
   ]
  },
  {
   "cell_type": "markdown",
   "id": "59108250",
   "metadata": {},
   "source": [
    "### Train the model"
   ]
  },
  {
   "cell_type": "code",
   "execution_count": 6,
   "id": "fd6ecdcd",
   "metadata": {},
   "outputs": [
    {
     "name": "stdout",
     "output_type": "stream",
     "text": [
      "Train acc =  0.7333333333333333\n"
     ]
    }
   ],
   "source": [
    "# Convert the training set from numpy to tensor\n",
    "\n",
    "X_train = torch.FloatTensor(X_train)\n",
    "Y_train = torch.FloatTensor(Y_train)\n",
    "\n",
    "# Train the model\n",
    "\n",
    "model.train()\n",
    "epochs   = 100 # if you increase it, then the convergence happens even without forcing the above initialization\n",
    "corrects = 0\n",
    "n        = 0\n",
    "for epoch in range(epochs):\n",
    "    optimizer.zero_grad() # set gradients to zero\n",
    "    # Forward pass\n",
    "    y_pred = model(X_train) \n",
    "    corrects   = torch.sum(torch.max(y_pred,1)[1]==torch.max(Y_train,1)[1]).item()\n",
    "    n          = y_pred.size(0)\n",
    "    # Compute Loss\n",
    "    loss = criterion(y_pred.squeeze(), Y_train)\n",
    "    \n",
    "    #print('Epoch {}: train loss: {}'.format(epoch, loss.item()))\n",
    "    # Backward pass\n",
    "    loss.backward()\n",
    "    optimizer.step()\n",
    "    \n",
    "\n",
    "# Accuracy after the last epoch    \n",
    "acc = corrects / n\n",
    "print('Train acc = ', acc)"
   ]
  },
  {
   "cell_type": "markdown",
   "id": "71e18d89",
   "metadata": {},
   "source": [
    "### Evaluate the model "
   ]
  },
  {
   "cell_type": "code",
   "execution_count": 7,
   "id": "b88a631f",
   "metadata": {},
   "outputs": [
    {
     "name": "stdout",
     "output_type": "stream",
     "text": [
      "Test loss 0.7901736497879028 Test acc 0.7425925925925926\n"
     ]
    }
   ],
   "source": [
    "# Convert the test set from numpy to tensor\n",
    "\n",
    "X_test = torch.FloatTensor(X_test)\n",
    "Y_test = torch.FloatTensor(Y_test)\n",
    "\n",
    "# Evaluate the model\n",
    "model.eval()\n",
    "y_pred   = model(X_test)\n",
    "loss     = criterion(y_pred.squeeze(), Y_test)\n",
    "corrects = torch.sum(torch.max(y_pred,1)[1]==torch.max(Y_test,1)[1]).item()\n",
    "n        = y_pred.size(0)\n",
    "print('Test loss' , loss.item(), 'Test acc', corrects/n)"
   ]
  }
 ],
 "metadata": {
  "kernelspec": {
   "display_name": ".venv",
   "language": "python",
   "name": "python3"
  },
  "language_info": {
   "codemirror_mode": {
    "name": "ipython",
    "version": 3
   },
   "file_extension": ".py",
   "mimetype": "text/x-python",
   "name": "python",
   "nbconvert_exporter": "python",
   "pygments_lexer": "ipython3",
   "version": "3.12.1"
  }
 },
 "nbformat": 4,
 "nbformat_minor": 5
}
