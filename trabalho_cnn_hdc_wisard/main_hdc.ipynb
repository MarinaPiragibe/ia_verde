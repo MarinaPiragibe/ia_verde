{
 "cells": [
  {
   "cell_type": "markdown",
   "id": "7cfead85",
   "metadata": {},
   "source": [
    "## CNN: Fine-Tunning com HDC"
   ]
  },
  {
   "cell_type": "markdown",
   "id": "ea93977e",
   "metadata": {},
   "source": [
    "### Imports"
   ]
  },
  {
   "cell_type": "code",
   "execution_count": null,
   "id": "a6e5039a",
   "metadata": {},
   "outputs": [],
   "source": [
    "from modules import utils, globals\n",
    "import torch\n",
    "from modules import encoders\n",
    "from binhd.classifiers import BinHD\n",
    "from modules.cifake import Cifake\n",
    "import numpy as np\n",
    "import pandas as pd\n",
    "from sklearn.model_selection import train_test_split\n",
    "from sklearn.calibration import LabelEncoder\n",
    "from modules.encoders import RecordEncoder\n",
    "from sklearn.metrics import classification_report"
   ]
  },
  {
   "cell_type": "markdown",
   "id": "9fe6b71f",
   "metadata": {},
   "source": [
    "### Carregando features e labels do modelo pré-treinado"
   ]
  },
  {
   "cell_type": "code",
   "execution_count": 2,
   "id": "5f46367d",
   "metadata": {},
   "outputs": [],
   "source": [
    "features = np.load('features.npy', mmap_mode='r')\n",
    "labels = np.load('labels.npy', mmap_mode='r')"
   ]
  },
  {
   "cell_type": "markdown",
   "id": "b7904265",
   "metadata": {},
   "source": [
    "### Instanciando a classe Cifake"
   ]
  },
  {
   "cell_type": "code",
   "execution_count": 3,
   "id": "87a25bd7",
   "metadata": {},
   "outputs": [
    {
     "name": "stdout",
     "output_type": "stream",
     "text": [
      "Número de samples: 5000\n",
      "Classes encontradas:         feat_0    feat_1    feat_2    feat_3    feat_4    feat_5    feat_6  \\\n",
      "0     1.275530  0.511700  0.316328  0.512983  0.419070  2.798556  0.381312   \n",
      "1     0.783416  0.740631  1.052051  0.829430  0.354067  1.125743  0.059947   \n",
      "2     1.658858  0.690397  0.531623  0.387227  0.063034  0.624954  0.011755   \n",
      "3     0.493961  1.512607  0.857241  0.345536  0.647262  1.664678  1.051863   \n",
      "4     1.212295  0.884584  0.540168  0.812452  1.249039  0.794421  1.210231   \n",
      "...        ...       ...       ...       ...       ...       ...       ...   \n",
      "4995  0.850414  1.955287  1.282537  0.515612  1.812142  1.640769  0.844919   \n",
      "4996  0.078288  0.561694  0.763691  0.943355  0.600272  1.874586  0.322577   \n",
      "4997  1.739780  0.491048  2.848875  0.527449  1.496410  2.979135  0.714684   \n",
      "4998  0.284801  1.177762  2.298618  0.818732  2.214477  2.153216  0.404426   \n",
      "4999  1.731809  0.139465  0.019743  1.590314  0.921707  0.660200  1.757970   \n",
      "\n",
      "        feat_7    feat_8    feat_9  ...  feat_502  feat_503  feat_504  \\\n",
      "0     0.271866  2.196771  0.249951  ...  1.514967  0.734066  0.874244   \n",
      "1     0.412686  0.393404  0.549018  ...  0.828292  1.564718  0.022192   \n",
      "2     2.032142  1.644502  0.113784  ...  0.255204  0.510200  0.607873   \n",
      "3     0.507816  0.494231  1.055082  ...  1.606357  1.986923  0.278613   \n",
      "4     0.291341  0.666535  1.154632  ...  1.225790  2.003055  2.025314   \n",
      "...        ...       ...       ...  ...       ...       ...       ...   \n",
      "4995  1.384073  0.763242  1.151205  ...  0.170531  2.477265  0.805558   \n",
      "4996  0.456926  1.507642  1.066386  ...  0.257370  0.690546  0.481128   \n",
      "4997  1.653440  0.473943  0.488903  ...  0.869479  0.328860  1.988965   \n",
      "4998  0.350969  1.136611  0.714349  ...  0.664334  0.770122  0.145435   \n",
      "4999  0.872371  0.762442  0.532226  ...  0.246873  1.092641  0.806837   \n",
      "\n",
      "      feat_505  feat_506  feat_507  feat_508  feat_509  feat_510  feat_511  \n",
      "0     0.877756  0.500376  1.029402  0.709116  0.485059  0.354622  2.823485  \n",
      "1     1.311160  2.123537  0.297606  1.027342  0.987567  0.132429  0.450421  \n",
      "2     0.952714  1.189800  0.016684  1.253585  0.299808  0.248928  0.536960  \n",
      "3     0.968573  2.100973  0.012996  1.288909  0.379958  1.155137  0.073730  \n",
      "4     0.845225  0.001110  1.898208  0.520395  1.721240  0.503066  0.748672  \n",
      "...        ...       ...       ...       ...       ...       ...       ...  \n",
      "4995  0.229764  2.109875  2.226961  1.291174  0.491881  0.473212  1.593073  \n",
      "4996  1.800946  0.550865  0.890378  1.825801  0.019165  0.100474  1.537836  \n",
      "4997  1.137323  0.608219  0.354329  0.350900  0.397438  1.903799  4.242708  \n",
      "4998  0.192510  0.638731  0.763614  0.586501  1.184872  2.188020  1.232466  \n",
      "4999  1.337016  1.775577  0.393786  0.196657  0.518458  0.209846  0.760984  \n",
      "\n",
      "[5000 rows x 512 columns]\n"
     ]
    }
   ],
   "source": [
    "cifake = Cifake()\n",
    "# Verifica as amostras e classes\n",
    "print(f\"Número de samples: {len(cifake.samples)}\")\n",
    "print(f\"Classes encontradas: {cifake.features}\")"
   ]
  },
  {
   "cell_type": "markdown",
   "id": "aeafde15",
   "metadata": {},
   "source": [
    "### Valores mínimo e máximo das features numéricas"
   ]
  },
  {
   "cell_type": "code",
   "execution_count": 4,
   "id": "7f3599a9",
   "metadata": {},
   "outputs": [
    {
     "name": "stdout",
     "output_type": "stream",
     "text": [
      "0.0 9.64875602722168\n"
     ]
    }
   ],
   "source": [
    "min_val, max_val = cifake.get_min_max_values()\n",
    "print(min_val, max_val)"
   ]
  },
  {
   "cell_type": "markdown",
   "id": "cd362225",
   "metadata": {},
   "source": [
    "### Definindo hiperparâmetros"
   ]
  },
  {
   "cell_type": "code",
   "execution_count": 5,
   "id": "0e1f5fea",
   "metadata": {},
   "outputs": [],
   "source": [
    "dimension = 10000\n",
    "num_levels = 100\n",
    "low = min_val\n",
    "high = max_val\n",
    "oper = \"bind\""
   ]
  },
  {
   "cell_type": "markdown",
   "id": "9ecdfda5",
   "metadata": {},
   "source": [
    "### Definindo X e y"
   ]
  },
  {
   "cell_type": "code",
   "execution_count": 6,
   "id": "0ff67439",
   "metadata": {},
   "outputs": [
    {
     "name": "stdout",
     "output_type": "stream",
     "text": [
      "(5000, 512)\n",
      "[dtype('float32')]\n"
     ]
    }
   ],
   "source": [
    "X = cifake.features\n",
    "print(X.shape)\n",
    "print(X.dtypes.unique())\n",
    "\n",
    "y = cifake.labels\n",
    "le = LabelEncoder()\n",
    "y_encoded = torch.tensor(le.fit_transform(y))\n"
   ]
  },
  {
   "cell_type": "markdown",
   "id": "e03a0124",
   "metadata": {},
   "source": [
    "### Carregando o modelo BinHD"
   ]
  },
  {
   "cell_type": "code",
   "execution_count": 7,
   "id": "07d5d33c",
   "metadata": {},
   "outputs": [
    {
     "name": "stdout",
     "output_type": "stream",
     "text": [
      "feat_0      float32\n",
      "feat_1      float32\n",
      "feat_2      float32\n",
      "feat_3      float32\n",
      "feat_4      float32\n",
      "             ...   \n",
      "feat_507    float32\n",
      "feat_508    float32\n",
      "feat_509    float32\n",
      "feat_510    float32\n",
      "feat_511    float32\n",
      "Length: 512, dtype: object\n"
     ]
    }
   ],
   "source": [
    "model = BinHD(dimension, cifake.num_classes)\n",
    "print(X.dtypes)"
   ]
  },
  {
   "cell_type": "markdown",
   "id": "932396e2",
   "metadata": {},
   "source": [
    "### Record Encoder\n",
    "\n",
    "O RecordEncoder é responsável por codificar entradas contínuas em representações hiperdimensionais binárias ou densas. Ele recebe como entrada a dimensionalidade de saída (out_features), que define o tamanho dos vetores hiperdimensionais gerados. Além disso, utiliza o parâmetro size, que representa o número de atributos de entrada, e levels, que determina quantos níveis serão usados para discretizar os dados. Os parâmetros low e high definem os limites inferior e superior dos valores de entrada."
   ]
  },
  {
   "cell_type": "code",
   "execution_count": 8,
   "id": "de23842f",
   "metadata": {},
   "outputs": [],
   "source": [
    "record_encoder = RecordEncoder(\n",
    "            out_features=dimension,\n",
    "            size=X.shape[1], \n",
    "            levels=num_levels,\n",
    "            low=low,\n",
    "            high=high\n",
    "        )\n"
   ]
  },
  {
   "cell_type": "markdown",
   "id": "b5957b81",
   "metadata": {},
   "source": [
    "A função run_encoders processa os dados em lotes, onde os dados de entrada são convertidos em tensores, codificados pelo record_encoder, e armazenados em uma lista para serem concatenados no final, retornando todos os vetores codificados."
   ]
  },
  {
   "cell_type": "code",
   "execution_count": null,
   "id": "444a99ec",
   "metadata": {},
   "outputs": [],
   "source": [
    "def run_encoders(X, device, record_encoder):\n",
    "\n",
    "    assert isinstance(X, pd.DataFrame), \"X precisa ser um DataFrame\"\n",
    "    assert not X.isnull().values.any(), \"X contém valores NaN\"\n",
    "    assert device in [\"cuda\", \"cpu\"], f\"Dispositivo inválido: {device}\"\n",
    "\n",
    "    encoded_batches = []\n",
    "\n",
    "    record_encoder.to(device)\n",
    "    record_encoder.eval()\n",
    "\n",
    "    num_samples = len(X)\n",
    "\n",
    "    with torch.no_grad():\n",
    "        for i in range(0, num_samples, globals.BATCH_SIZE):\n",
    "            end = min(i + globals.BATCH_SIZE, num_samples)\n",
    "\n",
    "            x_batch_np = X.iloc[i:end].values.astype(np.float32)\n",
    "\n",
    "            try:\n",
    "                x_batch_tensor = torch.tensor(x_batch_np).to(device)\n",
    "            except Exception as e:\n",
    "                print(f\"Erro ao converter batch {i}-{end} para tensor: {e}\")\n",
    "                continue\n",
    "\n",
    "            try:\n",
    "                encoded = record_encoder(x_batch_tensor)\n",
    "                encoded_batches.append(encoded.cpu())\n",
    "            except Exception as e:\n",
    "                print(f\"Erro ao codificar batch {i}-{end}: {e}\")\n",
    "                continue\n",
    "\n",
    "            print(f\"\\rProcessando amostras {i} até {end}\", end='', flush=True)\n",
    "\n",
    "    if encoded_batches != []:\n",
    "        encoded_all = torch.cat(encoded_batches, dim=0)\n",
    "    else:\n",
    "        raise RuntimeError(\"Nenhum batch foi codificado com sucesso.\")\n",
    "\n",
    "    return encoded_all\n"
   ]
  },
  {
   "cell_type": "markdown",
   "id": "d2f8cd99",
   "metadata": {},
   "source": [
    "### Separando em treino e teste e rodando o encoder"
   ]
  },
  {
   "cell_type": "code",
   "execution_count": 11,
   "id": "e54edbf9",
   "metadata": {},
   "outputs": [
    {
     "name": "stdout",
     "output_type": "stream",
     "text": [
      "Processando amostras 4992 até 5000"
     ]
    },
    {
     "name": "stderr",
     "output_type": "stream",
     "text": [
      "/tmp/ipykernel_8193/2993563554.py:4: UserWarning: To copy construct from a tensor, it is recommended to use sourceTensor.detach().clone() or sourceTensor.detach().clone().requires_grad_(True), rather than torch.tensor(sourceTensor).\n",
      "  y_encoded = torch.tensor(y_encoded).to(globals.DEVICE)\n"
     ]
    }
   ],
   "source": [
    "X_record_encoder = run_encoders(X, globals.DEVICE, record_encoder)\n",
    "labels = torch.tensor(y).to(globals.DEVICE)\n",
    "\n",
    "y_encoded = torch.tensor(y_encoded).to(globals.DEVICE)\n",
    "\n",
    "X_train, X_test, y_train, y_test = train_test_split(X_record_encoder, labels, test_size=0.3, random_state = 0)"
   ]
  },
  {
   "cell_type": "markdown",
   "id": "08a5cc35",
   "metadata": {},
   "source": [
    "### Treinando o modelo"
   ]
  },
  {
   "cell_type": "code",
   "execution_count": 28,
   "id": "ecd0ad45",
   "metadata": {},
   "outputs": [
    {
     "name": "stderr",
     "output_type": "stream",
     "text": [
      "/tmp/ipykernel_8193/3941384730.py:5: DeprecationWarning: __array__ implementation doesn't accept a copy keyword, so passing copy=False failed. __array__ must implement 'dtype' and 'copy' keyword arguments.\n",
      "  y_pred_np = np.array(predictions)\n",
      "/tmp/ipykernel_8193/3941384730.py:6: DeprecationWarning: __array__ implementation doesn't accept a copy keyword, so passing copy=False failed. __array__ must implement 'dtype' and 'copy' keyword arguments.\n",
      "  y_test_np = np.array(y_test)\n"
     ]
    }
   ],
   "source": [
    "with torch.no_grad():\n",
    "    model.fit(X_train,y_train)\n",
    "    predictions = model.predict(X_test.to(torch.int8))  \n",
    "\n",
    "y_pred_np = np.array(predictions)\n",
    "y_test_np = np.array(y_test) \n"
   ]
  },
  {
   "cell_type": "markdown",
   "id": "48f9ce25",
   "metadata": {},
   "source": [
    "### Resultados e Conclusões"
   ]
  },
  {
   "cell_type": "code",
   "execution_count": null,
   "id": "4d849518",
   "metadata": {},
   "outputs": [
    {
     "name": "stdout",
     "output_type": "stream",
     "text": [
      "              precision    recall  f1-score   support\n",
      "\n",
      "           0       0.51      0.14      0.22       777\n",
      "           1       0.48      0.86      0.62       723\n",
      "\n",
      "    accuracy                           0.48      1500\n",
      "   macro avg       0.49      0.50      0.42      1500\n",
      "weighted avg       0.49      0.48      0.41      1500\n",
      "\n"
     ]
    }
   ],
   "source": [
    "print(classification_report(\n",
    "    y_test_np, y_pred_np,\n",
    "    labels=np.unique(y_test)\n",
    "))"
   ]
  }
 ],
 "metadata": {
  "kernelspec": {
   "display_name": "Python 3",
   "language": "python",
   "name": "python3"
  },
  "language_info": {
   "codemirror_mode": {
    "name": "ipython",
    "version": 3
   },
   "file_extension": ".py",
   "mimetype": "text/x-python",
   "name": "python",
   "nbconvert_exporter": "python",
   "pygments_lexer": "ipython3",
   "version": "3.10.12"
  }
 },
 "nbformat": 4,
 "nbformat_minor": 5
}
