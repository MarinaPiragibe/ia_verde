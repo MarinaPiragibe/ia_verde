{
 "cells": [
  {
   "cell_type": "markdown",
   "id": "7cfead85",
   "metadata": {},
   "source": [
    "## CNN: Fine-Tunning com Wisard"
   ]
  },
  {
   "cell_type": "markdown",
   "id": "ea93977e",
   "metadata": {},
   "source": [
    "### Imports"
   ]
  },
  {
   "cell_type": "code",
   "execution_count": 3,
   "id": "a6e5039a",
   "metadata": {},
   "outputs": [],
   "source": [
    "import wisardpkg as wp\n",
    "from sklearn.metrics import classification_report\n",
    "from sklearn.model_selection import train_test_split\n",
    "import numpy as np\n",
    "from modules.termometro import codificador_termometro"
   ]
  },
  {
   "cell_type": "code",
   "execution_count": 2,
   "id": "0ca8cc3c",
   "metadata": {},
   "outputs": [
    {
     "name": "stdout",
     "output_type": "stream",
     "text": [
      "(5000, 512)\n"
     ]
    }
   ],
   "source": [
    "features = np.load('features.npy', mmap_mode='r')\n",
    "labels = np.load('labels.npy', mmap_mode='r')\n",
    "print(features.shape)"
   ]
  },
  {
   "cell_type": "code",
   "execution_count": 4,
   "id": "1df77218",
   "metadata": {},
   "outputs": [],
   "source": [
    "n_bits = 16\n",
    "X_encoded_parts = []\n",
    "\n",
    "# Aplica termômetro para cada feature\n",
    "for i in range(features.shape[1]):\n",
    "    coluna = features[:, i]\n",
    "    coded = codificador_termometro(coluna, n_bits)\n",
    "    X_encoded_parts.append(coded)\n",
    "\n",
    "# Concatena todas as colunas codificadas horizontalmente\n",
    "X_final_binary = np.hstack(X_encoded_parts).astype(np.uint8)\n"
   ]
  },
  {
   "cell_type": "code",
   "execution_count": 5,
   "id": "9ed7c0bc",
   "metadata": {},
   "outputs": [
    {
     "name": "stdout",
     "output_type": "stream",
     "text": [
      "\n",
      "Primeiros 5 rótulos de y (como strings): ['1', '0', '0', '0', '1']\n",
      "\n",
      "Dimensão de X após todas as codificações: (5000, 8192)\n",
      "Tipo dos elementos de X_final_binary: uint8\n",
      "Primeiras 2 linhas de X_final_binary:\n",
      " [[1 1 1 ... 0 0 0]\n",
      " [1 1 1 ... 0 0 0]]\n"
     ]
    }
   ],
   "source": [
    "# Se os rótulos não estiverem em string ainda:\n",
    "y_str = labels.astype(str).tolist()\n",
    "\n",
    "print(f\"\\nPrimeiros 5 rótulos de y (como strings): {y_str[:5]}\")\n",
    "\n",
    "X_encoded_uint8 = X_final_binary.astype(np.uint8)\n",
    "\n",
    "print(f\"\\nDimensão de X após todas as codificações: {X_encoded_uint8.shape}\")\n",
    "print(f\"Tipo dos elementos de X_final_binary: {X_encoded_uint8.dtype}\")\n",
    "print(\"Primeiras 2 linhas de X_final_binary:\\n\", X_encoded_uint8[:2])\n"
   ]
  },
  {
   "cell_type": "code",
   "execution_count": 6,
   "id": "105c3799",
   "metadata": {},
   "outputs": [
    {
     "name": "stdout",
     "output_type": "stream",
     "text": [
      "Tamanho do conjunto de treino (X_train): 3500 amostras, 8192 bits\n",
      "Tamanho do conjunto de teste (X_test): 1500 amostras, 8192 bits\n",
      "Tipo dos elementos de X_train: uint8\n"
     ]
    }
   ],
   "source": [
    "X_train, X_test, y_train, y_test = train_test_split(\n",
    "    X_final_binary, y_str, test_size=0.3, random_state=42, stratify=y_str\n",
    ")\n",
    "\n",
    "print(f\"Tamanho do conjunto de treino (X_train): {X_train.shape[0]} amostras, {X_train.shape[1]} bits\")\n",
    "print(f\"Tamanho do conjunto de teste (X_test): {X_test.shape[0]} amostras, {X_test.shape[1]} bits\")\n",
    "print(f\"Tipo dos elementos de X_train: {X_train.dtype}\")"
   ]
  },
  {
   "cell_type": "code",
   "execution_count": 8,
   "id": "988658ea",
   "metadata": {},
   "outputs": [
    {
     "name": "stdout",
     "output_type": "stream",
     "text": [
      "WiSARD inicializado com addressSize=8\n"
     ]
    }
   ],
   "source": [
    "addressSize = 8\n",
    "wsd = wp.Wisard(addressSize, ignoreZero=False, verbose=True)\n",
    "\n",
    "print(f\"WiSARD inicializado com addressSize={addressSize}\")\n",
    "wsd.train(X_train, y_train)\n",
    "\n",
    "predictions_str = wsd.classify(X_test)\n",
    "\n",
    "y_pred_np = np.array(predictions_str)\n",
    "y_test_np = np.array(y_test) \n"
   ]
  },
  {
   "cell_type": "code",
   "execution_count": 10,
   "id": "0343939e",
   "metadata": {},
   "outputs": [
    {
     "name": "stdout",
     "output_type": "stream",
     "text": [
      "              precision    recall  f1-score   support\n",
      "\n",
      "           0       0.84      0.95      0.89       773\n",
      "           1       0.94      0.81      0.87       727\n",
      "\n",
      "    accuracy                           0.88      1500\n",
      "   macro avg       0.89      0.88      0.88      1500\n",
      "weighted avg       0.89      0.88      0.88      1500\n",
      "\n"
     ]
    }
   ],
   "source": [
    "print(classification_report(\n",
    "    y_test_np, y_pred_np,\n",
    "    labels=np.unique(y_test)\n",
    "))"
   ]
  }
 ],
 "metadata": {
  "kernelspec": {
   "display_name": "Python 3",
   "language": "python",
   "name": "python3"
  },
  "language_info": {
   "codemirror_mode": {
    "name": "ipython",
    "version": 3
   },
   "file_extension": ".py",
   "mimetype": "text/x-python",
   "name": "python",
   "nbconvert_exporter": "python",
   "pygments_lexer": "ipython3",
   "version": "3.10.12"
  }
 },
 "nbformat": 4,
 "nbformat_minor": 5
}
