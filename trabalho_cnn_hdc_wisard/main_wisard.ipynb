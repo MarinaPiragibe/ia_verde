{
 "cells": [
  {
   "cell_type": "markdown",
   "id": "7cfead85",
   "metadata": {},
   "source": [
    "## CNN: Fine-Tunning com Wisard"
   ]
  },
  {
   "cell_type": "markdown",
   "id": "ea93977e",
   "metadata": {},
   "source": [
    "### Imports"
   ]
  },
  {
   "cell_type": "code",
   "execution_count": 7,
   "id": "a6e5039a",
   "metadata": {},
   "outputs": [],
   "source": [
    "import wisardpkg as wp\n",
    "from sklearn.metrics import classification_report\n",
    "from sklearn.model_selection import train_test_split\n",
    "import numpy as np\n",
    "from modules.termometro import codificador_termometro"
   ]
  },
  {
   "cell_type": "markdown",
   "id": "b43cf992",
   "metadata": {},
   "source": [
    "### Carregando features e labels do modelo pré-treinado"
   ]
  },
  {
   "cell_type": "code",
   "execution_count": 8,
   "id": "0ca8cc3c",
   "metadata": {},
   "outputs": [
    {
     "name": "stdout",
     "output_type": "stream",
     "text": [
      "(10000, 512)\n"
     ]
    }
   ],
   "source": [
    "features = np.load('features.npy', mmap_mode='r')\n",
    "labels = np.load('labels.npy', mmap_mode='r')\n",
    "print(features.shape)"
   ]
  },
  {
   "cell_type": "markdown",
   "id": "872c7657",
   "metadata": {},
   "source": [
    "### Binarização dos Atributos para o WiSARD usando o Termômetro"
   ]
  },
  {
   "cell_type": "code",
   "execution_count": 9,
   "id": "1df77218",
   "metadata": {},
   "outputs": [],
   "source": [
    "n_bits = 8\n",
    "X_encoded_parts = []\n",
    "\n",
    "# Aplica termômetro para cada feature\n",
    "for i in range(features.shape[1]):\n",
    "    coluna = features[:, i]\n",
    "    coded = codificador_termometro(coluna, n_bits)\n",
    "    X_encoded_parts.append(coded)\n",
    "\n",
    "# Concatena todas as colunas codificadas horizontalmente\n",
    "X_final_binary = np.hstack(X_encoded_parts).astype(np.uint8)\n"
   ]
  },
  {
   "cell_type": "markdown",
   "id": "90413191",
   "metadata": {},
   "source": [
    "### Dividindo os Dados em Treino e Teste"
   ]
  },
  {
   "cell_type": "code",
   "execution_count": 10,
   "id": "9ed7c0bc",
   "metadata": {},
   "outputs": [
    {
     "name": "stdout",
     "output_type": "stream",
     "text": [
      "\n",
      "Primeiros 5 rótulos de y (como strings): ['0', '1', '1', '0', '0']\n",
      "\n",
      "Dimensão de X após todas as codificações: (10000, 4096)\n",
      "Tipo dos elementos de X_final_binary: uint8\n",
      "Primeiras 2 linhas de X_final_binary:\n",
      " [[1 0 0 ... 0 0 0]\n",
      " [1 0 0 ... 0 0 0]]\n"
     ]
    }
   ],
   "source": [
    "# Se os rótulos não estiverem em string ainda:\n",
    "y_str = labels.astype(str).tolist()\n",
    "\n",
    "print(f\"\\nPrimeiros 5 rótulos de y (como strings): {y_str[:5]}\")\n",
    "\n",
    "X_encoded_uint8 = X_final_binary.astype(np.uint8)\n",
    "\n",
    "print(f\"\\nDimensão de X após todas as codificações: {X_encoded_uint8.shape}\")\n",
    "print(f\"Tipo dos elementos de X_final_binary: {X_encoded_uint8.dtype}\")\n",
    "print(\"Primeiras 2 linhas de X_final_binary:\\n\", X_encoded_uint8[:2])\n"
   ]
  },
  {
   "cell_type": "code",
   "execution_count": 11,
   "id": "105c3799",
   "metadata": {},
   "outputs": [
    {
     "name": "stdout",
     "output_type": "stream",
     "text": [
      "Tamanho do conjunto de treino (X_train): 7000 amostras, 4096 bits\n",
      "Tamanho do conjunto de teste (X_test): 3000 amostras, 4096 bits\n",
      "Tipo dos elementos de X_train: uint8\n"
     ]
    }
   ],
   "source": [
    "X_train, X_test, y_train, y_test = train_test_split(\n",
    "    X_final_binary, y_str, test_size=0.3, random_state=42, stratify=y_str\n",
    ")\n",
    "\n",
    "print(f\"Tamanho do conjunto de treino (X_train): {X_train.shape[0]} amostras, {X_train.shape[1]} bits\")\n",
    "print(f\"Tamanho do conjunto de teste (X_test): {X_test.shape[0]} amostras, {X_test.shape[1]} bits\")\n",
    "print(f\"Tipo dos elementos de X_train: {X_train.dtype}\")"
   ]
  },
  {
   "cell_type": "markdown",
   "id": "349f6fe5",
   "metadata": {},
   "source": [
    "### Treinamento do Modelo WiSARD"
   ]
  },
  {
   "cell_type": "code",
   "execution_count": 12,
   "id": "988658ea",
   "metadata": {},
   "outputs": [
    {
     "name": "stdout",
     "output_type": "stream",
     "text": [
      "WiSARD inicializado com addressSize=8\n"
     ]
    }
   ],
   "source": [
    "addressSize = 8\n",
    "wsd = wp.Wisard(addressSize, ignoreZero=False, verbose=True)\n",
    "\n",
    "print(f\"WiSARD inicializado com addressSize={addressSize}\")\n",
    "wsd.train(X_train, y_train)\n",
    "\n",
    "predictions_str = wsd.classify(X_test)\n",
    "\n",
    "y_pred_np = np.array(predictions_str)\n",
    "y_test_np = np.array(y_test) \n"
   ]
  },
  {
   "cell_type": "markdown",
   "id": "b38789ca",
   "metadata": {},
   "source": [
    "### Resultados e Conclusões\n",
    "\n",
    "O modelo da WiSARD obteve melhores resultados se comparado ao de HDC mas ainda inferior ao da CNN original. No caso da WiSARD no entanto foi possível realizar a execução com 10000 amostras, talvez isso tenha influênciado no seu melhor resultado. No entanto, também houveram limitações por conta da máquina que estava executando o modelo, por conta da quantidade de memória RAM disponível (8 Gbytes)"
   ]
  },
  {
   "cell_type": "code",
   "execution_count": 14,
   "id": "0343939e",
   "metadata": {},
   "outputs": [
    {
     "name": "stdout",
     "output_type": "stream",
     "text": [
      "              precision    recall  f1-score   support\n",
      "\n",
      "           0       0.80      0.91      0.85      1478\n",
      "           1       0.90      0.79      0.84      1522\n",
      "\n",
      "    accuracy                           0.84      3000\n",
      "   macro avg       0.85      0.85      0.84      3000\n",
      "weighted avg       0.85      0.84      0.84      3000\n",
      "\n"
     ]
    }
   ],
   "source": [
    "print(classification_report(\n",
    "    y_test_np, y_pred_np,\n",
    "    labels=np.unique(y_test)\n",
    "))"
   ]
  }
 ],
 "metadata": {
  "kernelspec": {
   "display_name": "Python 3",
   "language": "python",
   "name": "python3"
  },
  "language_info": {
   "codemirror_mode": {
    "name": "ipython",
    "version": 3
   },
   "file_extension": ".py",
   "mimetype": "text/x-python",
   "name": "python",
   "nbconvert_exporter": "python",
   "pygments_lexer": "ipython3",
   "version": "3.10.12"
  }
 },
 "nbformat": 4,
 "nbformat_minor": 5
}
