{
 "cells": [
  {
   "cell_type": "code",
   "execution_count": 6,
   "id": "dc6fb9bc",
   "metadata": {},
   "outputs": [],
   "source": [
    "import torch\n",
    "from datasets.car_evaluation import CarEvaluation\n",
    "from binhd.embeddings import CategoricalEncoder\n",
    "from module.record_encoder import RecordEncoder\n",
    "from binhd.classifiers import BinHD\n",
    "from sklearn.metrics import accuracy_score\n",
    "from sklearn.model_selection import train_test_split\n",
    "import torchhd\n",
    "from module.model import EncodersModel\n",
    "\n"
   ]
  },
  {
   "cell_type": "code",
   "execution_count": 7,
   "id": "8103a006",
   "metadata": {},
   "outputs": [
    {
     "name": "stdout",
     "output_type": "stream",
     "text": [
      "Using cpu device\n"
     ]
    }
   ],
   "source": [
    "device = torch.device(\"cuda\" if torch.cuda.is_available() else \"cpu\")\n",
    "print(\"Using {} device\".format(device))"
   ]
  },
  {
   "cell_type": "code",
   "execution_count": 8,
   "id": "369ec71a",
   "metadata": {},
   "outputs": [],
   "source": [
    "from datasets.dermatology import Dermatology\n",
    "\n",
    "\n",
    "dataset = Dermatology()\n",
    "dimension = 1000\n",
    "num_levels = 500\n",
    "batch_size = 1000\n",
    "low = 0\n",
    "high = num_levels\n",
    "oper = \"bind\""
   ]
  },
  {
   "cell_type": "code",
   "execution_count": 9,
   "id": "ce82d2c8",
   "metadata": {},
   "outputs": [
    {
     "name": "stdout",
     "output_type": "stream",
     "text": [
      "0 75.0\n"
     ]
    },
    {
     "name": "stderr",
     "output_type": "stream",
     "text": [
      "/home/marinapiragibe/.local/lib/python3.10/site-packages/sklearn/preprocessing/_label.py:110: DataConversionWarning: A column-vector y was passed when a 1d array was expected. Please change the shape of y to (n_samples, ), for example using ravel().\n",
      "  y = column_or_1d(y, warn=True)\n"
     ]
    }
   ],
   "source": [
    "from sklearn.calibration import LabelEncoder\n",
    "\n",
    "min_val, max_val = dataset.get_min_max_values()\n",
    "print(min_val, max_val)\n",
    "\n",
    "X = dataset.features[dataset.categorical_features]\n",
    "num_categories_per_feature = [X[col].nunique() for col in X.columns]\n",
    "\n",
    "y = dataset.targets\n",
    "le = LabelEncoder()\n",
    "y_encoded = torch.tensor(le.fit_transform(y))\n",
    "\n",
    "categorical_encoder = CategoricalEncoder(dimension)\n",
    "X = categorical_encoder.fit_transform(X)"
   ]
  },
  {
   "cell_type": "code",
   "execution_count": 10,
   "id": "41a1656e",
   "metadata": {},
   "outputs": [
    {
     "name": "stdout",
     "output_type": "stream",
     "text": [
      "family history    int32\n",
      "dtype: object\n",
      "BinHD Record Encoder: Accuracy =  0.24545454545454545\n",
      "BinHD Ngram Encoder: Accuracy =  0.24545454545454545\n"
     ]
    },
    {
     "name": "stderr",
     "output_type": "stream",
     "text": [
      "/tmp/ipykernel_163306/130417587.py:6: UserWarning: To copy construct from a tensor, it is recommended to use sourceTensor.detach().clone() or sourceTensor.detach().clone().requires_grad_(True), rather than torch.tensor(sourceTensor).\n",
      "  y_encoded = torch.tensor(y_encoded).to(device)\n",
      "/home/marinapiragibe/ia_verde/trabalho_hdc/module/model.py:41: UserWarning: To copy construct from a tensor, it is recommended to use sourceTensor.detach().clone() or sourceTensor.detach().clone().requires_grad_(True), rather than torch.tensor(sourceTensor).\n",
      "  self.labels = torch.tensor(y).to(device)\n"
     ]
    }
   ],
   "source": [
    "model = BinHD(dimension, dataset.num_classes)\n",
    "\n",
    "encorders_model = EncodersModel(model)\n",
    "encorders_model.start_encoders(X, dimension, num_levels, low, high)\n",
    "\n",
    "y_encoded = torch.tensor(y_encoded).to(device)\n",
    "encorders_model.run_encoders(X, y_encoded, device, oper)\n",
    "encorders_model.split_train_test()\n",
    "encorders_model.run_all_types()\n"
   ]
  }
 ],
 "metadata": {
  "kernelspec": {
   "display_name": "Python 3",
   "language": "python",
   "name": "python3"
  },
  "language_info": {
   "codemirror_mode": {
    "name": "ipython",
    "version": 3
   },
   "file_extension": ".py",
   "mimetype": "text/x-python",
   "name": "python",
   "nbconvert_exporter": "python",
   "pygments_lexer": "ipython3",
   "version": "3.10.12"
  }
 },
 "nbformat": 4,
 "nbformat_minor": 5
}
