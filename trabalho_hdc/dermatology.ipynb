{
 "cells": [
  {
   "cell_type": "code",
   "execution_count": 1,
   "id": "dc6fb9bc",
   "metadata": {},
   "outputs": [],
   "source": [
    "import torch\n",
    "from datasets.car_evaluation import CarEvaluation\n",
    "from binhd.embeddings import CategoricalEncoder\n",
    "from module.record_encoder import RecordEncoder\n",
    "from binhd.classifiers import BinHD\n",
    "from sklearn.metrics import accuracy_score\n",
    "from sklearn.model_selection import train_test_split\n",
    "import torchhd\n",
    "from module.model import EncodersModel\n",
    "\n"
   ]
  },
  {
   "cell_type": "code",
   "execution_count": 2,
   "id": "8103a006",
   "metadata": {},
   "outputs": [
    {
     "name": "stdout",
     "output_type": "stream",
     "text": [
      "Using cpu device\n"
     ]
    }
   ],
   "source": [
    "device = torch.device(\"cuda\" if torch.cuda.is_available() else \"cpu\")\n",
    "print(\"Using {} device\".format(device))"
   ]
  },
  {
   "cell_type": "code",
   "execution_count": 3,
   "id": "369ec71a",
   "metadata": {},
   "outputs": [],
   "source": [
    "from datasets.dermatology import Dermatology\n",
    "\n",
    "\n",
    "dataset = Dermatology()\n",
    "dimension = 5000\n",
    "num_levels = 500\n",
    "batch_size = 1000\n",
    "low = 0\n",
    "high = num_levels\n",
    "oper = \"bind\""
   ]
  },
  {
   "cell_type": "code",
   "execution_count": 6,
   "id": "ce82d2c8",
   "metadata": {},
   "outputs": [
    {
     "name": "stdout",
     "output_type": "stream",
     "text": [
      "0 75.0\n",
      "     erythema  scaling  definite-borders  itching  koebner phenomenon  \\\n",
      "0           2        2                 0        3                   0   \n",
      "1           3        3                 3        2                   1   \n",
      "2           2        1                 2        3                   1   \n",
      "3           2        2                 2        0                   0   \n",
      "4           2        3                 2        2                   2   \n",
      "..        ...      ...               ...      ...                 ...   \n",
      "361         2        1                 1        0                   1   \n",
      "362         3        2                 1        0                   1   \n",
      "363         3        2                 2        2                   3   \n",
      "364         2        1                 3        1                   2   \n",
      "365         3        2                 2        0                   0   \n",
      "\n",
      "     polygonal papules  follicular papules  oral-mucosal involvement  \\\n",
      "0                    0                   0                         0   \n",
      "1                    0                   0                         0   \n",
      "2                    3                   0                         3   \n",
      "3                    0                   0                         0   \n",
      "4                    2                   0                         2   \n",
      "..                 ...                 ...                       ...   \n",
      "361                  0                   0                         0   \n",
      "362                  0                   0                         0   \n",
      "363                  2                   0                         2   \n",
      "364                  3                   0                         2   \n",
      "365                  0                   0                         0   \n",
      "\n",
      "     knee elbow involvement  scalp involvement  ...  focal hypergranulosis  \\\n",
      "0                         1                  0  ...                      0   \n",
      "1                         1                  1  ...                      0   \n",
      "2                         0                  0  ...                      2   \n",
      "3                         3                  2  ...                      0   \n",
      "4                         0                  0  ...                      2   \n",
      "..                      ...                ...  ...                    ...   \n",
      "361                       0                  0  ...                      0   \n",
      "362                       0                  0  ...                      0   \n",
      "363                       0                  0  ...                      3   \n",
      "364                       0                  0  ...                      3   \n",
      "365                       3                  3  ...                      0   \n",
      "\n",
      "     disappearance of the granular layer  \\\n",
      "0                                      0   \n",
      "1                                      0   \n",
      "2                                      0   \n",
      "3                                      3   \n",
      "4                                      2   \n",
      "..                                   ...   \n",
      "361                                    0   \n",
      "362                                    1   \n",
      "363                                    0   \n",
      "364                                    0   \n",
      "365                                    2   \n",
      "\n",
      "     vacuolisation and damage of the basal layer  spongiosis  \\\n",
      "0                                              0           3   \n",
      "1                                              0           0   \n",
      "2                                              2           3   \n",
      "3                                              0           0   \n",
      "4                                              3           2   \n",
      "..                                           ...         ...   \n",
      "361                                            0           1   \n",
      "362                                            0           1   \n",
      "363                                            3           0   \n",
      "364                                            2           0   \n",
      "365                                            0           0   \n",
      "\n",
      "     saw-tooth appearance of retes  follicular horn plug  \\\n",
      "0                                0                     0   \n",
      "1                                0                     0   \n",
      "2                                2                     0   \n",
      "3                                0                     0   \n",
      "4                                3                     0   \n",
      "..                             ...                   ...   \n",
      "361                              0                     0   \n",
      "362                              0                     0   \n",
      "363                              3                     0   \n",
      "364                              1                     0   \n",
      "365                              0                     0   \n",
      "\n",
      "     perifollicular parakeratosis  inflammatory monoluclear infiltrate  \\\n",
      "0                               0                                    1   \n",
      "1                               0                                    1   \n",
      "2                               0                                    2   \n",
      "3                               0                                    3   \n",
      "4                               0                                    2   \n",
      "..                            ...                                  ...   \n",
      "361                             0                                    2   \n",
      "362                             0                                    2   \n",
      "363                             0                                    2   \n",
      "364                             0                                    2   \n",
      "365                             0                                    3   \n",
      "\n",
      "     band-like infiltrate   age  \n",
      "0                       0  55.0  \n",
      "1                       0   8.0  \n",
      "2                       3  26.0  \n",
      "3                       0  40.0  \n",
      "4                       3  45.0  \n",
      "..                    ...   ...  \n",
      "361                     0  25.0  \n",
      "362                     0  36.0  \n",
      "363                     3  28.0  \n",
      "364                     3  50.0  \n",
      "365                     0  35.0  \n",
      "\n",
      "[366 rows x 34 columns]\n"
     ]
    },
    {
     "name": "stderr",
     "output_type": "stream",
     "text": [
      "/home/marinapiragibe/.local/lib/python3.10/site-packages/sklearn/preprocessing/_label.py:110: DataConversionWarning: A column-vector y was passed when a 1d array was expected. Please change the shape of y to (n_samples, ), for example using ravel().\n",
      "  y = column_or_1d(y, warn=True)\n"
     ]
    }
   ],
   "source": [
    "from sklearn.calibration import LabelEncoder\n",
    "\n",
    "min_val, max_val = dataset.get_min_max_values()\n",
    "print(min_val, max_val)\n",
    "\n",
    "X = dataset.features\n",
    "\n",
    "y = dataset.targets\n",
    "le = LabelEncoder()\n",
    "y_encoded = torch.tensor(le.fit_transform(y))\n",
    "\n",
    "print(X)"
   ]
  },
  {
   "cell_type": "code",
   "execution_count": 7,
   "id": "41a1656e",
   "metadata": {},
   "outputs": [
    {
     "name": "stderr",
     "output_type": "stream",
     "text": [
      "/tmp/ipykernel_1184/130417587.py:6: UserWarning: To copy construct from a tensor, it is recommended to use sourceTensor.detach().clone() or sourceTensor.detach().clone().requires_grad_(True), rather than torch.tensor(sourceTensor).\n",
      "  y_encoded = torch.tensor(y_encoded).to(device)\n",
      "/home/marinapiragibe/ia_verde/trabalho_hdc/module/model.py:41: UserWarning: To copy construct from a tensor, it is recommended to use sourceTensor.detach().clone() or sourceTensor.detach().clone().requires_grad_(True), rather than torch.tensor(sourceTensor).\n",
      "  self.labels = torch.tensor(y).to(device)\n"
     ]
    },
    {
     "name": "stdout",
     "output_type": "stream",
     "text": [
      "erythema                                         int64\n",
      "scaling                                          int64\n",
      "definite-borders                                 int64\n",
      "itching                                          int64\n",
      "koebner phenomenon                               int64\n",
      "polygonal papules                                int64\n",
      "follicular papules                               int64\n",
      "oral-mucosal involvement                         int64\n",
      "knee elbow involvement                           int64\n",
      "scalp involvement                                int64\n",
      "family history                                   int64\n",
      "melanin incontinence                             int64\n",
      "eosinophils in the infiltrate                    int64\n",
      "pnl infiltrate                                   int64\n",
      "fibrosis of the papillary dermis                 int64\n",
      "exocytosis                                       int64\n",
      "acanthosis                                       int64\n",
      "hyperkeratosis                                   int64\n",
      "parakeratosis                                    int64\n",
      "clubbing of the rete ridges                      int64\n",
      "elongation of the rete ridges                    int64\n",
      "thinning of the suprapapillary epidermis         int64\n",
      "spongiform pustule                               int64\n",
      "munro microabcess                                int64\n",
      "focal hypergranulosis                            int64\n",
      "disappearance of the granular layer              int64\n",
      "vacuolisation and damage of the basal layer      int64\n",
      "spongiosis                                       int64\n",
      "saw-tooth appearance of retes                    int64\n",
      "follicular horn plug                             int64\n",
      "perifollicular parakeratosis                     int64\n",
      "inflammatory monoluclear infiltrate              int64\n",
      "band-like infiltrate                             int64\n",
      "age                                            float64\n",
      "dtype: object\n",
      "BinHD Record Encoder: Accuracy =  0.20909090909090908\n",
      "BinHD Ngram Encoder: Accuracy =  0.18181818181818182\n"
     ]
    }
   ],
   "source": [
    "model = BinHD(dimension, dataset.num_classes)\n",
    "\n",
    "encorders_model = EncodersModel(model)\n",
    "encorders_model.start_encoders(X, dimension, num_levels, low, high)\n",
    "\n",
    "y_encoded = torch.tensor(y_encoded).to(device)\n",
    "encorders_model.run_encoders(X, y_encoded, device, oper)\n",
    "encorders_model.split_train_test()\n",
    "encorders_model.run_all_types()\n"
   ]
  }
 ],
 "metadata": {
  "kernelspec": {
   "display_name": "Python 3",
   "language": "python",
   "name": "python3"
  },
  "language_info": {
   "codemirror_mode": {
    "name": "ipython",
    "version": 3
   },
   "file_extension": ".py",
   "mimetype": "text/x-python",
   "name": "python",
   "nbconvert_exporter": "python",
   "pygments_lexer": "ipython3",
   "version": "3.10.12"
  }
 },
 "nbformat": 4,
 "nbformat_minor": 5
}
