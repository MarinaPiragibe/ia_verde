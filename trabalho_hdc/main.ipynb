{
 "cells": [
  {
   "cell_type": "code",
   "execution_count": 11,
   "id": "dc6fb9bc",
   "metadata": {},
   "outputs": [],
   "source": [
    "import torch\n",
    "from datasets.car_evaluation import CarEvaluation\n",
    "from binhd.embeddings import CategoricalEncoder\n",
    "from binhd.datasets import BaseDataset\n",
    "from torch.utils.data import DataLoader\n",
    "from module.record_encoder import RecordEncoder\n",
    "from binhd.classifiers import BinHD\n",
    "import torchmetrics"
   ]
  },
  {
   "cell_type": "code",
   "execution_count": 2,
   "id": "8103a006",
   "metadata": {},
   "outputs": [
    {
     "name": "stdout",
     "output_type": "stream",
     "text": [
      "Using cpu device\n"
     ]
    }
   ],
   "source": [
    "device = torch.device(\"cuda\" if torch.cuda.is_available() else \"cpu\")\n",
    "print(\"Using {} device\".format(device))"
   ]
  },
  {
   "cell_type": "code",
   "execution_count": 3,
   "id": "369ec71a",
   "metadata": {},
   "outputs": [],
   "source": [
    "dataset = CarEvaluation()\n",
    "dimension = 1000\n",
    "num_levels = 100\n",
    "batch_size = 1000"
   ]
  },
  {
   "cell_type": "code",
   "execution_count": 4,
   "id": "ce82d2c8",
   "metadata": {},
   "outputs": [],
   "source": [
    "X = dataset.features[dataset.categorical_features]\n",
    "\n",
    "categorical_encoder = CategoricalEncoder(dimension)\n",
    "X = categorical_encoder.fit_transform(X)"
   ]
  },
  {
   "cell_type": "code",
   "execution_count": 5,
   "id": "a88559a2",
   "metadata": {},
   "outputs": [],
   "source": [
    "from sklearn.model_selection import train_test_split\n",
    "\n",
    "\n",
    "y = list(dataset.labels)\n",
    "y = torch.tensor(y).squeeze().to(device)\n",
    "X_train, X_test, y_train, y_test = train_test_split(X, y, test_size=0.3, random_state = 0)  \n",
    "\n",
    "train_dataset = BaseDataset(X_train.values, y_train)\n",
    "test_dataset = BaseDataset(X_test.values, y_test)\n",
    "\n",
    "train_loader = DataLoader(train_dataset, batch_size=batch_size)\n",
    "test_loader = DataLoader(test_dataset, batch_size=batch_size)"
   ]
  },
  {
   "cell_type": "code",
   "execution_count": 6,
   "id": "1f37e236",
   "metadata": {},
   "outputs": [],
   "source": [
    "record_encode = RecordEncoder(dimension, dataset.num_features, num_levels)\n",
    "record_encode = record_encode.to(device)"
   ]
  },
  {
   "cell_type": "code",
   "execution_count": 10,
   "id": "ea5b7ad3",
   "metadata": {},
   "outputs": [
    {
     "name": "stderr",
     "output_type": "stream",
     "text": [
      "/tmp/ipykernel_83230/401827750.py:3: UserWarning: To copy construct from a tensor, it is recommended to use sourceTensor.detach().clone() or sourceTensor.detach().clone().requires_grad_(True), rather than torch.tensor(sourceTensor).\n",
      "  labels = torch.tensor(y).squeeze().to(device)\n"
     ]
    }
   ],
   "source": [
    "with torch.no_grad():\n",
    "    samples = torch.tensor(X.values).to(device)\n",
    "    labels = torch.tensor(y).squeeze().to(device)\n",
    "\n",
    "    X_hv = record_encode(samples)"
   ]
  },
  {
   "cell_type": "code",
   "execution_count": 7,
   "id": "41a1656e",
   "metadata": {},
   "outputs": [],
   "source": [
    "model = BinHD(dimension, dataset.num_classes)"
   ]
  },
  {
   "cell_type": "code",
   "execution_count": 14,
   "id": "2eb6138f",
   "metadata": {},
   "outputs": [],
   "source": [
    "X_train, X_test, y_train, y_test = train_test_split(X_hv, labels, test_size=0.3, random_state = 0)  "
   ]
  },
  {
   "cell_type": "code",
   "execution_count": 15,
   "id": "48f451c5",
   "metadata": {},
   "outputs": [
    {
     "name": "stdout",
     "output_type": "stream",
     "text": [
      "BinHD: Accuracy =  0.22736030828516376\n"
     ]
    },
    {
     "name": "stderr",
     "output_type": "stream",
     "text": [
      "fit:   0%|          | 0/30 [00:00<?, ?it/s]"
     ]
    },
    {
     "name": "stderr",
     "output_type": "stream",
     "text": [
      "fit: 100%|██████████| 30/30 [00:00<00:00, 34.19it/s]"
     ]
    },
    {
     "name": "stdout",
     "output_type": "stream",
     "text": [
      "BinHD - Adapt: Accuracy =  0.15606936416184972\n"
     ]
    },
    {
     "name": "stderr",
     "output_type": "stream",
     "text": [
      "\n"
     ]
    }
   ],
   "source": [
    "from sklearn.metrics import accuracy_score\n",
    "\n",
    "\n",
    "with torch.no_grad():\n",
    "    model.fit(X_train,y_train)\n",
    "    predictions = model.predict(X_test)  \n",
    "    acc = accuracy_score(predictions, y_test)\n",
    "    print(\"BinHD: Accuracy = \", acc)\n",
    "\n",
    "    model.fit_adapt(X_train,y_train)\n",
    "    predictions = model.predict(X_test)  \n",
    "    acc = accuracy_score(predictions, y_test)\n",
    "    print(\"BinHD - Adapt: Accuracy = \", acc)"
   ]
  }
 ],
 "metadata": {
  "kernelspec": {
   "display_name": "Python 3",
   "language": "python",
   "name": "python3"
  },
  "language_info": {
   "codemirror_mode": {
    "name": "ipython",
    "version": 3
   },
   "file_extension": ".py",
   "mimetype": "text/x-python",
   "name": "python",
   "nbconvert_exporter": "python",
   "pygments_lexer": "ipython3",
   "version": "3.10.12"
  }
 },
 "nbformat": 4,
 "nbformat_minor": 5
}
