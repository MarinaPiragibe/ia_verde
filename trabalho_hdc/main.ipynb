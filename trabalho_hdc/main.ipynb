{
 "cells": [
  {
   "cell_type": "code",
   "execution_count": 10,
   "id": "dc6fb9bc",
   "metadata": {},
   "outputs": [],
   "source": [
    "import torch\n",
    "from datasets.car_evaluation import CarEvaluation\n",
    "from binhd.embeddings import CategoricalEncoder\n",
    "from binhd.datasets import BaseDataset\n",
    "from torch.utils.data import DataLoader\n",
    "from module.record_encoder import RecordEncoder\n",
    "from binhd.classifiers import BinHD\n",
    "import torchmetrics"
   ]
  },
  {
   "cell_type": "code",
   "execution_count": 11,
   "id": "8103a006",
   "metadata": {},
   "outputs": [
    {
     "name": "stdout",
     "output_type": "stream",
     "text": [
      "Using cpu device\n"
     ]
    }
   ],
   "source": [
    "device = torch.device(\"cuda\" if torch.cuda.is_available() else \"cpu\")\n",
    "print(\"Using {} device\".format(device))"
   ]
  },
  {
   "cell_type": "code",
   "execution_count": 12,
   "id": "369ec71a",
   "metadata": {},
   "outputs": [],
   "source": [
    "dataset = CarEvaluation()\n",
    "dimension = 1000\n",
    "num_levels = 100\n",
    "batch_size = 100"
   ]
  },
  {
   "cell_type": "code",
   "execution_count": 13,
   "id": "ce82d2c8",
   "metadata": {},
   "outputs": [],
   "source": [
    "X = dataset.features[dataset.categorical_features]\n",
    "\n",
    "categorical_encoder = CategoricalEncoder(dimension)\n",
    "X = categorical_encoder.fit_transform(X)"
   ]
  },
  {
   "cell_type": "code",
   "execution_count": 14,
   "id": "a88559a2",
   "metadata": {},
   "outputs": [],
   "source": [
    "from sklearn.model_selection import train_test_split\n",
    "\n",
    "\n",
    "y = list(dataset.labels)\n",
    "y = torch.tensor(y).squeeze().to(device)\n",
    "X_train, X_test, y_train, y_test = train_test_split(X, y, test_size=0.3, random_state = 0)  \n",
    "\n",
    "train_dataset = BaseDataset(X_train.values, y_train)\n",
    "test_dataset = BaseDataset(X_test.values, y_test)\n",
    "\n",
    "train_loader = DataLoader(train_dataset, batch_size=batch_size)\n",
    "test_loader = DataLoader(test_dataset, batch_size=batch_size)"
   ]
  },
  {
   "cell_type": "code",
   "execution_count": 15,
   "id": "1f37e236",
   "metadata": {},
   "outputs": [],
   "source": [
    "record_encode = RecordEncoder(dimension, dataset.num_features, num_levels)\n",
    "record_encode = record_encode.to(device)"
   ]
  },
  {
   "cell_type": "code",
   "execution_count": 16,
   "id": "41a1656e",
   "metadata": {},
   "outputs": [],
   "source": [
    "model = BinHD(dimension, dataset.num_classes)"
   ]
  },
  {
   "cell_type": "code",
   "execution_count": 17,
   "id": "48f451c5",
   "metadata": {},
   "outputs": [],
   "source": [
    "with torch.no_grad():\n",
    "    for samples, labels in train_loader:\n",
    "        samples = samples.to(device)\n",
    "        labels = labels.to(device)\n",
    "        samples_cat_hv = categorical_encoder(samples[:,:categorical_encoder.num_features])\n",
    "        samples_hv = record_encode(samples_cat_hv, samples[:, categorical_encoder.num_features:])\n",
    "        model.fit(samples_hv, labels)"
   ]
  },
  {
   "cell_type": "code",
   "execution_count": 18,
   "id": "920b6716",
   "metadata": {},
   "outputs": [
    {
     "name": "stdout",
     "output_type": "stream",
     "text": [
      "BinHD: Accuracy =  0.17533718049526215\n"
     ]
    }
   ],
   "source": [
    "accuracy = torchmetrics.Accuracy(\"multiclass\", num_classes=dataset.num_classes)    \n",
    "\n",
    "for samples, labels in test_loader:\n",
    "    samples = samples.to(device)\n",
    "    labels = labels.to(device)    \n",
    "    samples_cat_hv = categorical_encoder(samples[:,:categorical_encoder.num_features])\n",
    "    samples_hv = record_encode(samples_cat_hv, samples[:, categorical_encoder.num_features:])        \n",
    "    predictions = model.predict(samples_hv)  \n",
    "    accuracy.update(predictions, labels)\n",
    "\n",
    "acc = accuracy.compute().item()    \n",
    "print(\"BinHD: Accuracy = \", acc)"
   ]
  }
 ],
 "metadata": {
  "kernelspec": {
   "display_name": "Python 3",
   "language": "python",
   "name": "python3"
  },
  "language_info": {
   "codemirror_mode": {
    "name": "ipython",
    "version": 3
   },
   "file_extension": ".py",
   "mimetype": "text/x-python",
   "name": "python",
   "nbconvert_exporter": "python",
   "pygments_lexer": "ipython3",
   "version": "3.10.12"
  }
 },
 "nbformat": 4,
 "nbformat_minor": 5
}
