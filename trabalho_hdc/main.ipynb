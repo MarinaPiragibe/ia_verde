{
 "cells": [
  {
   "cell_type": "code",
   "execution_count": 107,
   "id": "dc6fb9bc",
   "metadata": {},
   "outputs": [],
   "source": [
    "import torch\n",
    "from datasets.car_evaluation import CarEvaluation\n",
    "from binhd.embeddings import CategoricalEncoder\n",
    "from binhd.datasets import BaseDataset\n",
    "from torch.utils.data import DataLoader\n",
    "from module.record_encoder import RecordEncoder\n",
    "from binhd.classifiers import BinHD\n",
    "import torchmetrics"
   ]
  },
  {
   "cell_type": "code",
   "execution_count": 108,
   "id": "8103a006",
   "metadata": {},
   "outputs": [
    {
     "name": "stdout",
     "output_type": "stream",
     "text": [
      "Using cpu device\n"
     ]
    }
   ],
   "source": [
    "device = torch.device(\"cuda\" if torch.cuda.is_available() else \"cpu\")\n",
    "print(\"Using {} device\".format(device))"
   ]
  },
  {
   "cell_type": "code",
   "execution_count": 109,
   "id": "369ec71a",
   "metadata": {},
   "outputs": [],
   "source": [
    "dataset = CarEvaluation()\n",
    "dimension = 1000\n",
    "num_levels = 100\n",
    "batch_size = 1000"
   ]
  },
  {
   "cell_type": "code",
   "execution_count": 110,
   "id": "ce82d2c8",
   "metadata": {},
   "outputs": [
    {
     "name": "stdout",
     "output_type": "stream",
     "text": [
      "tensor([2, 2, 2,  ..., 2, 1, 3])\n"
     ]
    },
    {
     "name": "stderr",
     "output_type": "stream",
     "text": [
      "/home/marinapiragibe/.local/lib/python3.10/site-packages/sklearn/preprocessing/_label.py:110: DataConversionWarning: A column-vector y was passed when a 1d array was expected. Please change the shape of y to (n_samples, ), for example using ravel().\n",
      "  y = column_or_1d(y, warn=True)\n"
     ]
    }
   ],
   "source": [
    "from sklearn.calibration import LabelEncoder\n",
    "\n",
    "\n",
    "X = dataset.features[dataset.categorical_features]\n",
    "num_categories_per_feature = [X[col].nunique() for col in X.columns]\n",
    "#print(num_categories_per_feature)\n",
    "\n",
    "y = dataset.targets\n",
    "le = LabelEncoder()\n",
    "y_encoded = torch.tensor(le.fit_transform(y))\n",
    "\n",
    "print(y_encoded)\n",
    "\n",
    "categorical_encoder = CategoricalEncoder(dimension)\n",
    "X = categorical_encoder.fit_transform(X)\n",
    "#y = categorical_encoder.fit_transform(y)\n",
    "#print(X)"
   ]
  },
  {
   "cell_type": "code",
   "execution_count": 116,
   "id": "a88559a2",
   "metadata": {},
   "outputs": [
    {
     "name": "stdout",
     "output_type": "stream",
     "text": [
      "Distribuição das classes:\n",
      "tensor([ 384,   69, 1210,   65])\n"
     ]
    },
    {
     "name": "stderr",
     "output_type": "stream",
     "text": [
      "/tmp/ipykernel_100520/1418773981.py:4: UserWarning: To copy construct from a tensor, it is recommended to use sourceTensor.detach().clone() or sourceTensor.detach().clone().requires_grad_(True), rather than torch.tensor(sourceTensor).\n",
      "  y_encoded = torch.tensor(y_encoded).to(device)\n"
     ]
    }
   ],
   "source": [
    "from sklearn.model_selection import train_test_split\n",
    "\n",
    "\n",
    "y_encoded = torch.tensor(y_encoded).to(device)\n",
    "\n",
    "print(\"Distribuição das classes:\")\n",
    "print(torch.bincount(y_encoded))"
   ]
  },
  {
   "cell_type": "code",
   "execution_count": 112,
   "id": "ea5b7ad3",
   "metadata": {},
   "outputs": [
    {
     "name": "stderr",
     "output_type": "stream",
     "text": [
      "/tmp/ipykernel_100520/1562505869.py:3: UserWarning: To copy construct from a tensor, it is recommended to use sourceTensor.detach().clone() or sourceTensor.detach().clone().requires_grad_(True), rather than torch.tensor(sourceTensor).\n",
      "  labels = torch.tensor(y_encoded).to(device)\n"
     ]
    }
   ],
   "source": [
    "with torch.no_grad():\n",
    "    samples = torch.tensor(X.values).to(device)\n",
    "    labels = torch.tensor(y_encoded).to(device)\n",
    "    X_hv = categorical_encoder(samples)\n"
   ]
  },
  {
   "cell_type": "code",
   "execution_count": 113,
   "id": "41a1656e",
   "metadata": {},
   "outputs": [],
   "source": [
    "model = BinHD(dimension, dataset.num_classes)"
   ]
  },
  {
   "cell_type": "code",
   "execution_count": 114,
   "id": "2eb6138f",
   "metadata": {},
   "outputs": [
    {
     "name": "stdout",
     "output_type": "stream",
     "text": [
      "torch.Size([1209, 1000])\n",
      "torch.Size([1209])\n",
      "BSCTensor([[1, 1, 0,  ..., 1, 0, 1],\n",
      "           [0, 1, 0,  ..., 0, 1, 0],\n",
      "           [0, 1, 1,  ..., 0, 0, 1],\n",
      "           ...,\n",
      "           [0, 1, 1,  ..., 1, 1, 1],\n",
      "           [0, 1, 1,  ..., 1, 0, 1],\n",
      "           [0, 1, 0,  ..., 1, 0, 0]], dtype=torch.int8)\n"
     ]
    }
   ],
   "source": [
    "import torchhd\n",
    "\n",
    "\n",
    "X_hv_combined = torchhd.multibundle(X_hv) \n",
    "\n",
    "X_train, X_test, y_train, y_test = train_test_split(X_hv_combined, labels, test_size=0.3, random_state = 0) \n",
    "print(X_train.shape)\n",
    "print(y_train.shape)\n",
    "print(X_train)\n"
   ]
  },
  {
   "cell_type": "code",
   "execution_count": 115,
   "id": "48f451c5",
   "metadata": {},
   "outputs": [
    {
     "name": "stdout",
     "output_type": "stream",
     "text": [
      "BinHD: Accuracy =  0.15414258188824662\n"
     ]
    },
    {
     "name": "stderr",
     "output_type": "stream",
     "text": [
      "fit:   0%|          | 0/30 [00:00<?, ?it/s]"
     ]
    },
    {
     "name": "stderr",
     "output_type": "stream",
     "text": [
      "fit: 100%|██████████| 30/30 [00:00<00:00, 52.63it/s]"
     ]
    },
    {
     "name": "stdout",
     "output_type": "stream",
     "text": [
      "BinHD - Adapt: Accuracy =  0.18497109826589594\n"
     ]
    },
    {
     "name": "stderr",
     "output_type": "stream",
     "text": [
      "\n"
     ]
    }
   ],
   "source": [
    "from sklearn.metrics import accuracy_score\n",
    "\n",
    "\n",
    "with torch.no_grad():\n",
    "    model.fit(X_train,y_train)\n",
    "    predictions = model.predict(X_test.to(torch.int8))  \n",
    "    acc = accuracy_score(predictions, y_test)\n",
    "    print(\"BinHD: Accuracy = \", acc)\n",
    "\n",
    "    model.fit_adapt(X_train,y_train)\n",
    "    predictions = model.predict(X_test)  \n",
    "    acc = accuracy_score(predictions, y_test)\n",
    "    print(\"BinHD - Adapt: Accuracy = \", acc)"
   ]
  }
 ],
 "metadata": {
  "kernelspec": {
   "display_name": "Python 3",
   "language": "python",
   "name": "python3"
  },
  "language_info": {
   "codemirror_mode": {
    "name": "ipython",
    "version": 3
   },
   "file_extension": ".py",
   "mimetype": "text/x-python",
   "name": "python",
   "nbconvert_exporter": "python",
   "pygments_lexer": "ipython3",
   "version": "3.10.12"
  }
 },
 "nbformat": 4,
 "nbformat_minor": 5
}
