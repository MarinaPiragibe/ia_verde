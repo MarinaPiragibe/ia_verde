{
 "cells": [
  {
   "cell_type": "code",
   "execution_count": null,
   "id": "dc6fb9bc",
   "metadata": {},
   "outputs": [],
   "source": [
    "import torch\n",
    "from datasets.car_evaluation import CarEvaluation\n",
    "from binhd.embeddings import CategoricalEncoder\n",
    "from module.record_encoder import RecordEncoder\n",
    "from binhd.classifiers import BinHD\n",
    "from sklearn.metrics import accuracy_score\n",
    "from sklearn.model_selection import train_test_split\n",
    "import torchhd\n",
    "\n"
   ]
  },
  {
   "cell_type": "code",
   "execution_count": 101,
   "id": "8103a006",
   "metadata": {},
   "outputs": [
    {
     "name": "stdout",
     "output_type": "stream",
     "text": [
      "Using cpu device\n"
     ]
    }
   ],
   "source": [
    "device = torch.device(\"cuda\" if torch.cuda.is_available() else \"cpu\")\n",
    "print(\"Using {} device\".format(device))"
   ]
  },
  {
   "cell_type": "code",
   "execution_count": 102,
   "id": "369ec71a",
   "metadata": {},
   "outputs": [],
   "source": [
    "dataset = CarEvaluation()\n",
    "dimension = 10000\n",
    "num_levels = 100\n",
    "batch_size = 1000\n",
    "low = 0\n",
    "high = num_levels\n",
    "oper = \"bind\""
   ]
  },
  {
   "cell_type": "code",
   "execution_count": 103,
   "id": "ce82d2c8",
   "metadata": {},
   "outputs": [
    {
     "name": "stderr",
     "output_type": "stream",
     "text": [
      "/home/marinapiragibe/.local/lib/python3.10/site-packages/sklearn/preprocessing/_label.py:110: DataConversionWarning: A column-vector y was passed when a 1d array was expected. Please change the shape of y to (n_samples, ), for example using ravel().\n",
      "  y = column_or_1d(y, warn=True)\n"
     ]
    }
   ],
   "source": [
    "from sklearn.calibration import LabelEncoder\n",
    "\n",
    "\n",
    "X = dataset.features[dataset.categorical_features]\n",
    "num_categories_per_feature = [X[col].nunique() for col in X.columns]\n",
    "\n",
    "y = dataset.targets\n",
    "le = LabelEncoder()\n",
    "y_encoded = torch.tensor(le.fit_transform(y))\n",
    "\n",
    "categorical_encoder = CategoricalEncoder(dimension)\n",
    "X = categorical_encoder.fit_transform(X)"
   ]
  },
  {
   "cell_type": "code",
   "execution_count": 104,
   "id": "f6cab8d2",
   "metadata": {},
   "outputs": [],
   "source": [
    "record_encoder = RecordEncoder(\n",
    "    out_features=dimension,\n",
    "    size=X.shape[1], \n",
    "    levels=num_levels,\n",
    "    low=low,\n",
    "    high=high\n",
    ")"
   ]
  },
  {
   "cell_type": "code",
   "execution_count": 105,
   "id": "8106d61b",
   "metadata": {},
   "outputs": [],
   "source": [
    "from module.record_encoder import NGramEncoder\n",
    "\n",
    "\n",
    "ngram_encoder = NGramEncoder(\n",
    "    out_features=dimension,\n",
    "    levels=num_levels,\n",
    "    low=low,\n",
    "    high=high\n",
    ")\n"
   ]
  },
  {
   "cell_type": "code",
   "execution_count": 106,
   "id": "a88559a2",
   "metadata": {},
   "outputs": [
    {
     "name": "stdout",
     "output_type": "stream",
     "text": [
      "Distribuição das classes:\n",
      "tensor([ 384,   69, 1210,   65])\n"
     ]
    },
    {
     "name": "stderr",
     "output_type": "stream",
     "text": [
      "/tmp/ipykernel_122040/123107557.py:1: UserWarning: To copy construct from a tensor, it is recommended to use sourceTensor.detach().clone() or sourceTensor.detach().clone().requires_grad_(True), rather than torch.tensor(sourceTensor).\n",
      "  y_encoded = torch.tensor(y_encoded).to(device)\n"
     ]
    }
   ],
   "source": [
    "y_encoded = torch.tensor(y_encoded).to(device)\n",
    "\n",
    "print(\"Distribuição das classes:\")\n",
    "print(torch.bincount(y_encoded))"
   ]
  },
  {
   "cell_type": "code",
   "execution_count": 107,
   "id": "ea5b7ad3",
   "metadata": {},
   "outputs": [
    {
     "name": "stderr",
     "output_type": "stream",
     "text": [
      "/tmp/ipykernel_122040/3748798187.py:5: UserWarning: To copy construct from a tensor, it is recommended to use sourceTensor.detach().clone() or sourceTensor.detach().clone().requires_grad_(True), rather than torch.tensor(sourceTensor).\n",
      "  labels = torch.tensor(y_encoded).to(device)\n"
     ]
    },
    {
     "name": "stdout",
     "output_type": "stream",
     "text": [
      "buying      int32\n",
      "maint       int32\n",
      "doors       int32\n",
      "persons     int32\n",
      "lug_boot    int32\n",
      "safety      int32\n",
      "dtype: object\n"
     ]
    }
   ],
   "source": [
    "with torch.no_grad():\n",
    "    print(X.dtypes)\n",
    "\n",
    "    samples = torch.tensor(X.values).to(device)\n",
    "    labels = torch.tensor(y_encoded).to(device)\n",
    "\n",
    "    # CategoricalEncoder\n",
    "    X_categorical_encoder = categorical_encoder(samples.clone())\n",
    "\n",
    "    # RecordEncoder\n",
    "    X_record_encoder = record_encoder(samples.clone())\n",
    "\n",
    "    # NGramEncoder\n",
    "    X_ngram_encoder = ngram_encoder(samples.clone(), oper=oper)\n"
   ]
  },
  {
   "cell_type": "code",
   "execution_count": 108,
   "id": "41a1656e",
   "metadata": {},
   "outputs": [],
   "source": [
    "model = BinHD(dimension, dataset.num_classes)"
   ]
  },
  {
   "cell_type": "code",
   "execution_count": 109,
   "id": "2eb6138f",
   "metadata": {},
   "outputs": [],
   "source": [
    "X_categorical_encoder_fit = torchhd.multibundle(X_categorical_encoder) \n",
    "\n",
    "X_train_categorical, X_test_categorical, y_train_categorical, y_test_categorical = train_test_split(X_categorical_encoder_fit, labels, test_size=0.3, random_state = 0) \n",
    "X_train_ngram, X_test_ngram, y_train_ngram, y_test_ngram = train_test_split(X_ngram_encoder, labels, test_size=0.3, random_state = 0) \n",
    "X_train_record, X_test_record, y_train_record, y_test_record = train_test_split(X_record_encoder, labels, test_size=0.3, random_state = 0) \n"
   ]
  },
  {
   "cell_type": "code",
   "execution_count": 110,
   "id": "48f451c5",
   "metadata": {},
   "outputs": [
    {
     "name": "stdout",
     "output_type": "stream",
     "text": [
      "BinHD Categorical Encoder: Accuracy =  0.4123314065510597\n",
      "BinHD Record Encoder: Accuracy =  0.31021194605009633\n",
      "BinHD Ngram Encoder: Accuracy =  0.26204238921001927\n"
     ]
    }
   ],
   "source": [
    "with torch.no_grad():\n",
    "\n",
    "    model.fit(X_train_categorical,y_train_categorical)\n",
    "    predictions = model.predict(X_test_categorical.to(torch.int8))  \n",
    "    acc = accuracy_score(predictions, y_test_categorical)\n",
    "    print(\"BinHD Categorical Encoder: Accuracy = \", acc)\n",
    "\n",
    "    model.fit(X_train_record,y_train_record)\n",
    "    predictions = model.predict(X_test_record.to(torch.int8))  \n",
    "    acc = accuracy_score(predictions, y_test_record)\n",
    "    print(\"BinHD Record Encoder: Accuracy = \", acc)\n",
    "\n",
    "    model.fit(X_train_ngram,y_train_ngram)\n",
    "    predictions = model.predict(X_test_ngram.to(torch.int8))  \n",
    "    acc = accuracy_score(predictions, y_test_ngram)\n",
    "    print(\"BinHD Ngram Encoder: Accuracy = \", acc)\n"
   ]
  }
 ],
 "metadata": {
  "kernelspec": {
   "display_name": "Python 3",
   "language": "python",
   "name": "python3"
  },
  "language_info": {
   "codemirror_mode": {
    "name": "ipython",
    "version": 3
   },
   "file_extension": ".py",
   "mimetype": "text/x-python",
   "name": "python",
   "nbconvert_exporter": "python",
   "pygments_lexer": "ipython3",
   "version": "3.10.12"
  }
 },
 "nbformat": 4,
 "nbformat_minor": 5
}
