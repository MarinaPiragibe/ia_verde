{
 "cells": [
  {
   "cell_type": "code",
   "execution_count": 1,
   "id": "dc6fb9bc",
   "metadata": {},
   "outputs": [],
   "source": [
    "import torch\n",
    "from binhd.embeddings import CategoricalEncoder\n",
    "from binhd.classifiers import BinHD\n",
    "from module.model import EncodersModel\n",
    "from datasets.zoo import Zoo"
   ]
  },
  {
   "cell_type": "code",
   "execution_count": 2,
   "id": "8103a006",
   "metadata": {},
   "outputs": [
    {
     "name": "stdout",
     "output_type": "stream",
     "text": [
      "Using cpu device\n"
     ]
    }
   ],
   "source": [
    "device = torch.device(\"cuda\" if torch.cuda.is_available() else \"cpu\")\n",
    "print(\"Using {} device\".format(device))"
   ]
  },
  {
   "cell_type": "code",
   "execution_count": 3,
   "id": "369ec71a",
   "metadata": {},
   "outputs": [],
   "source": [
    "dataset = Zoo()\n",
    "dimension = 1000\n",
    "num_levels = 100\n",
    "batch_size = 1000\n",
    "low = 0\n",
    "high = num_levels\n",
    "oper = \"bind\""
   ]
  },
  {
   "cell_type": "code",
   "execution_count": 6,
   "id": "ce82d2c8",
   "metadata": {},
   "outputs": [
    {
     "name": "stderr",
     "output_type": "stream",
     "text": [
      "/home/marinapiragibe/.local/lib/python3.10/site-packages/binhd/embeddings.py:160: FutureWarning: Setting an item of incompatible dtype is deprecated and will raise in a future error of pandas. Value '[1 1 0 1 1 1 1 0 0 1 1 0 0 0 0 0 0 1 0 0 0 0 1 0 0 0 0 1 1 1 0 1 1 0 0 1 1\n",
      " 0 0 1 1 0 0 0 1 1 0 1 1 1 1 1 0 0 1 1 0 0 0 0 0 0 0 1 1 1 0 1 1 1 1 0 0 0\n",
      " 1 1 0 0 0 0 0 0 0 0 1 0 0 0 0 0 0 0 0 1 1 0 1 1 1 0 0]' has dtype incompatible with int32, please explicitly cast to a compatible dtype first.\n",
      "  data.iloc[:, i] = encoder.fit_transform(data.iloc[:, i])\n",
      "/home/marinapiragibe/.local/lib/python3.10/site-packages/binhd/embeddings.py:160: FutureWarning: Setting an item of incompatible dtype is deprecated and will raise in a future error of pandas. Value '[0 0 0 0 0 0 0 0 0 0 0 1 0 0 0 0 1 0 0 0 1 1 0 1 0 0 0 0 0 0 0 0 0 1 0 0 0\n",
      " 1 0 0 0 1 0 1 0 0 0 0 0 0 0 0 0 0 0 0 1 1 1 1 0 0 0 0 0 0 0 0 0 0 0 1 0 0\n",
      " 0 0 0 0 1 1 0 0 0 1 0 0 0 1 0 0 0 0 0 0 0 1 0 0 0 0 1]' has dtype incompatible with int32, please explicitly cast to a compatible dtype first.\n",
      "  data.iloc[:, i] = encoder.fit_transform(data.iloc[:, i])\n",
      "/home/marinapiragibe/.local/lib/python3.10/site-packages/binhd/embeddings.py:160: FutureWarning: Setting an item of incompatible dtype is deprecated and will raise in a future error of pandas. Value '[0 0 1 0 0 0 0 1 1 0 0 1 1 1 1 1 1 0 1 0 1 1 0 1 1 1 1 0 0 0 1 0 0 1 1 0 0\n",
      " 1 1 1 1 1 1 1 0 0 1 0 0 0 0 1 1 1 0 0 1 1 1 1 1 1 1 1 0 0 0 0 0 0 0 1 0 1\n",
      " 0 0 0 1 1 1 1 1 1 1 0 1 1 1 1 1 1 1 1 0 0 1 0 1 0 1 1]' has dtype incompatible with int32, please explicitly cast to a compatible dtype first.\n",
      "  data.iloc[:, i] = encoder.fit_transform(data.iloc[:, i])\n",
      "/home/marinapiragibe/.local/lib/python3.10/site-packages/binhd/embeddings.py:160: FutureWarning: Setting an item of incompatible dtype is deprecated and will raise in a future error of pandas. Value '[1 1 0 1 1 1 1 0 0 1 1 0 0 0 0 0 0 1 0 1 0 0 1 0 0 0 0 1 1 1 0 1 1 0 0 1 1\n",
      " 0 0 0 0 0 0 0 1 1 0 1 1 1 1 0 0 0 1 1 0 0 0 0 0 0 0 1 1 1 1 1 1 1 1 0 0 0\n",
      " 1 1 0 0 0 0 0 0 0 0 1 0 0 0 0 0 0 0 0 1 1 0 1 0 1 0 0]' has dtype incompatible with int32, please explicitly cast to a compatible dtype first.\n",
      "  data.iloc[:, i] = encoder.fit_transform(data.iloc[:, i])\n",
      "/home/marinapiragibe/.local/lib/python3.10/site-packages/binhd/embeddings.py:160: FutureWarning: Setting an item of incompatible dtype is deprecated and will raise in a future error of pandas. Value '[0 0 0 0 0 0 0 0 0 0 0 1 0 0 0 0 1 0 0 0 1 1 0 1 0 0 0 1 0 0 1 0 0 1 0 0 0\n",
      " 1 0 1 1 0 1 1 0 0 0 0 0 0 0 1 0 0 0 0 0 1 0 1 0 0 0 0 0 0 0 0 0 0 0 0 0 0\n",
      " 0 0 0 0 1 1 0 0 0 1 0 0 0 1 0 0 0 0 0 1 0 1 0 1 0 0 1]' has dtype incompatible with int32, please explicitly cast to a compatible dtype first.\n",
      "  data.iloc[:, i] = encoder.fit_transform(data.iloc[:, i])\n",
      "/home/marinapiragibe/.local/lib/python3.10/site-packages/binhd/embeddings.py:160: FutureWarning: Setting an item of incompatible dtype is deprecated and will raise in a future error of pandas. Value '[0 0 1 0 0 0 0 1 1 0 0 0 1 0 1 1 0 0 1 1 0 1 0 0 0 1 1 0 0 0 0 0 0 1 1 0 0\n",
      " 0 1 0 0 0 0 0 0 0 1 0 1 0 0 0 1 1 0 0 0 0 1 0 1 1 0 1 0 0 1 0 0 0 0 0 0 1\n",
      " 1 1 1 1 1 1 0 0 1 0 0 1 1 1 0 1 0 0 1 0 0 0 0 0 0 0 0]' has dtype incompatible with int32, please explicitly cast to a compatible dtype first.\n",
      "  data.iloc[:, i] = encoder.fit_transform(data.iloc[:, i])\n",
      "/home/marinapiragibe/.local/lib/python3.10/site-packages/binhd/embeddings.py:160: FutureWarning: Setting an item of incompatible dtype is deprecated and will raise in a future error of pandas. Value '[1 0 1 1 1 0 0 0 1 0 1 0 1 1 1 1 1 0 1 1 0 0 0 0 0 1 1 0 0 1 0 0 0 1 0 0 0\n",
      " 1 1 0 0 1 1 0 1 1 1 1 1 1 1 0 1 1 1 0 0 0 1 0 1 1 1 1 1 0 1 1 1 1 0 1 1 0\n",
      " 1 1 1 1 1 1 1 0 0 0 0 1 1 0 0 0 0 1 1 0 0 1 0 0 1 0 0]' has dtype incompatible with int32, please explicitly cast to a compatible dtype first.\n",
      "  data.iloc[:, i] = encoder.fit_transform(data.iloc[:, i])\n",
      "/home/marinapiragibe/.local/lib/python3.10/site-packages/binhd/embeddings.py:160: FutureWarning: Setting an item of incompatible dtype is deprecated and will raise in a future error of pandas. Value '[1 1 1 1 1 1 1 1 1 1 1 0 1 0 0 0 0 1 1 1 0 0 1 0 0 1 1 1 1 1 0 1 1 0 1 1 1\n",
      " 0 1 0 0 0 0 0 1 1 0 1 1 1 1 0 1 0 1 1 0 0 0 0 1 1 1 0 1 1 1 1 1 1 1 0 0 1\n",
      " 1 1 1 0 0 0 1 0 1 0 1 0 1 0 0 1 0 1 1 1 1 0 1 0 1 0 0]' has dtype incompatible with int32, please explicitly cast to a compatible dtype first.\n",
      "  data.iloc[:, i] = encoder.fit_transform(data.iloc[:, i])\n",
      "/home/marinapiragibe/.local/lib/python3.10/site-packages/binhd/embeddings.py:160: FutureWarning: Setting an item of incompatible dtype is deprecated and will raise in a future error of pandas. Value '[1 1 1 1 1 1 1 1 1 1 1 1 1 0 0 0 1 1 1 1 1 1 1 1 0 1 1 1 1 1 0 1 1 1 1 1 1\n",
      " 1 1 0 0 1 0 1 1 1 0 1 1 1 1 0 1 0 1 1 1 1 1 1 1 1 1 1 1 1 1 1 1 1 1 1 0 1\n",
      " 1 1 1 0 1 1 1 0 1 1 1 0 1 1 0 1 1 1 1 1 1 1 1 0 1 0 1]' has dtype incompatible with int32, please explicitly cast to a compatible dtype first.\n",
      "  data.iloc[:, i] = encoder.fit_transform(data.iloc[:, i])\n",
      "/home/marinapiragibe/.local/lib/python3.10/site-packages/sklearn/preprocessing/_label.py:110: DataConversionWarning: A column-vector y was passed when a 1d array was expected. Please change the shape of y to (n_samples, ), for example using ravel().\n",
      "  y = column_or_1d(y, warn=True)\n"
     ]
    }
   ],
   "source": [
    "from sklearn.calibration import LabelEncoder\n",
    "\n",
    "X = dataset.features\n",
    "\n",
    "categorical_features = X[dataset.categorical_features]\n",
    "num_categories_per_feature = [categorical_features[col].nunique() for col in categorical_features.columns]\n",
    "categorical_encoder = CategoricalEncoder(dimension)\n",
    "X[dataset.categorical_features] = categorical_encoder.fit_transform(categorical_features)\n",
    "\n",
    "\n",
    "y = dataset.targets\n",
    "le = LabelEncoder()\n",
    "y_encoded = torch.tensor(le.fit_transform(y))"
   ]
  },
  {
   "cell_type": "code",
   "execution_count": 7,
   "id": "41a1656e",
   "metadata": {},
   "outputs": [
    {
     "name": "stdout",
     "output_type": "stream",
     "text": [
      "hair        int32\n",
      "feathers    int32\n",
      "eggs        int32\n",
      "milk        int32\n",
      "airborne    int32\n",
      "aquatic     int32\n",
      "predator    int32\n",
      "toothed     int32\n",
      "backbone    int32\n",
      "breathes    int64\n",
      "venomous    int64\n",
      "fins        int64\n",
      "legs        int64\n",
      "tail        int64\n",
      "domestic    int64\n",
      "catsize     int64\n",
      "dtype: object\n",
      "BinHD Record Encoder: Accuracy =  0.1935483870967742\n",
      "BinHD Ngram Encoder: Accuracy =  0.9354838709677419\n"
     ]
    },
    {
     "name": "stderr",
     "output_type": "stream",
     "text": [
      "/tmp/ipykernel_12867/1936118792.py:6: UserWarning: To copy construct from a tensor, it is recommended to use sourceTensor.detach().clone() or sourceTensor.detach().clone().requires_grad_(True), rather than torch.tensor(sourceTensor).\n",
      "  y_encoded = torch.tensor(y_encoded).to(device)\n",
      "/home/marinapiragibe/ia_verde/trabalho_hdc/module/model.py:41: UserWarning: To copy construct from a tensor, it is recommended to use sourceTensor.detach().clone() or sourceTensor.detach().clone().requires_grad_(True), rather than torch.tensor(sourceTensor).\n",
      "  self.labels = torch.tensor(y).to(device)\n"
     ]
    }
   ],
   "source": [
    "model = BinHD(dimension, dataset.num_classes)\n",
    "\n",
    "encorders_model = EncodersModel(model)\n",
    "encorders_model.start_encoders(X, dimension, num_levels, low, high)\n",
    "\n",
    "y_encoded = torch.tensor(y_encoded).to(device)\n",
    "encorders_model.run_encoders(X, y_encoded, device, oper)\n",
    "encorders_model.split_train_test()\n",
    "encorders_model.run_all_types()"
   ]
  }
 ],
 "metadata": {
  "kernelspec": {
   "display_name": "Python 3",
   "language": "python",
   "name": "python3"
  },
  "language_info": {
   "codemirror_mode": {
    "name": "ipython",
    "version": 3
   },
   "file_extension": ".py",
   "mimetype": "text/x-python",
   "name": "python",
   "nbconvert_exporter": "python",
   "pygments_lexer": "ipython3",
   "version": "3.10.12"
  }
 },
 "nbformat": 4,
 "nbformat_minor": 5
}
