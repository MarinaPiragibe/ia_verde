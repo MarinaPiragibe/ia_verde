{
 "cells": [
  {
   "cell_type": "markdown",
   "id": "4308fcf2",
   "metadata": {},
   "source": [
    "#### Car Evaluation Model\n",
    "\n",
    "Descrição: O dataset contém diversas informações sobre carros, as classes unacc (unaacceptable), acc (acceptable), good, vgood (very good) e um total de 1728 intâncias\n",
    "\n",
    "Resultados: O modelo se saiu bem em todas as métricas avaliadas e saiu do treinamento antes do final das épocas pelo early stopping."
   ]
  },
  {
   "cell_type": "code",
   "execution_count": 1,
   "id": "781e89f2",
   "metadata": {},
   "outputs": [],
   "source": [
    "\n",
    "import numpy as np\n",
    "from ucimlrepo import fetch_ucirepo\n",
    "from sklearn.preprocessing import OneHotEncoder, LabelEncoder\n",
    "from sklearn.model_selection import train_test_split\n",
    "from sklearn.metrics import classification_report, confusion_matrix\n",
    "import wisardpkg as wp\n"
   ]
  },
  {
   "cell_type": "code",
   "execution_count": 2,
   "id": "0a44b76f",
   "metadata": {},
   "outputs": [
    {
     "name": "stdout",
     "output_type": "stream",
     "text": [
      "--- 1. Carregando e Inspecionando o Dataset Car Evaluation ---\n",
      "Dimensão inicial de X: (1728, 6)\n",
      "Colunas de X e seus tipos de dados:\n",
      "buying      object\n",
      "maint       object\n",
      "doors       object\n",
      "persons     object\n",
      "lug_boot    object\n",
      "safety      object\n",
      "dtype: object\n",
      "\n",
      "Primeiras 5 linhas de X:\n",
      "  buying  maint doors persons lug_boot safety\n",
      "0  vhigh  vhigh     2       2    small    low\n",
      "1  vhigh  vhigh     2       2    small    med\n",
      "2  vhigh  vhigh     2       2    small   high\n",
      "3  vhigh  vhigh     2       2      med    low\n",
      "4  vhigh  vhigh     2       2      med    med\n",
      "\n",
      "Classes de y:\n",
      "class\n",
      "unacc    1210\n",
      "acc       384\n",
      "good       69\n",
      "vgood      65\n",
      "Name: count, dtype: int64\n",
      "--------------------------------------------------\n"
     ]
    }
   ],
   "source": [
    "# --- 1. Carregar e Inspecionar o Dataset ---\n",
    "print(\"--- 1. Carregando e Inspecionando o Dataset Car Evaluation ---\")\n",
    "car_evaluation = fetch_ucirepo(id=19)\n",
    "X_original = car_evaluation.data.features\n",
    "y_original = car_evaluation.data.targets.iloc[:, 0]\n",
    "\n",
    "\n",
    "print(f\"Dimensão inicial de X: {X_original.shape}\")\n",
    "print(f\"Colunas de X e seus tipos de dados:\\n{X_original.dtypes}\")\n",
    "print(f\"\\nPrimeiras 5 linhas de X:\\n{X_original.head()}\")\n",
    "print(f\"\\nClasses de y:\\n{y_original.value_counts()}\")\n",
    "print(\"-\" * 50)"
   ]
  },
  {
   "cell_type": "code",
   "execution_count": 3,
   "id": "2f9e720d",
   "metadata": {},
   "outputs": [
    {
     "name": "stdout",
     "output_type": "stream",
     "text": [
      "--- 2. Pré-processamento: One-Hot Encoding ---\n",
      "Dimensão de X após One-Hot Encoding: (1728, 21)\n",
      "Tipo dos elementos após One-Hot Encoding: float64\n",
      "Primeiras 2 linhas de X_encoded_dense:\n",
      "[[0. 0. 0. 1. 0. 0. 0. 1. 1. 0. 0. 0. 1. 0. 0. 0. 0. 1. 0. 1. 0.]\n",
      " [0. 0. 0. 1. 0. 0. 0. 1. 1. 0. 0. 0. 1. 0. 0. 0. 0. 1. 0. 0. 1.]]\n",
      "--------------------------------------------------\n"
     ]
    }
   ],
   "source": [
    "# --- 2. Pré-processamento: One-Hot Encoding para Atributos Categóricos ---\n",
    "print(\"--- 2. Pré-processamento: One-Hot Encoding ---\")\n",
    "\n",
    "# O Car Evaluation tem todas as colunas como 'object' (categóricas).\n",
    "# O OneHotEncoder lidará com todas elas.\n",
    "encoder = OneHotEncoder(handle_unknown='ignore', sparse_output=False) # sparse_output=False retorna array denso\n",
    "# sparse_output=False é o mesmo que chamar .toarray() depois.\n",
    "# Não precisamos do .astype(int).tolist() ainda, faremos a conversão de tipo para np.uint8 depois do split.\n",
    "X_encoded_dense = encoder.fit_transform(X_original)\n",
    "\n",
    "print(f\"Dimensão de X após One-Hot Encoding: {X_encoded_dense.shape}\")\n",
    "print(f\"Tipo dos elementos após One-Hot Encoding: {X_encoded_dense.dtype}\")\n",
    "print(f\"Primeiras 2 linhas de X_encoded_dense:\\n{X_encoded_dense[:2]}\")\n",
    "print(\"-\" * 50)"
   ]
  },
  {
   "cell_type": "code",
   "execution_count": 4,
   "id": "bc5809fc",
   "metadata": {},
   "outputs": [
    {
     "name": "stdout",
     "output_type": "stream",
     "text": [
      "--- 3. Dividindo os Dados em Treino e Teste ---\n",
      "Tamanho do conjunto de treino (X_train): 518 amostras, 21 bits\n",
      "Tamanho do conjunto de teste (X_test): 1210 amostras, 21 bits\n",
      "Tipo dos elementos de X_train: uint8\n",
      "--------------------------------------------------\n"
     ]
    }
   ],
   "source": [
    "# --- 3. Divisão dos Dados em Treino e Teste ---\n",
    "print(\"--- 3. Dividindo os Dados em Treino e Teste ---\")\n",
    "\n",
    "# Para o WiSARD, os dados de entrada X devem ser do tipo np.uint8.\n",
    "# E os rótulos y devem ser strings.\n",
    "# Fazemos a conversão de tipo após o split para manter a consistência do tipo de dados.\n",
    "X_encoded_uint8 = X_encoded_dense.astype(np.uint8)\n",
    "y_str = y_original.astype(str).tolist()\n",
    "\n",
    "X_train, X_test, y_train, y_test = train_test_split(\n",
    "    X_encoded_uint8, y_str, test_size=0.7, random_state=42, stratify=y_str\n",
    ")\n",
    "\n",
    "print(f\"Tamanho do conjunto de treino (X_train): {X_train.shape[0]} amostras, {X_train.shape[1]} bits\")\n",
    "print(f\"Tamanho do conjunto de teste (X_test): {X_test.shape[0]} amostras, {X_test.shape[1]} bits\")\n",
    "print(f\"Tipo dos elementos de X_train: {X_train.dtype}\")\n",
    "print(\"-\" * 50)"
   ]
  },
  {
   "cell_type": "code",
   "execution_count": 26,
   "id": "ff44fbea",
   "metadata": {},
   "outputs": [
    {
     "name": "stdout",
     "output_type": "stream",
     "text": [
      "--- 4. Configurando e Treinando o Modelo WiSARD ---\n",
      "WiSARD inicializado com addressSize=8\n",
      "Treinando o WiSARD...\n",
      "Treinamento concluído.\n",
      "--------------------------------------------------\n",
      "--- 5. Classificação e Avaliação do Modelo WiSARD ---\n",
      "Classificando os dados de teste...\n",
      "training 261Classificação concluída.\n",
      "Relatório de Classificação:\n",
      "training 518 of 518\n",
      "classifying 58              precision    recall  f1-score   support\n",
      "\n",
      "         acc       0.70      0.66      0.68       269\n",
      "        good       0.67      0.12      0.21        48\n",
      "       unacc       0.88      0.96      0.92       847\n",
      "       vgood       0.79      0.33      0.46        46\n",
      "\n",
      "    accuracy                           0.84      1210\n",
      "   macro avg       0.76      0.52      0.57      1210\n",
      "weighted avg       0.83      0.84      0.82      1210\n",
      "\n",
      "classifying 1210 of 1210ying 624 of 1210\n"
     ]
    }
   ],
   "source": [
    "# --- 4. Configuração e Treinamento do Modelo WiSARD ---\n",
    "print(\"--- 4. Configurando e Treinando o Modelo WiSARD ---\")\n",
    "\n",
    "# addressSize (tuple_size) para o WiSARD.\n",
    "# O número de bits de entrada de X_encoded_dense para Car Evaluation é 21.\n",
    "# Um addressSize de 21 ainda é muito grande.\n",
    "# Escolha um addressSize menor, como 2, 3 ou 4.\n",
    "# Por exemplo, se X_encoded_dense tem 21 bits, e addressSize=3, teremos 21/3 = 7 RAMs por classe.\n",
    "addressSize = 8 # Ajuste este valor. 2 ou 3 são bons pontos de partida.\n",
    "\n",
    "wsd = wp.Wisard(addressSize, ignoreZero=False, verbose=True)\n",
    "\n",
    "print(f\"WiSARD inicializado com addressSize={addressSize}\")\n",
    "print(\"Treinando o WiSARD...\")\n",
    "wsd.train(X_train, y_train)\n",
    "print(\"Treinamento concluído.\")\n",
    "print(\"-\" * 50)\n",
    "\n",
    "\n",
    "# --- 5. Classificação e Avaliação do Modelo WiSARD ---\n",
    "print(\"--- 5. Classificação e Avaliação do Modelo WiSARD ---\")\n",
    "\n",
    "print(\"Classificando os dados de teste...\")\n",
    "predictions_str = wsd.classify(X_test)\n",
    "print(\"Classificação concluída.\")\n",
    "\n",
    "# Convertendo as previsões de string de volta para um array NumPy para fácil comparação\n",
    "predictions_np = np.array(predictions_str)\n",
    "y_test_np = np.array(y_test) # Converte o y_test também para numpy array para comparação elemento a elemento\n",
    "\n",
    "print(\"Relatório de Classificação:\")\n",
    "print(classification_report(\n",
    "    y_test_np, predictions_np,\n",
    "    labels=np.unique(y_test)\n",
    "))"
   ]
  }
 ],
 "metadata": {
  "kernelspec": {
   "display_name": "Python 3",
   "language": "python",
   "name": "python3"
  },
  "language_info": {
   "codemirror_mode": {
    "name": "ipython",
    "version": 3
   },
   "file_extension": ".py",
   "mimetype": "text/x-python",
   "name": "python",
   "nbconvert_exporter": "python",
   "pygments_lexer": "ipython3",
   "version": "3.10.12"
  }
 },
 "nbformat": 4,
 "nbformat_minor": 5
}
