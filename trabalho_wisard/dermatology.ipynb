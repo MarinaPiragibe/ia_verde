{
 "cells": [
  {
   "cell_type": "markdown",
   "id": "4308fcf2",
   "metadata": {},
   "source": [
    "#### Dermatology Model (WIP)\n",
    "\n",
    "Descrição: O dataset Dermatology contém atributos clínicos de pacientes para diagnosticar seis tipos diferentes de eritroderma. As classes são os seis tipos de doença de pele, numeradas de 1 a 6 e tem 366 instâncias no total."
   ]
  },
  {
   "cell_type": "markdown",
   "id": "8f3dec6c",
   "metadata": {},
   "source": [
    "### Imports"
   ]
  },
  {
   "cell_type": "code",
   "execution_count": 19,
   "id": "781e89f2",
   "metadata": {},
   "outputs": [],
   "source": [
    "\n",
    "import numpy as np\n",
    "from ucimlrepo import fetch_ucirepo\n",
    "from sklearn.preprocessing import OneHotEncoder, LabelEncoder\n",
    "from sklearn.model_selection import train_test_split\n",
    "from sklearn.metrics import classification_report, confusion_matrix\n",
    "import wisardpkg as wp\n"
   ]
  },
  {
   "cell_type": "markdown",
   "id": "5f2b3cd7",
   "metadata": {},
   "source": [
    "### Carregando o Dataset"
   ]
  },
  {
   "cell_type": "code",
   "execution_count": 25,
   "id": "0a44b76f",
   "metadata": {},
   "outputs": [
    {
     "name": "stdout",
     "output_type": "stream",
     "text": [
      "Dimensão inicial de X: (366, 34)\n",
      "\n",
      "Classes de y:\n",
      "class\n",
      "1    112\n",
      "3     72\n",
      "2     61\n",
      "5     52\n",
      "4     49\n",
      "6     20\n",
      "Name: count, dtype: int64\n"
     ]
    }
   ],
   "source": [
    "car_evaluation = fetch_ucirepo(id=33)\n",
    "X_original = car_evaluation.data.features\n",
    "y_original = car_evaluation.data.targets.iloc[:, 0]\n",
    "\n",
    "\n",
    "print(f\"Dimensão inicial de X: {X_original.shape}\")\n",
    "#print(f\"Colunas de X e seus tipos de dados:\\n{X_original.dtypes}\")\n",
    "#print(f\"\\nPrimeiras 5 linhas de X:\\n{X_original.head()}\")\n",
    "print(f\"\\nClasses de y:\\n{y_original.value_counts()}\")\n"
   ]
  },
  {
   "cell_type": "markdown",
   "id": "7a6ccdaf",
   "metadata": {},
   "source": [
    "### Binarização dos Atributos para o WiSARD usando o Termômetro"
   ]
  },
  {
   "cell_type": "code",
   "execution_count": 21,
   "id": "2f9e720d",
   "metadata": {},
   "outputs": [
    {
     "name": "stdout",
     "output_type": "stream",
     "text": [
      "[[1 1 1 ... 1 0 0]\n",
      " [1 1 1 ... 0 0 0]\n",
      " [1 1 1 ... 0 0 0]\n",
      " ...\n",
      " [1 1 1 ... 0 0 0]\n",
      " [1 1 1 ... 1 0 0]\n",
      " [1 1 1 ... 0 0 0]]\n"
     ]
    }
   ],
   "source": [
    "from module import termometro\n",
    "\n",
    "X_encoded_parts = []\n",
    "n_bits = 8 \n",
    "\n",
    "for col in X_original.columns:\n",
    "    X_encoded_parts.append(termometro.codificador_termometro(X_original[col].astype(float), n_bits))\n",
    "    #print(f\"Coluna '{col}' binarizada com {n_bits} bits (Termômetro).\")\n",
    "\n",
    "X_final_binary = np.hstack(X_encoded_parts)\n",
    "X_encoded_uint8 = X_final_binary.astype(np.uint8)\n",
    "print(X_encoded_uint8)"
   ]
  },
  {
   "cell_type": "markdown",
   "id": "50c0b165",
   "metadata": {},
   "source": [
    "### Dividindo os Dados em Treino e Teste"
   ]
  },
  {
   "cell_type": "code",
   "execution_count": 22,
   "id": "bc5809fc",
   "metadata": {},
   "outputs": [
    {
     "name": "stdout",
     "output_type": "stream",
     "text": [
      "Tamanho do conjunto de treino (X_train): 109 amostras, 272 bits\n",
      "Tamanho do conjunto de teste (X_test): 257 amostras, 272 bits\n",
      "Tipo dos elementos de X_train: uint8\n"
     ]
    }
   ],
   "source": [
    "y_str = y_original.astype(str).tolist()\n",
    "\n",
    "X_train, X_test, y_train, y_test = train_test_split(\n",
    "    X_encoded_uint8, y_str, test_size=0.7, random_state=42, stratify=y_str\n",
    ")\n",
    "\n",
    "print(f\"Tamanho do conjunto de treino (X_train): {X_train.shape[0]} amostras, {X_train.shape[1]} bits\")\n",
    "print(f\"Tamanho do conjunto de teste (X_test): {X_test.shape[0]} amostras, {X_test.shape[1]} bits\")\n",
    "print(f\"Tipo dos elementos de X_train: {X_train.dtype}\")\n"
   ]
  },
  {
   "cell_type": "markdown",
   "id": "2235c990",
   "metadata": {},
   "source": [
    "### Treinamento do Modelo WiSARD"
   ]
  },
  {
   "cell_type": "code",
   "execution_count": 23,
   "id": "ff44fbea",
   "metadata": {},
   "outputs": [
    {
     "name": "stdout",
     "output_type": "stream",
     "text": [
      "WiSARD inicializado com addressSize=16\n"
     ]
    }
   ],
   "source": [
    "addressSize = 16 \n",
    "\n",
    "wsd = wp.Wisard(addressSize, ignoreZero=False, verbose=False)\n",
    "\n",
    "print(f\"WiSARD inicializado com addressSize={addressSize}\")\n",
    "wsd.train(X_train, y_train)\n",
    "\n",
    "predictions_str = wsd.classify(X_test)\n",
    "\n",
    "y_pred_np = np.array(predictions_str)\n",
    "y_test_np = np.array(y_test)"
   ]
  },
  {
   "cell_type": "markdown",
   "id": "3faa95d9",
   "metadata": {},
   "source": [
    "### Relatório de Classificação"
   ]
  },
  {
   "cell_type": "code",
   "execution_count": 24,
   "id": "475990a2",
   "metadata": {},
   "outputs": [
    {
     "name": "stdout",
     "output_type": "stream",
     "text": [
      "              precision    recall  f1-score   support\n",
      "\n",
      "           1       1.00      1.00      1.00        79\n",
      "           2       0.87      0.93      0.90        43\n",
      "           3       1.00      0.98      0.99        51\n",
      "           4       0.91      0.85      0.88        34\n",
      "           5       0.97      1.00      0.99        36\n",
      "           6       1.00      0.93      0.96        14\n",
      "\n",
      "    accuracy                           0.96       257\n",
      "   macro avg       0.96      0.95      0.95       257\n",
      "weighted avg       0.96      0.96      0.96       257\n",
      "\n"
     ]
    }
   ],
   "source": [
    "print(classification_report(\n",
    "    y_test_np, y_pred_np,\n",
    "    labels=np.unique(y_test)\n",
    "))"
   ]
  },
  {
   "cell_type": "markdown",
   "id": "83b55eae",
   "metadata": {},
   "source": [
    "### Conclusões\n",
    "\n",
    "O modelo WiSARD performou muito bem no dataset, alcançando números significativos para as métricas de avaliação."
   ]
  }
 ],
 "metadata": {
  "kernelspec": {
   "display_name": "Python 3",
   "language": "python",
   "name": "python3"
  },
  "language_info": {
   "codemirror_mode": {
    "name": "ipython",
    "version": 3
   },
   "file_extension": ".py",
   "mimetype": "text/x-python",
   "name": "python",
   "nbconvert_exporter": "python",
   "pygments_lexer": "ipython3",
   "version": "3.10.12"
  }
 },
 "nbformat": 4,
 "nbformat_minor": 5
}
