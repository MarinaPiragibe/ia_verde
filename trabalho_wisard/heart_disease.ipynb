{
 "cells": [
  {
   "cell_type": "markdown",
   "id": "4308fcf2",
   "metadata": {},
   "source": [
    "#### Heart Disease Model (WIP)\n",
    "\n",
    "Descrição: O dataset de Heart Disease contém informações clínicas e demográficas de pacientes utilizadas para prever a presença de doença cardíaca. As classes representam o diagnóstico de doença cardíaca e variam de 0 a 4, onde 0 indica nenhuma doença e valores maiores indicam diferentes graus de presença da doença. O dataset possui um total de 303 instâncias."
   ]
  },
  {
   "cell_type": "markdown",
   "id": "5eff91ee",
   "metadata": {},
   "source": [
    "### Imports"
   ]
  },
  {
   "cell_type": "code",
   "execution_count": 1,
   "id": "781e89f2",
   "metadata": {},
   "outputs": [],
   "source": [
    "\n",
    "import numpy as np\n",
    "from ucimlrepo import fetch_ucirepo\n",
    "from sklearn.preprocessing import OneHotEncoder, LabelEncoder\n",
    "from sklearn.model_selection import train_test_split\n",
    "from sklearn.metrics import classification_report, confusion_matrix\n",
    "import wisardpkg as wp\n",
    "from imblearn.under_sampling import RandomUnderSampler\n",
    "\n"
   ]
  },
  {
   "cell_type": "markdown",
   "id": "7cbfdd8f",
   "metadata": {},
   "source": [
    "### Carregando o Dataset"
   ]
  },
  {
   "cell_type": "code",
   "execution_count": 2,
   "id": "0a44b76f",
   "metadata": {},
   "outputs": [
    {
     "name": "stdout",
     "output_type": "stream",
     "text": [
      "Dimensão inicial de X: (303, 13)\n",
      "\n",
      "Classes de y:\n",
      "num\n",
      "0    164\n",
      "1     55\n",
      "2     36\n",
      "3     35\n",
      "4     13\n",
      "Name: count, dtype: int64\n"
     ]
    }
   ],
   "source": [
    "heart_disease = fetch_ucirepo(id=45)\n",
    "X_original = heart_disease.data.features\n",
    "y_original = heart_disease.data.targets.iloc[:, 0]\n",
    "\n",
    "\n",
    "print(f\"Dimensão inicial de X: {X_original.shape}\")\n",
    "#print(f\"Colunas de X e seus tipos de dados:\\n{X_original.dtypes}\")\n",
    "#print(f\"\\nPrimeiras 5 linhas de X:\\n{X_original.head()}\")\n",
    "print(f\"\\nClasses de y:\\n{y_original.value_counts()}\")"
   ]
  },
  {
   "cell_type": "markdown",
   "id": "901a152c",
   "metadata": {},
   "source": [
    "### Pré-processamento"
   ]
  },
  {
   "cell_type": "markdown",
   "id": "2118a883",
   "metadata": {},
   "source": [
    "#### Removendo nulos"
   ]
  },
  {
   "cell_type": "code",
   "execution_count": 3,
   "id": "2f9e720d",
   "metadata": {},
   "outputs": [
    {
     "name": "stdout",
     "output_type": "stream",
     "text": [
      "ca      4\n",
      "thal    2\n",
      "dtype: int64\n",
      "\n",
      "Valores ausentes após preenchimento:\n",
      "Series([], dtype: int64)\n"
     ]
    }
   ],
   "source": [
    "print(X_original.isnull().sum()[X_original.isnull().sum() > 0])\n",
    "X_original = X_original.replace('?', np.nan)\n",
    "X_original['ca'] = X_original['ca'].fillna(X_original['ca'].mode()[0])\n",
    "X_original['thal'] = X_original['thal'].fillna(X_original['thal'].mode()[0])\n",
    "\n",
    "print(\"\\nValores ausentes após preenchimento:\")\n",
    "print(X_original.isnull().sum()[X_original.isnull().sum() > 0])\n"
   ]
  },
  {
   "cell_type": "markdown",
   "id": "81c80b3d",
   "metadata": {},
   "source": [
    "### Binarização dos Atributos para o WiSARD usando o Termômetro"
   ]
  },
  {
   "cell_type": "code",
   "execution_count": 4,
   "id": "bc5809fc",
   "metadata": {},
   "outputs": [
    {
     "ename": "ModuleNotFoundError",
     "evalue": "No module named 'module'",
     "output_type": "error",
     "traceback": [
      "\u001b[0;31m---------------------------------------------------------------------------\u001b[0m",
      "\u001b[0;31mModuleNotFoundError\u001b[0m                       Traceback (most recent call last)",
      "Cell \u001b[0;32mIn[4], line 1\u001b[0m\n\u001b[0;32m----> 1\u001b[0m \u001b[38;5;28;01mfrom\u001b[39;00m \u001b[38;5;21;01mmodule\u001b[39;00m \u001b[38;5;28;01mimport\u001b[39;00m termometro\n\u001b[1;32m      3\u001b[0m X_encoded_parts \u001b[38;5;241m=\u001b[39m []\n\u001b[1;32m      4\u001b[0m n_bits \u001b[38;5;241m=\u001b[39m \u001b[38;5;241m16\u001b[39m \n",
      "\u001b[0;31mModuleNotFoundError\u001b[0m: No module named 'module'"
     ]
    }
   ],
   "source": [
    "from module import termometro\n",
    "\n",
    "X_encoded_parts = []\n",
    "n_bits = 16 \n",
    "\n",
    "numerical_cols = ['age', 'trestbps', 'chol', 'thalach', 'oldpeak']\n",
    "\n",
    "# Binarizar colunas numéricas contínuas com Termômetro\n",
    "for col in numerical_cols:\n",
    "    X_encoded_parts.append(termometro.codificador_termometro(X_original[col].astype(float), n_bits))\n",
    "    print(f\"Coluna '{col}' binarizada com {n_bits} bits (Termômetro).\")\n",
    "\n",
    "\n",
    "\n",
    "X_final_binary = np.hstack(X_encoded_parts)\n",
    "X_encoded_uint8 = X_final_binary.astype(np.uint8)"
   ]
  },
  {
   "cell_type": "markdown",
   "id": "33fed49d",
   "metadata": {},
   "source": [
    "#### One Hot Encoding para atributos categóricos"
   ]
  },
  {
   "cell_type": "code",
   "execution_count": null,
   "id": "c98e1e61",
   "metadata": {},
   "outputs": [
    {
     "name": "stdout",
     "output_type": "stream",
     "text": [
      "Coluna 'sex' binarizada com OneHotEncoder (Dimensão: 2 bits).\n",
      "Coluna 'cp' binarizada com OneHotEncoder (Dimensão: 4 bits).\n",
      "Coluna 'fbs' binarizada com OneHotEncoder (Dimensão: 2 bits).\n",
      "Coluna 'restecg' binarizada com OneHotEncoder (Dimensão: 3 bits).\n",
      "Coluna 'exang' binarizada com OneHotEncoder (Dimensão: 2 bits).\n",
      "Coluna 'slope' binarizada com OneHotEncoder (Dimensão: 3 bits).\n",
      "Coluna 'ca' binarizada com OneHotEncoder (Dimensão: 4 bits).\n",
      "Coluna 'thal' binarizada com OneHotEncoder (Dimensão: 3 bits).\n"
     ]
    }
   ],
   "source": [
    "categorical_cols = ['sex', 'cp', 'fbs', 'restecg', 'exang', 'slope', 'ca', 'thal']\n",
    "\n",
    "# Binarizar colunas categóricas com OneHotEncoder\n",
    "for col in categorical_cols:\n",
    "    # OneHotEncoder espera 2D array, então reshape a coluna\n",
    "    onehot_encoder = OneHotEncoder(sparse_output=False, handle_unknown='ignore')\n",
    "    encoded_col = onehot_encoder.fit_transform(X_original[[col]].astype(str))\n",
    "    X_encoded_parts.append(encoded_col.astype(np.uint8))\n",
    "    print(f\"Coluna '{col}' binarizada com OneHotEncoder (Dimensão: {encoded_col.shape[1]} bits).\")"
   ]
  },
  {
   "cell_type": "markdown",
   "id": "7ee2cc99",
   "metadata": {},
   "source": [
    "#### Transformando X e y para tipos aceitos pela WiSARD"
   ]
  },
  {
   "cell_type": "code",
   "execution_count": null,
   "id": "6e5bba28",
   "metadata": {},
   "outputs": [
    {
     "name": "stdout",
     "output_type": "stream",
     "text": [
      "\n",
      "Primeiros 5 rótulos de y (como strings): ['0', '2', '1', '0', '0']\n",
      "\n",
      "Dimensão de X após todas as codificações: (303, 103)\n",
      "Tipo dos elementos de X_final_binary: uint8\n",
      "Primeiras 2 linhas de X_final_binary:\n",
      " [[1 1 1 1 1 1 1 1 1 1 1 1 0 0 0 0 1 1 1 1 1 1 1 1 0 0 0 0 0 0 0 0 1 1 1 1\n",
      "  0 0 0 0 0 0 0 0 0 0 0 0 1 1 1 1 1 1 1 1 1 1 0 0 0 0 0 0 1 1 1 1 1 1 0 0\n",
      "  0 0 0 0 0 0 0 0 0 1 1 0 0 0 0 1 0 0 1 1 0 0 0 1 1 0 0 0 0 1 0]\n",
      " [1 1 1 1 1 1 1 1 1 1 1 1 1 0 0 0 1 1 1 1 1 1 1 1 1 1 0 0 0 0 0 0 1 1 1 1\n",
      "  1 1 0 0 0 0 0 0 0 0 0 0 1 1 1 1 1 0 0 0 0 0 0 0 0 0 0 0 1 1 1 1 0 0 0 0\n",
      "  0 0 0 0 0 0 0 0 0 1 0 0 0 1 1 0 0 0 1 0 1 0 1 0 0 0 0 1 1 0 0]]\n"
     ]
    }
   ],
   "source": [
    "y_str = y_original.astype(str).tolist()\n",
    "print(f\"\\nPrimeiros 5 rótulos de y (como strings): {y_str[:5]}\")\n",
    "\n",
    "X_final_binary = np.hstack(X_encoded_parts)\n",
    "X_encoded_uint8 = X_final_binary.astype(np.uint8)\n",
    "\n",
    "print(f\"\\nDimensão de X após todas as codificações: {X_encoded_uint8.shape}\")\n",
    "print(f\"Tipo dos elementos de X_final_binary: {X_encoded_uint8.dtype}\")\n",
    "print(\"Primeiras 2 linhas de X_final_binary:\\n\", X_encoded_uint8[:2])\n"
   ]
  },
  {
   "cell_type": "markdown",
   "id": "32d72c56",
   "metadata": {},
   "source": [
    "### Dividindo os Dados em Treino e Teste"
   ]
  },
  {
   "cell_type": "code",
   "execution_count": null,
   "id": "b12220c2",
   "metadata": {},
   "outputs": [
    {
     "name": "stdout",
     "output_type": "stream",
     "text": [
      "Tamanho do conjunto de treino (X_train): 212 amostras, 103 bits\n",
      "Tamanho do conjunto de teste (X_test): 91 amostras, 103 bits\n",
      "Tipo dos elementos de X_train: uint8\n"
     ]
    }
   ],
   "source": [
    "X_train, X_test, y_train, y_test = train_test_split(\n",
    "    X_final_binary, y_str, test_size=0.3, random_state=42, stratify=y_str\n",
    ")\n",
    "\n",
    "print(f\"Tamanho do conjunto de treino (X_train): {X_train.shape[0]} amostras, {X_train.shape[1]} bits\")\n",
    "print(f\"Tamanho do conjunto de teste (X_test): {X_test.shape[0]} amostras, {X_test.shape[1]} bits\")\n",
    "print(f\"Tipo dos elementos de X_train: {X_train.dtype}\")"
   ]
  },
  {
   "cell_type": "markdown",
   "id": "b8295f2c",
   "metadata": {},
   "source": [
    "### Treinando o Modelo WiSARD"
   ]
  },
  {
   "cell_type": "code",
   "execution_count": null,
   "id": "ff44fbea",
   "metadata": {},
   "outputs": [
    {
     "name": "stdout",
     "output_type": "stream",
     "text": [
      "WiSARD inicializado com addressSize=8\n",
      "training 212 of 212\n",
      "classifying 91 of 91\n"
     ]
    }
   ],
   "source": [
    "addressSize = 8\n",
    "wsd = wp.Wisard(addressSize, ignoreZero=False, verbose=True)\n",
    "\n",
    "print(f\"WiSARD inicializado com addressSize={addressSize}\")\n",
    "wsd.train(X_train, y_train)\n",
    "\n",
    "predictions_str = wsd.classify(X_test)\n",
    "\n",
    "y_pred_np = np.array(predictions_str)\n",
    "y_test_np = np.array(y_test) "
   ]
  },
  {
   "cell_type": "markdown",
   "id": "20d6f616",
   "metadata": {},
   "source": [
    "### Relatório de Classificação"
   ]
  },
  {
   "cell_type": "code",
   "execution_count": null,
   "id": "5e8a8014",
   "metadata": {},
   "outputs": [
    {
     "name": "stdout",
     "output_type": "stream",
     "text": [
      "              precision    recall  f1-score   support\n",
      "\n",
      "           0       0.72      0.98      0.83        49\n",
      "           1       0.55      0.35      0.43        17\n",
      "           2       0.29      0.18      0.22        11\n",
      "           3       0.17      0.10      0.12        10\n",
      "           4       0.00      0.00      0.00         4\n",
      "\n",
      "    accuracy                           0.63        91\n",
      "   macro avg       0.34      0.32      0.32        91\n",
      "weighted avg       0.54      0.63      0.57        91\n",
      "\n"
     ]
    },
    {
     "name": "stderr",
     "output_type": "stream",
     "text": [
      "/usr/local/lib/python3.10/dist-packages/sklearn/metrics/_classification.py:1706: UndefinedMetricWarning: Precision is ill-defined and being set to 0.0 in labels with no predicted samples. Use `zero_division` parameter to control this behavior.\n",
      "  _warn_prf(average, modifier, f\"{metric.capitalize()} is\", result.shape[0])\n",
      "/usr/local/lib/python3.10/dist-packages/sklearn/metrics/_classification.py:1706: UndefinedMetricWarning: Precision is ill-defined and being set to 0.0 in labels with no predicted samples. Use `zero_division` parameter to control this behavior.\n",
      "  _warn_prf(average, modifier, f\"{metric.capitalize()} is\", result.shape[0])\n",
      "/usr/local/lib/python3.10/dist-packages/sklearn/metrics/_classification.py:1706: UndefinedMetricWarning: Precision is ill-defined and being set to 0.0 in labels with no predicted samples. Use `zero_division` parameter to control this behavior.\n",
      "  _warn_prf(average, modifier, f\"{metric.capitalize()} is\", result.shape[0])\n"
     ]
    }
   ],
   "source": [
    "print(classification_report(\n",
    "    y_test_np, y_pred_np,\n",
    "    labels=np.unique(y_test)\n",
    "))"
   ]
  },
  {
   "cell_type": "markdown",
   "id": "8cc75588",
   "metadata": {},
   "source": [
    "### Conclusões\n",
    "\n",
    "O modelo WiSARD não performou bem com o dataset de heart disease em nenhuma das métricas de avaliação."
   ]
  }
 ],
 "metadata": {
  "kernelspec": {
   "display_name": "Python 3",
   "language": "python",
   "name": "python3"
  },
  "language_info": {
   "codemirror_mode": {
    "name": "ipython",
    "version": 3
   },
   "file_extension": ".py",
   "mimetype": "text/x-python",
   "name": "python",
   "nbconvert_exporter": "python",
   "pygments_lexer": "ipython3",
   "version": "3.10.12"
  }
 },
 "nbformat": 4,
 "nbformat_minor": 5
}
