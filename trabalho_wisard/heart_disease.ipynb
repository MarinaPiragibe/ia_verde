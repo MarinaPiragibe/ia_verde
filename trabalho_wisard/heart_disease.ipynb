{
 "cells": [
  {
   "cell_type": "markdown",
   "id": "4308fcf2",
   "metadata": {},
   "source": [
    "#### Heart Disease Model (WIP)\n",
    "\n",
    "Descrição: "
   ]
  },
  {
   "cell_type": "code",
   "execution_count": 2,
   "id": "781e89f2",
   "metadata": {},
   "outputs": [],
   "source": [
    "\n",
    "import numpy as np\n",
    "from ucimlrepo import fetch_ucirepo\n",
    "from sklearn.preprocessing import OneHotEncoder, LabelEncoder\n",
    "from sklearn.model_selection import train_test_split\n",
    "from sklearn.metrics import classification_report, confusion_matrix\n",
    "import wisardpkg as wp\n"
   ]
  },
  {
   "cell_type": "markdown",
   "id": "7cbfdd8f",
   "metadata": {},
   "source": [
    "### Carregando o Dataset"
   ]
  },
  {
   "cell_type": "code",
   "execution_count": 42,
   "id": "0a44b76f",
   "metadata": {},
   "outputs": [
    {
     "name": "stdout",
     "output_type": "stream",
     "text": [
      "--- Carregando e Inspecionando o Dataset Dermatology ---\n",
      "Dimensão inicial de X: (303, 13)\n",
      "\n",
      "Classes de y:\n",
      "num\n",
      "0    164\n",
      "1     55\n",
      "2     36\n",
      "3     35\n",
      "4     13\n",
      "Name: count, dtype: int64\n",
      "--------------------------------------------------\n"
     ]
    }
   ],
   "source": [
    "# --- 1. Carregar e Inspecionar o Dataset ---\n",
    "print(\"--- Carregando e Inspecionando o Dataset Dermatology ---\")\n",
    "heart_disease = fetch_ucirepo(id=45)\n",
    "X_original = heart_disease.data.features\n",
    "y_original = heart_disease.data.targets.iloc[:, 0]\n",
    "\n",
    "\n",
    "print(f\"Dimensão inicial de X: {X_original.shape}\")\n",
    "#print(f\"Colunas de X e seus tipos de dados:\\n{X_original.dtypes}\")\n",
    "#print(f\"\\nPrimeiras 5 linhas de X:\\n{X_original.head()}\")\n",
    "print(f\"\\nClasses de y:\\n{y_original.value_counts()}\")\n",
    "print(\"-\" * 50)"
   ]
  },
  {
   "cell_type": "markdown",
   "id": "901a152c",
   "metadata": {},
   "source": [
    "### Pré-processamento"
   ]
  },
  {
   "cell_type": "code",
   "execution_count": 4,
   "id": "2f9e720d",
   "metadata": {},
   "outputs": [
    {
     "name": "stdout",
     "output_type": "stream",
     "text": [
      "ca      4\n",
      "thal    2\n",
      "dtype: int64\n",
      "\n",
      "Valores ausentes após preenchimento:\n",
      "Series([], dtype: int64)\n"
     ]
    }
   ],
   "source": [
    "print(X_original.isnull().sum()[X_original.isnull().sum() > 0])\n",
    "X_original = X_original.replace('?', np.nan)\n",
    "X_original['ca'] = X_original['ca'].fillna(X_original['ca'].mode()[0])\n",
    "X_original['thal'] = X_original['thal'].fillna(X_original['thal'].mode()[0])\n",
    "\n",
    "print(\"\\nValores ausentes após preenchimento:\")\n",
    "print(X_original.isnull().sum()[X_original.isnull().sum() > 0])\n"
   ]
  },
  {
   "cell_type": "code",
   "execution_count": 75,
   "id": "bc5809fc",
   "metadata": {},
   "outputs": [
    {
     "name": "stdout",
     "output_type": "stream",
     "text": [
      "--- 3. Binarização dos Atributos para o WiSARD ---\n",
      "Coluna 'age' binarizada com 16 bits (Termômetro).\n",
      "Coluna 'trestbps' binarizada com 16 bits (Termômetro).\n",
      "Coluna 'chol' binarizada com 16 bits (Termômetro).\n",
      "Coluna 'thalach' binarizada com 16 bits (Termômetro).\n",
      "Coluna 'oldpeak' binarizada com 16 bits (Termômetro).\n",
      "Coluna 'sex' binarizada com OneHotEncoder (Dimensão: 2 bits).\n",
      "Coluna 'cp' binarizada com OneHotEncoder (Dimensão: 4 bits).\n",
      "Coluna 'fbs' binarizada com OneHotEncoder (Dimensão: 2 bits).\n",
      "Coluna 'restecg' binarizada com OneHotEncoder (Dimensão: 3 bits).\n",
      "Coluna 'exang' binarizada com OneHotEncoder (Dimensão: 2 bits).\n",
      "Coluna 'slope' binarizada com OneHotEncoder (Dimensão: 3 bits).\n",
      "Coluna 'ca' binarizada com OneHotEncoder (Dimensão: 5 bits).\n",
      "Coluna 'thal' binarizada com OneHotEncoder (Dimensão: 4 bits).\n"
     ]
    }
   ],
   "source": [
    "# --- 3. Divisão dos Dados em Treino e Teste ---\n",
    "from module import termometro\n",
    "print(\"--- 3. Binarização dos Atributos para o WiSARD ---\")\n",
    "X_encoded_parts = []\n",
    "n_bits = 16 # Ex: 8, 16 ou 32 bits\n",
    "\n",
    "numerical_cols = ['age', 'trestbps', 'chol', 'thalach', 'oldpeak']\n",
    "categorical_cols = ['sex', 'cp', 'fbs', 'restecg', 'exang', 'slope', 'ca', 'thal']\n",
    "\n",
    "# Binarizar colunas numéricas contínuas com Termômetro\n",
    "for col in numerical_cols:\n",
    "    X_encoded_parts.append(termometro.codificador_termometro(X_original[col].astype(float), n_bits))\n",
    "    print(f\"Coluna '{col}' binarizada com {n_bits} bits (Termômetro).\")\n",
    "\n",
    "# Binarizar colunas categóricas com OneHotEncoder\n",
    "for col in categorical_cols:\n",
    "    # OneHotEncoder espera 2D array, então reshape a coluna\n",
    "    onehot_encoder = OneHotEncoder(sparse_output=False, handle_unknown='ignore')\n",
    "    encoded_col = onehot_encoder.fit_transform(X_original[[col]].astype(str))\n",
    "    X_encoded_parts.append(encoded_col.astype(np.uint8))\n",
    "    print(f\"Coluna '{col}' binarizada com OneHotEncoder (Dimensão: {encoded_col.shape[1]} bits).\")\n",
    "\n",
    "X_final_binary = np.hstack(X_encoded_parts)\n",
    "X_encoded_uint8 = X_final_binary.astype(np.uint8)"
   ]
  },
  {
   "cell_type": "code",
   "execution_count": 76,
   "id": "6e5bba28",
   "metadata": {},
   "outputs": [
    {
     "name": "stdout",
     "output_type": "stream",
     "text": [
      "\n",
      "Dimensão de X após todas as codificações: (303, 105)\n",
      "Tipo dos elementos de X_final_binary: uint8\n",
      "Primeiras 2 linhas de X_final_binary:\n",
      " [[1 1 1 1 1 1 1 1 1 1 1 1 0 0 0 0 1 1 1 1 1 1 1 1 0 0 0 0 0 0 0 0 1 1 1 1\n",
      "  0 0 0 0 0 0 0 0 0 0 0 0 1 1 1 1 1 1 1 1 1 1 0 0 0 0 0 0 1 1 1 1 1 1 0 0\n",
      "  0 0 0 0 0 0 0 0 0 1 1 0 0 0 0 1 0 0 1 1 0 0 0 1 1 0 0 0 0 0 1 0 0]\n",
      " [1 1 1 1 1 1 1 1 1 1 1 1 1 0 0 0 1 1 1 1 1 1 1 1 1 1 0 0 0 0 0 0 1 1 1 1\n",
      "  1 1 0 0 0 0 0 0 0 0 0 0 1 1 1 1 1 0 0 0 0 0 0 0 0 0 0 0 1 1 1 1 0 0 0 0\n",
      "  0 0 0 0 0 0 0 0 0 1 0 0 0 1 1 0 0 0 1 0 1 0 1 0 0 0 0 1 0 1 0 0 0]]\n",
      "--------------------------------------------------\n"
     ]
    }
   ],
   "source": [
    "X_final_binary = np.hstack(X_encoded_parts)\n",
    "X_encoded_uint8 = X_final_binary.astype(np.uint8)\n",
    "\n",
    "print(f\"\\nDimensão de X após todas as codificações: {X_encoded_uint8.shape}\")\n",
    "print(f\"Tipo dos elementos de X_final_binary: {X_encoded_uint8.dtype}\")\n",
    "print(\"Primeiras 2 linhas de X_final_binary:\\n\", X_encoded_uint8[:2])\n",
    "print(\"-\" * 50)"
   ]
  },
  {
   "cell_type": "code",
   "execution_count": 77,
   "id": "1b390e6a",
   "metadata": {},
   "outputs": [
    {
     "name": "stdout",
     "output_type": "stream",
     "text": [
      "\n",
      "Primeiros 5 rótulos de y (como strings): ['0', '2', '1', '0', '0']\n",
      "--------------------------------------------------\n"
     ]
    }
   ],
   "source": [
    "# Converter os rótulos de classe para string e depois para uma lista\n",
    "y_str = y_original.astype(str).tolist()\n",
    "print(f\"\\nPrimeiros 5 rótulos de y (como strings): {y_str[:5]}\")\n",
    "print(\"-\" * 50)\n"
   ]
  },
  {
   "cell_type": "code",
   "execution_count": 78,
   "id": "b12220c2",
   "metadata": {},
   "outputs": [],
   "source": [
    "X_train, X_test, y_train, y_test = train_test_split(\n",
    "    X_final_binary, y_str, test_size=0.3, random_state=42, stratify=y_str\n",
    ")"
   ]
  },
  {
   "cell_type": "code",
   "execution_count": 82,
   "id": "ff44fbea",
   "metadata": {},
   "outputs": [
    {
     "name": "stdout",
     "output_type": "stream",
     "text": [
      "--- 4. Configurando e Treinando o Modelo WiSARD ---\n",
      "WiSARD inicializado com addressSize=8\n",
      "training 55 of 212--------------------------------------------------\n",
      "--- 5. Classificação e Avaliação do Modelo WiSARD ---\n",
      "Relatório de Classificação:\n",
      "training 212 of 212\n",
      "classifying 91 of 91\n",
      "              precision    recall  f1-score   support\n",
      "\n",
      "           0       0.71      0.94      0.81        49\n",
      "           1       0.18      0.12      0.14        17\n",
      "           2       0.23      0.27      0.25        11\n",
      "           3       1.00      0.10      0.18        10\n",
      "           4       0.00      0.00      0.00         4\n",
      "\n",
      "    accuracy                           0.57        91\n",
      "   macro avg       0.42      0.29      0.28        91\n",
      "weighted avg       0.55      0.57      0.51        91\n",
      "\n"
     ]
    }
   ],
   "source": [
    "# --- 4. Configuração e Treinamento do Modelo WiSARD ---\n",
    "print(\"--- 4. Configurando e Treinando o Modelo WiSARD ---\")\n",
    "\n",
    "# addressSize (tuple_size) para o WiSARD.\n",
    "# O número de bits de entrada de X_encoded_dense para Car Evaluation é 21.\n",
    "# Um addressSize de 21 ainda é muito grande.\n",
    "# Escolha um addressSize menor, como 2, 3 ou 4.\n",
    "# Por exemplo, se X_encoded_dense tem 21 bits, e addressSize=3, teremos 21/3 = 7 RAMs por classe.\n",
    "addressSize = 8 # Ajuste este valor. 2 ou 3 são bons pontos de partida.\n",
    "\n",
    "wsd = wp.Wisard(addressSize, ignoreZero=False, verbose=True)\n",
    "\n",
    "print(f\"WiSARD inicializado com addressSize={addressSize}\")\n",
    "wsd.train(X_train, y_train)\n",
    "print(\"-\" * 50)\n",
    "\n",
    "\n",
    "# --- 5. Classificação e Avaliação do Modelo WiSARD ---\n",
    "print(\"--- 5. Classificação e Avaliação do Modelo WiSARD ---\")\n",
    "\n",
    "predictions_str = wsd.classify(X_test)\n",
    "\n",
    "# Convertendo as previsões de string de volta para um array NumPy para fácil comparação\n",
    "predictions_np = np.array(predictions_str)\n",
    "y_test_np = np.array(y_test) # Converte o y_test também para numpy array para comparação elemento a elemento\n",
    "\n",
    "print(\"Relatório de Classificação:\")\n",
    "print(classification_report(\n",
    "    y_test_np, predictions_np,\n",
    "    labels=np.unique(y_test)\n",
    "))\n",
    "# print(\"Matriz de Confusão:\")\n",
    "# print(confusion_matrix(y_test, y_pred))"
   ]
  }
 ],
 "metadata": {
  "kernelspec": {
   "display_name": "Python 3",
   "language": "python",
   "name": "python3"
  },
  "language_info": {
   "codemirror_mode": {
    "name": "ipython",
    "version": 3
   },
   "file_extension": ".py",
   "mimetype": "text/x-python",
   "name": "python",
   "nbconvert_exporter": "python",
   "pygments_lexer": "ipython3",
   "version": "3.10.12"
  }
 },
 "nbformat": 4,
 "nbformat_minor": 5
}
