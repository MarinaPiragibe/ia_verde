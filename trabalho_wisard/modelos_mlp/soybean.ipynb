{
 "cells": [
  {
   "cell_type": "markdown",
   "id": "145af5a3",
   "metadata": {},
   "source": [
    "#### Soybean (Large) Model\n",
    "\n",
    "Descrição: O dataset contém diversas informações sobre grãos de soja e deseja classifica-los em uma das 19 classes apresentadas (diaporthe-stem-canker, charcoal-rot, rhizoctonia-root-rot,\n",
    "     phytophthora-rot, brown-stem-rot, powdery-mildew,\n",
    "     downy-mildew, brown-spot, bacterial-blight,\n",
    "     bacterial-pustule, purple-seed-stain, anthracnose,\n",
    "     phyllosticta-leaf-spot, alternarialeaf-spot,\n",
    "     frog-eye-leaf-spot, diaporthe-pod-&-stem-blight,\n",
    "     cyst-nematode, 2-4-d-injury, herbicide-injury). São fornecidas 307 instâncias no total\n",
    "\n",
    "Resultados: O modelo não se saiu muito bem nas métricas avaliadas. Para melhorar os resultados foi implementada uma substituição da \"?\" por dados sintéticos baseados na moda da coluna em questão que estava sendo avaliada. Os resultados negativos do modelo provavelmente se devem a baixa quantidade de amostras."
   ]
  },
  {
   "cell_type": "code",
   "execution_count": 2,
   "id": "781e89f2",
   "metadata": {},
   "outputs": [],
   "source": [
    "\n",
    "import numpy as np\n",
    "from ucimlrepo import fetch_ucirepo\n",
    "from sklearn.preprocessing import OneHotEncoder, LabelEncoder\n",
    "from sklearn.model_selection import train_test_split\n",
    "from sklearn.metrics import classification_report, confusion_matrix\n",
    "import tensorflow as tf\n"
   ]
  },
  {
   "cell_type": "code",
   "execution_count": 3,
   "id": "0c6e7bc1",
   "metadata": {},
   "outputs": [],
   "source": [
    "\n",
    "soybean_large = fetch_ucirepo(id=90)\n",
    "\n",
    "# data (as pandas dataframes)\n",
    "X = soybean_large.data.features\n",
    "y = soybean_large.data.targets\n"
   ]
  },
  {
   "cell_type": "code",
   "execution_count": 6,
   "id": "75bb2aa8",
   "metadata": {},
   "outputs": [],
   "source": [
    "\n",
    "# Substituir '?' por NaN\n",
    "X = X.replace('?', np.nan)\n",
    "\n",
    "# Preencher valores ausentes com o valor mais frequente de cada coluna (moda)\n",
    "for col in X.columns:\n",
    "    X[col] = X[col].fillna(X[col].mode()[0])\n"
   ]
  },
  {
   "cell_type": "code",
   "execution_count": 7,
   "id": "e1f1ae34",
   "metadata": {},
   "outputs": [],
   "source": [
    "\n",
    "encoder = OneHotEncoder(handle_unknown='ignore')\n",
    "X_encoded = encoder.fit_transform(X)\n"
   ]
  },
  {
   "cell_type": "code",
   "execution_count": null,
   "id": "b1dd9a0f",
   "metadata": {},
   "outputs": [
    {
     "name": "stdout",
     "output_type": "stream",
     "text": [
      "['2-4-d-injury' 'alternarialeaf-spot' 'anthracnose' 'bacterial-blight'\n",
      " 'bacterial-pustule' 'brown-spot' 'brown-stem-rot' 'charcoal-rot'\n",
      " 'cyst-nematode' 'diaporthe-pod-&-stem-blight' 'diaporthe-stem-canker'\n",
      " 'downy-mildew' 'frog-eye-leaf-spot' 'herbicide-injury'\n",
      " 'phyllosticta-leaf-spot' 'phytophthora-rot' 'powdery-mildew'\n",
      " 'purple-seed-stain' 'rhizoctonia-root-rot']\n",
      "[ 0  1  2  3  4  5  6  7  8  9 10 11 12 13 14 15 16 17 18]\n"
     ]
    },
    {
     "name": "stderr",
     "output_type": "stream",
     "text": [
      "c:\\Users\\masar\\Documents\\UFF\\IAVerde\\ia_verde\\.venv\\Lib\\site-packages\\sklearn\\preprocessing\\_label.py:110: DataConversionWarning: A column-vector y was passed when a 1d array was expected. Please change the shape of y to (n_samples, ), for example using ravel().\n",
      "  y = column_or_1d(y, warn=True)\n"
     ]
    }
   ],
   "source": [
    "\n",
    "le = LabelEncoder()\n",
    "y_encoded = le.fit_transform(y)\n",
    "print(np.unique(y))\n",
    "print(np.unique(y_encoded))\n"
   ]
  },
  {
   "cell_type": "code",
   "execution_count": 9,
   "id": "2f9e720d",
   "metadata": {},
   "outputs": [
    {
     "name": "stderr",
     "output_type": "stream",
     "text": [
      "c:\\Users\\masar\\Documents\\UFF\\IAVerde\\ia_verde\\.venv\\Lib\\site-packages\\keras\\src\\layers\\core\\dense.py:87: UserWarning: Do not pass an `input_shape`/`input_dim` argument to a layer. When using Sequential models, prefer using an `Input(shape)` object as the first layer in the model instead.\n",
      "  super().__init__(activity_regularizer=activity_regularizer, **kwargs)\n"
     ]
    },
    {
     "name": "stdout",
     "output_type": "stream",
     "text": [
      "Epoch 1/50\n",
      "\u001b[1m5/5\u001b[0m \u001b[32m━━━━━━━━━━━━━━━━━━━━\u001b[0m\u001b[37m\u001b[0m \u001b[1m2s\u001b[0m 117ms/step - accuracy: 0.1025 - loss: 3.0053 - val_accuracy: 0.2154 - val_loss: 2.7866\n",
      "Epoch 2/50\n",
      "\u001b[1m5/5\u001b[0m \u001b[32m━━━━━━━━━━━━━━━━━━━━\u001b[0m\u001b[37m\u001b[0m \u001b[1m0s\u001b[0m 46ms/step - accuracy: 0.2266 - loss: 2.7594 - val_accuracy: 0.2462 - val_loss: 2.6186\n",
      "Epoch 3/50\n",
      "\u001b[1m5/5\u001b[0m \u001b[32m━━━━━━━━━━━━━━━━━━━━\u001b[0m\u001b[37m\u001b[0m \u001b[1m0s\u001b[0m 50ms/step - accuracy: 0.2438 - loss: 2.5773 - val_accuracy: 0.2615 - val_loss: 2.4825\n",
      "Epoch 4/50\n",
      "\u001b[1m5/5\u001b[0m \u001b[32m━━━━━━━━━━━━━━━━━━━━\u001b[0m\u001b[37m\u001b[0m \u001b[1m0s\u001b[0m 49ms/step - accuracy: 0.3318 - loss: 2.3925 - val_accuracy: 0.4154 - val_loss: 2.3517\n",
      "Epoch 5/50\n",
      "\u001b[1m5/5\u001b[0m \u001b[32m━━━━━━━━━━━━━━━━━━━━\u001b[0m\u001b[37m\u001b[0m \u001b[1m0s\u001b[0m 55ms/step - accuracy: 0.4738 - loss: 2.2245 - val_accuracy: 0.5231 - val_loss: 2.2017\n",
      "Epoch 6/50\n",
      "\u001b[1m5/5\u001b[0m \u001b[32m━━━━━━━━━━━━━━━━━━━━\u001b[0m\u001b[37m\u001b[0m \u001b[1m0s\u001b[0m 46ms/step - accuracy: 0.6447 - loss: 1.9804 - val_accuracy: 0.5846 - val_loss: 2.0346\n",
      "Epoch 7/50\n",
      "\u001b[1m5/5\u001b[0m \u001b[32m━━━━━━━━━━━━━━━━━━━━\u001b[0m\u001b[37m\u001b[0m \u001b[1m0s\u001b[0m 47ms/step - accuracy: 0.6691 - loss: 1.8039 - val_accuracy: 0.6154 - val_loss: 1.8590\n",
      "Epoch 8/50\n",
      "\u001b[1m5/5\u001b[0m \u001b[32m━━━━━━━━━━━━━━━━━━━━\u001b[0m\u001b[37m\u001b[0m \u001b[1m0s\u001b[0m 52ms/step - accuracy: 0.7366 - loss: 1.5970 - val_accuracy: 0.6462 - val_loss: 1.6561\n",
      "Epoch 9/50\n",
      "\u001b[1m5/5\u001b[0m \u001b[32m━━━━━━━━━━━━━━━━━━━━\u001b[0m\u001b[37m\u001b[0m \u001b[1m0s\u001b[0m 46ms/step - accuracy: 0.7510 - loss: 1.3566 - val_accuracy: 0.7077 - val_loss: 1.4541\n",
      "Epoch 10/50\n",
      "\u001b[1m5/5\u001b[0m \u001b[32m━━━━━━━━━━━━━━━━━━━━\u001b[0m\u001b[37m\u001b[0m \u001b[1m0s\u001b[0m 49ms/step - accuracy: 0.7213 - loss: 1.1950 - val_accuracy: 0.7385 - val_loss: 1.2583\n",
      "Epoch 11/50\n",
      "\u001b[1m5/5\u001b[0m \u001b[32m━━━━━━━━━━━━━━━━━━━━\u001b[0m\u001b[37m\u001b[0m \u001b[1m0s\u001b[0m 50ms/step - accuracy: 0.7967 - loss: 1.0208 - val_accuracy: 0.7538 - val_loss: 1.1030\n",
      "Epoch 12/50\n",
      "\u001b[1m5/5\u001b[0m \u001b[32m━━━━━━━━━━━━━━━━━━━━\u001b[0m\u001b[37m\u001b[0m \u001b[1m0s\u001b[0m 54ms/step - accuracy: 0.8583 - loss: 0.8235 - val_accuracy: 0.7846 - val_loss: 0.9693\n",
      "Epoch 13/50\n",
      "\u001b[1m5/5\u001b[0m \u001b[32m━━━━━━━━━━━━━━━━━━━━\u001b[0m\u001b[37m\u001b[0m \u001b[1m0s\u001b[0m 73ms/step - accuracy: 0.8765 - loss: 0.6999 - val_accuracy: 0.8154 - val_loss: 0.8690\n",
      "Epoch 14/50\n",
      "\u001b[1m5/5\u001b[0m \u001b[32m━━━━━━━━━━━━━━━━━━━━\u001b[0m\u001b[37m\u001b[0m \u001b[1m0s\u001b[0m 43ms/step - accuracy: 0.9128 - loss: 0.6106 - val_accuracy: 0.8615 - val_loss: 0.7592\n",
      "Epoch 15/50\n",
      "\u001b[1m5/5\u001b[0m \u001b[32m━━━━━━━━━━━━━━━━━━━━\u001b[0m\u001b[37m\u001b[0m \u001b[1m0s\u001b[0m 46ms/step - accuracy: 0.8841 - loss: 0.5795 - val_accuracy: 0.8769 - val_loss: 0.6743\n",
      "Epoch 16/50\n",
      "\u001b[1m5/5\u001b[0m \u001b[32m━━━━━━━━━━━━━━━━━━━━\u001b[0m\u001b[37m\u001b[0m \u001b[1m0s\u001b[0m 47ms/step - accuracy: 0.9175 - loss: 0.4394 - val_accuracy: 0.8923 - val_loss: 0.6205\n",
      "Epoch 17/50\n",
      "\u001b[1m5/5\u001b[0m \u001b[32m━━━━━━━━━━━━━━━━━━━━\u001b[0m\u001b[37m\u001b[0m \u001b[1m0s\u001b[0m 47ms/step - accuracy: 0.9154 - loss: 0.3828 - val_accuracy: 0.8769 - val_loss: 0.5437\n",
      "Epoch 18/50\n",
      "\u001b[1m5/5\u001b[0m \u001b[32m━━━━━━━━━━━━━━━━━━━━\u001b[0m\u001b[37m\u001b[0m \u001b[1m0s\u001b[0m 46ms/step - accuracy: 0.9499 - loss: 0.3224 - val_accuracy: 0.8769 - val_loss: 0.4897\n",
      "Epoch 19/50\n",
      "\u001b[1m5/5\u001b[0m \u001b[32m━━━━━━━━━━━━━━━━━━━━\u001b[0m\u001b[37m\u001b[0m \u001b[1m0s\u001b[0m 45ms/step - accuracy: 0.9373 - loss: 0.3096 - val_accuracy: 0.8923 - val_loss: 0.4428\n",
      "Epoch 20/50\n",
      "\u001b[1m5/5\u001b[0m \u001b[32m━━━━━━━━━━━━━━━━━━━━\u001b[0m\u001b[37m\u001b[0m \u001b[1m0s\u001b[0m 54ms/step - accuracy: 0.9353 - loss: 0.3020 - val_accuracy: 0.9231 - val_loss: 0.4127\n",
      "Epoch 21/50\n",
      "\u001b[1m5/5\u001b[0m \u001b[32m━━━━━━━━━━━━━━━━━━━━\u001b[0m\u001b[37m\u001b[0m \u001b[1m0s\u001b[0m 46ms/step - accuracy: 0.9627 - loss: 0.2325 - val_accuracy: 0.9231 - val_loss: 0.3845\n",
      "Epoch 22/50\n",
      "\u001b[1m5/5\u001b[0m \u001b[32m━━━━━━━━━━━━━━━━━━━━\u001b[0m\u001b[37m\u001b[0m \u001b[1m0s\u001b[0m 46ms/step - accuracy: 0.9574 - loss: 0.2229 - val_accuracy: 0.9231 - val_loss: 0.3544\n",
      "Epoch 23/50\n",
      "\u001b[1m5/5\u001b[0m \u001b[32m━━━━━━━━━━━━━━━━━━━━\u001b[0m\u001b[37m\u001b[0m \u001b[1m0s\u001b[0m 46ms/step - accuracy: 0.9785 - loss: 0.1916 - val_accuracy: 0.9231 - val_loss: 0.3355\n",
      "Epoch 24/50\n",
      "\u001b[1m5/5\u001b[0m \u001b[32m━━━━━━━━━━━━━━━━━━━━\u001b[0m\u001b[37m\u001b[0m \u001b[1m0s\u001b[0m 45ms/step - accuracy: 0.9693 - loss: 0.1833 - val_accuracy: 0.9231 - val_loss: 0.3289\n",
      "Epoch 25/50\n",
      "\u001b[1m5/5\u001b[0m \u001b[32m━━━━━━━━━━━━━━━━━━━━\u001b[0m\u001b[37m\u001b[0m \u001b[1m0s\u001b[0m 46ms/step - accuracy: 0.9615 - loss: 0.1972 - val_accuracy: 0.9231 - val_loss: 0.3215\n",
      "Epoch 26/50\n",
      "\u001b[1m5/5\u001b[0m \u001b[32m━━━━━━━━━━━━━━━━━━━━\u001b[0m\u001b[37m\u001b[0m \u001b[1m0s\u001b[0m 47ms/step - accuracy: 0.9667 - loss: 0.1678 - val_accuracy: 0.9231 - val_loss: 0.2993\n",
      "Epoch 27/50\n",
      "\u001b[1m5/5\u001b[0m \u001b[32m━━━━━━━━━━━━━━━━━━━━\u001b[0m\u001b[37m\u001b[0m \u001b[1m0s\u001b[0m 46ms/step - accuracy: 0.9833 - loss: 0.1393 - val_accuracy: 0.9231 - val_loss: 0.2972\n",
      "Epoch 28/50\n",
      "\u001b[1m5/5\u001b[0m \u001b[32m━━━━━━━━━━━━━━━━━━━━\u001b[0m\u001b[37m\u001b[0m \u001b[1m0s\u001b[0m 50ms/step - accuracy: 0.9868 - loss: 0.1407 - val_accuracy: 0.9231 - val_loss: 0.2847\n",
      "Epoch 29/50\n",
      "\u001b[1m5/5\u001b[0m \u001b[32m━━━━━━━━━━━━━━━━━━━━\u001b[0m\u001b[37m\u001b[0m \u001b[1m0s\u001b[0m 47ms/step - accuracy: 0.9794 - loss: 0.1409 - val_accuracy: 0.9231 - val_loss: 0.2785\n",
      "Epoch 30/50\n",
      "\u001b[1m5/5\u001b[0m \u001b[32m━━━━━━━━━━━━━━━━━━━━\u001b[0m\u001b[37m\u001b[0m \u001b[1m0s\u001b[0m 43ms/step - accuracy: 0.9790 - loss: 0.1433 - val_accuracy: 0.9231 - val_loss: 0.2719\n",
      "Epoch 31/50\n",
      "\u001b[1m5/5\u001b[0m \u001b[32m━━━━━━━━━━━━━━━━━━━━\u001b[0m\u001b[37m\u001b[0m \u001b[1m0s\u001b[0m 46ms/step - accuracy: 0.9794 - loss: 0.1239 - val_accuracy: 0.9231 - val_loss: 0.2726\n",
      "Epoch 32/50\n",
      "\u001b[1m5/5\u001b[0m \u001b[32m━━━━━━━━━━━━━━━━━━━━\u001b[0m\u001b[37m\u001b[0m \u001b[1m0s\u001b[0m 55ms/step - accuracy: 0.9886 - loss: 0.1109 - val_accuracy: 0.9231 - val_loss: 0.2745\n",
      "Epoch 33/50\n",
      "\u001b[1m5/5\u001b[0m \u001b[32m━━━━━━━━━━━━━━━━━━━━\u001b[0m\u001b[37m\u001b[0m \u001b[1m0s\u001b[0m 47ms/step - accuracy: 0.9833 - loss: 0.1012 - val_accuracy: 0.9231 - val_loss: 0.2583\n",
      "Epoch 34/50\n",
      "\u001b[1m5/5\u001b[0m \u001b[32m━━━━━━━━━━━━━━━━━━━━\u001b[0m\u001b[37m\u001b[0m \u001b[1m0s\u001b[0m 47ms/step - accuracy: 0.9876 - loss: 0.0977 - val_accuracy: 0.9231 - val_loss: 0.2522\n",
      "Epoch 35/50\n",
      "\u001b[1m5/5\u001b[0m \u001b[32m━━━━━━━━━━━━━━━━━━━━\u001b[0m\u001b[37m\u001b[0m \u001b[1m0s\u001b[0m 45ms/step - accuracy: 0.9876 - loss: 0.0919 - val_accuracy: 0.9231 - val_loss: 0.2653\n",
      "Epoch 36/50\n",
      "\u001b[1m5/5\u001b[0m \u001b[32m━━━━━━━━━━━━━━━━━━━━\u001b[0m\u001b[37m\u001b[0m \u001b[1m0s\u001b[0m 48ms/step - accuracy: 0.9819 - loss: 0.0953 - val_accuracy: 0.9231 - val_loss: 0.2537\n",
      "Epoch 37/50\n",
      "\u001b[1m5/5\u001b[0m \u001b[32m━━━━━━━━━━━━━━━━━━━━\u001b[0m\u001b[37m\u001b[0m \u001b[1m0s\u001b[0m 48ms/step - accuracy: 0.9886 - loss: 0.0926 - val_accuracy: 0.9231 - val_loss: 0.2383\n",
      "Epoch 38/50\n",
      "\u001b[1m5/5\u001b[0m \u001b[32m━━━━━━━━━━━━━━━━━━━━\u001b[0m\u001b[37m\u001b[0m \u001b[1m0s\u001b[0m 47ms/step - accuracy: 0.9876 - loss: 0.0814 - val_accuracy: 0.9231 - val_loss: 0.2487\n",
      "Epoch 39/50\n",
      "\u001b[1m5/5\u001b[0m \u001b[32m━━━━━━━━━━━━━━━━━━━━\u001b[0m\u001b[37m\u001b[0m \u001b[1m0s\u001b[0m 43ms/step - accuracy: 0.9925 - loss: 0.0772 - val_accuracy: 0.9231 - val_loss: 0.2471\n",
      "Epoch 40/50\n",
      "\u001b[1m5/5\u001b[0m \u001b[32m━━━━━━━━━━━━━━━━━━━━\u001b[0m\u001b[37m\u001b[0m \u001b[1m0s\u001b[0m 45ms/step - accuracy: 0.9738 - loss: 0.0864 - val_accuracy: 0.9231 - val_loss: 0.2385\n",
      "Epoch 41/50\n",
      "\u001b[1m5/5\u001b[0m \u001b[32m━━━━━━━━━━━━━━━━━━━━\u001b[0m\u001b[37m\u001b[0m \u001b[1m0s\u001b[0m 44ms/step - accuracy: 0.9842 - loss: 0.0746 - val_accuracy: 0.9231 - val_loss: 0.2420\n",
      "Epoch 42/50\n",
      "\u001b[1m5/5\u001b[0m \u001b[32m━━━━━━━━━━━━━━━━━━━━\u001b[0m\u001b[37m\u001b[0m \u001b[1m0s\u001b[0m 45ms/step - accuracy: 0.9790 - loss: 0.0836 - val_accuracy: 0.9231 - val_loss: 0.2443\n"
     ]
    }
   ],
   "source": [
    "\n",
    "X_train, X_test, y_train, y_test = train_test_split(X_encoded, y_encoded, test_size=0.3, random_state=42)\n",
    "\n",
    "model = tf.keras.Sequential([\n",
    "    tf.keras.layers.Dense(128, activation='relu', input_shape=(X_train.shape[1],)),\n",
    "    tf.keras.layers.Dense(64, activation='relu'),\n",
    "    tf.keras.layers.Dense(len(np.unique(y_encoded)), activation='softmax')\n",
    "])\n",
    "\n",
    "model.compile(optimizer='adam',\n",
    "              loss='sparse_categorical_crossentropy',\n",
    "              metrics=['accuracy'])\n",
    "\n",
    "early_stop = tf.keras.callbacks.EarlyStopping(monitor='val_loss', patience=5, restore_best_weights=True)\n",
    "\n",
    "history = model.fit(X_train, y_train, epochs=50, validation_split=0.3, callbacks=[early_stop], verbose=1)\n"
   ]
  },
  {
   "cell_type": "code",
   "execution_count": 46,
   "id": "6fba0485",
   "metadata": {},
   "outputs": [
    {
     "name": "stdout",
     "output_type": "stream",
     "text": [
      "\u001b[1m3/3\u001b[0m \u001b[32m━━━━━━━━━━━━━━━━━━━━\u001b[0m\u001b[37m\u001b[0m \u001b[1m0s\u001b[0m 53ms/step\n",
      "Relatório de Classificação:\n",
      "                        precision    recall  f1-score   support\n",
      "\n",
      "          2-4-d-injury       0.00      0.00      0.00         1\n",
      "   alternarialeaf-spot       0.67      0.92      0.77        13\n",
      "           anthracnose       1.00      0.86      0.92         7\n",
      "      bacterial-blight       0.80      1.00      0.89         4\n",
      "     bacterial-pustule       1.00      0.50      0.67         2\n",
      "            brown-spot       0.88      0.94      0.91        16\n",
      "        brown-stem-rot       1.00      0.88      0.93         8\n",
      "          charcoal-rot       0.67      1.00      0.80         2\n",
      "         cyst-nematode       1.00      1.00      1.00         2\n",
      " diaporthe-stem-canker       1.00      1.00      1.00         5\n",
      "          downy-mildew       1.00      1.00      1.00         2\n",
      "    frog-eye-leaf-spot       0.86      0.60      0.71        10\n",
      "      herbicide-injury       0.00      0.00      0.00         1\n",
      "phyllosticta-leaf-spot       0.00      0.00      0.00         2\n",
      "      phytophthora-rot       0.92      1.00      0.96        11\n",
      "        powdery-mildew       0.75      1.00      0.86         3\n",
      "     purple-seed-stain       1.00      1.00      1.00         1\n",
      "  rhizoctonia-root-rot       1.00      1.00      1.00         3\n",
      "\n",
      "              accuracy                           0.86        93\n",
      "             macro avg       0.75      0.76      0.75        93\n",
      "          weighted avg       0.84      0.86      0.84        93\n",
      "\n",
      "Matriz de Confusão:\n",
      "[[ 0  0  0  0  0  0  0  0  0  0  0  0  0  0  0  1  0  0]\n",
      " [ 0 12  0  0  0  0  0  0  0  0  0  1  0  0  0  0  0  0]\n",
      " [ 0  0  6  0  0  1  0  0  0  0  0  0  0  0  0  0  0  0]\n",
      " [ 0  0  0  4  0  0  0  0  0  0  0  0  0  0  0  0  0  0]\n",
      " [ 0  0  0  1  1  0  0  0  0  0  0  0  0  0  0  0  0  0]\n",
      " [ 0  1  0  0  0 15  0  0  0  0  0  0  0  0  0  0  0  0]\n",
      " [ 0  0  0  0  0  0  7  1  0  0  0  0  0  0  0  0  0  0]\n",
      " [ 0  0  0  0  0  0  0  2  0  0  0  0  0  0  0  0  0  0]\n",
      " [ 0  0  0  0  0  0  0  0  2  0  0  0  0  0  0  0  0  0]\n",
      " [ 0  0  0  0  0  0  0  0  0  5  0  0  0  0  0  0  0  0]\n",
      " [ 0  0  0  0  0  0  0  0  0  0  2  0  0  0  0  0  0  0]\n",
      " [ 0  4  0  0  0  0  0  0  0  0  0  6  0  0  0  0  0  0]\n",
      " [ 0  0  0  0  0  0  0  0  0  0  0  0  0  0  1  0  0  0]\n",
      " [ 0  1  0  0  0  1  0  0  0  0  0  0  0  0  0  0  0  0]\n",
      " [ 0  0  0  0  0  0  0  0  0  0  0  0  0  0 11  0  0  0]\n",
      " [ 0  0  0  0  0  0  0  0  0  0  0  0  0  0  0  3  0  0]\n",
      " [ 0  0  0  0  0  0  0  0  0  0  0  0  0  0  0  0  1  0]\n",
      " [ 0  0  0  0  0  0  0  0  0  0  0  0  0  0  0  0  0  3]]\n"
     ]
    },
    {
     "name": "stderr",
     "output_type": "stream",
     "text": [
      "c:\\Users\\masar\\Documents\\UFF\\IAVerde\\ia_verde\\.venv\\Lib\\site-packages\\sklearn\\metrics\\_classification.py:1565: UndefinedMetricWarning: Precision is ill-defined and being set to 0.0 in labels with no predicted samples. Use `zero_division` parameter to control this behavior.\n",
      "  _warn_prf(average, modifier, f\"{metric.capitalize()} is\", len(result))\n",
      "c:\\Users\\masar\\Documents\\UFF\\IAVerde\\ia_verde\\.venv\\Lib\\site-packages\\sklearn\\metrics\\_classification.py:1565: UndefinedMetricWarning: Precision is ill-defined and being set to 0.0 in labels with no predicted samples. Use `zero_division` parameter to control this behavior.\n",
      "  _warn_prf(average, modifier, f\"{metric.capitalize()} is\", len(result))\n",
      "c:\\Users\\masar\\Documents\\UFF\\IAVerde\\ia_verde\\.venv\\Lib\\site-packages\\sklearn\\metrics\\_classification.py:1565: UndefinedMetricWarning: Precision is ill-defined and being set to 0.0 in labels with no predicted samples. Use `zero_division` parameter to control this behavior.\n",
      "  _warn_prf(average, modifier, f\"{metric.capitalize()} is\", len(result))\n"
     ]
    }
   ],
   "source": [
    "y_pred = model.predict(X_test).argmax(axis=1)\n",
    "print(\"Relatório de Classificação:\")\n",
    "print(classification_report(\n",
    "    y_test, y_pred,\n",
    "    labels=np.unique(y_test),\n",
    "    target_names=le.classes_[np.unique(y_test)]\n",
    "))\n",
    "print(\"Matriz de Confusão:\")\n",
    "print(confusion_matrix(y_test, y_pred))\n"
   ]
  }
 ],
 "metadata": {
  "kernelspec": {
   "display_name": ".venv",
   "language": "python",
   "name": "python3"
  },
  "language_info": {
   "codemirror_mode": {
    "name": "ipython",
    "version": 3
   },
   "file_extension": ".py",
   "mimetype": "text/x-python",
   "name": "python",
   "nbconvert_exporter": "python",
   "pygments_lexer": "ipython3",
   "version": "3.12.1"
  }
 },
 "nbformat": 4,
 "nbformat_minor": 5
}
