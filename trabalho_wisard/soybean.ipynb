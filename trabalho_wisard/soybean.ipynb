{
 "cells": [
  {
   "cell_type": "markdown",
   "id": "4308fcf2",
   "metadata": {},
   "source": [
    "#### Soybean (Large) Model\n",
    "\n",
    "Descrição: O dataset contém diversas informações sobre grãos de soja e deseja classifica-los em uma das 19 classes apresentadas (diaporthe-stem-canker, charcoal-rot, rhizoctonia-root-rot,\n",
    "     phytophthora-rot, brown-stem-rot, powdery-mildew,\n",
    "     downy-mildew, brown-spot, bacterial-blight,\n",
    "     bacterial-pustule, purple-seed-stain, anthracnose,\n",
    "     phyllosticta-leaf-spot, alternarialeaf-spot,\n",
    "     frog-eye-leaf-spot, diaporthe-pod-&-stem-blight,\n",
    "     cyst-nematode, 2-4-d-injury, herbicide-injury). São fornecidas 307 instâncias no total"
   ]
  },
  {
   "cell_type": "markdown",
   "id": "9fd44781",
   "metadata": {},
   "source": [
    "### Imports"
   ]
  },
  {
   "cell_type": "code",
   "execution_count": 65,
   "id": "781e89f2",
   "metadata": {},
   "outputs": [],
   "source": [
    "\n",
    "import numpy as np\n",
    "from ucimlrepo import fetch_ucirepo\n",
    "from sklearn.preprocessing import OneHotEncoder, LabelEncoder\n",
    "from sklearn.model_selection import train_test_split\n",
    "from sklearn.metrics import classification_report, confusion_matrix\n",
    "import wisardpkg as wp\n"
   ]
  },
  {
   "cell_type": "markdown",
   "id": "237fcc53",
   "metadata": {},
   "source": [
    "### Carregando o Dataset"
   ]
  },
  {
   "cell_type": "code",
   "execution_count": 66,
   "id": "d5d3fc81",
   "metadata": {},
   "outputs": [
    {
     "name": "stdout",
     "output_type": "stream",
     "text": [
      "Dimensão inicial de X: (307, 35)\n",
      "\n",
      "Classes de y:\n",
      "class\n",
      "alternarialeaf-spot            40\n",
      "brown-spot                     40\n",
      "phytophthora-rot               40\n",
      "frog-eye-leaf-spot             40\n",
      "brown-stem-rot                 20\n",
      "anthracnose                    20\n",
      "diaporthe-stem-canker          10\n",
      "rhizoctonia-root-rot           10\n",
      "charcoal-rot                   10\n",
      "downy-mildew                   10\n",
      "powdery-mildew                 10\n",
      "purple-seed-stain              10\n",
      "bacterial-pustule              10\n",
      "bacterial-blight               10\n",
      "phyllosticta-leaf-spot         10\n",
      "diaporthe-pod-&-stem-blight     6\n",
      "cyst-nematode                   6\n",
      "herbicide-injury                4\n",
      "2-4-d-injury                    1\n",
      "Name: count, dtype: int64\n"
     ]
    }
   ],
   "source": [
    "soybean_large = fetch_ucirepo(id=90)\n",
    "X_original = soybean_large.data.features\n",
    "y_original = soybean_large.data.targets.iloc[:, 0]\n",
    "\n",
    "print(f\"Dimensão inicial de X: {X_original.shape}\")\n",
    "# print(f\"Colunas de X e seus tipos de dados:\\n{X_original.dtypes}\")\n",
    "# print(f\"\\nPrimeiras 5 linhas de X:\\n{X_original.head()}\")\n",
    "print(f\"\\nClasses de y:\\n{y_original.value_counts()}\")"
   ]
  },
  {
   "cell_type": "markdown",
   "id": "8a6ba4ff",
   "metadata": {},
   "source": [
    "### Pré-processamento"
   ]
  },
  {
   "cell_type": "markdown",
   "id": "db6c4709",
   "metadata": {},
   "source": [
    "#### Removendo nulos"
   ]
  },
  {
   "cell_type": "code",
   "execution_count": 67,
   "id": "0a44b76f",
   "metadata": {},
   "outputs": [
    {
     "name": "stdout",
     "output_type": "stream",
     "text": [
      "date                1\n",
      "plant-stand         8\n",
      "precip             11\n",
      "temp                7\n",
      "hail               41\n",
      "crop-hist           1\n",
      "area-damaged        1\n",
      "severity           41\n",
      "seed-tmt           41\n",
      "germination        36\n",
      "plant-growth        1\n",
      "leafspots-halo     25\n",
      "leafspots-marg     25\n",
      "leafspot-size      25\n",
      "leaf-shread        26\n",
      "leaf-malf          25\n",
      "leaf-mild          30\n",
      "stem                1\n",
      "lodging            41\n",
      "stem-cankers       11\n",
      "canker-lesion      11\n",
      "fruiting-bodies    35\n",
      "external-decay     11\n",
      "mycelium           11\n",
      "int-discolor       11\n",
      "sclerotia          11\n",
      "fruit-pods         25\n",
      "fruit-spots        35\n",
      "seed               29\n",
      "mold-growth        29\n",
      "seed-discolor      35\n",
      "seed-size          29\n",
      "shriveling         35\n",
      "roots               7\n",
      "dtype: int64\n",
      "\n",
      "Valores ausentes após preenchimento:\n",
      "Series([], dtype: int64)\n"
     ]
    }
   ],
   "source": [
    "print(X_original.isnull().sum()[X_original.isnull().sum() > 0])\n",
    "X_original = X_original.replace('?', np.nan)\n",
    "\n",
    "for col in X_original.columns:\n",
    "    X_original[col] = X_original[col].fillna(X_original[col].mode()[0])\n",
    "\n",
    "print(\"\\nValores ausentes após preenchimento:\")\n",
    "print(X_original.isnull().sum()[X_original.isnull().sum() > 0])"
   ]
  },
  {
   "cell_type": "markdown",
   "id": "6566b40e",
   "metadata": {},
   "source": [
    "#### One Hot Encoding para atributos categóricos"
   ]
  },
  {
   "cell_type": "code",
   "execution_count": 68,
   "id": "2f9e720d",
   "metadata": {},
   "outputs": [
    {
     "name": "stdout",
     "output_type": "stream",
     "text": [
      "Dimensão de X após One-Hot Encoding: (307, 98)\n",
      "Tipo dos elementos após One-Hot Encoding: float64\n",
      "Primeiras 2 linhas de X_encoded_dense:\n",
      "[[0. 0. 0. 0. 0. 0. 1. 1. 0. 0. 0. 1. 0. 1. 0. 1. 0. 0. 1. 0. 0. 0. 1. 0.\n",
      "  0. 0. 1. 0. 1. 0. 0. 1. 0. 0. 0. 1. 0. 1. 1. 0. 0. 0. 0. 1. 0. 0. 1. 1.\n",
      "  0. 1. 0. 1. 0. 0. 0. 1. 0. 1. 0. 0. 0. 1. 0. 1. 0. 0. 0. 1. 0. 1. 1. 0.\n",
      "  1. 0. 0. 1. 0. 1. 0. 0. 0. 0. 0. 0. 1. 1. 0. 1. 0. 1. 0. 1. 0. 1. 0. 1.\n",
      "  0. 0.]\n",
      " [0. 0. 0. 0. 1. 0. 0. 1. 0. 0. 0. 1. 0. 1. 0. 1. 0. 0. 0. 1. 0. 1. 0. 0.\n",
      "  0. 0. 0. 1. 0. 1. 0. 0. 1. 0. 0. 1. 0. 1. 1. 0. 0. 0. 0. 1. 0. 0. 1. 1.\n",
      "  0. 1. 0. 1. 0. 0. 0. 1. 1. 0. 0. 0. 0. 1. 0. 1. 0. 0. 0. 1. 0. 1. 1. 0.\n",
      "  1. 0. 0. 1. 0. 1. 0. 0. 0. 0. 0. 0. 1. 1. 0. 1. 0. 1. 0. 1. 0. 1. 0. 1.\n",
      "  0. 0.]]\n"
     ]
    }
   ],
   "source": [
    "encoder = OneHotEncoder(handle_unknown='ignore', sparse_output=False) # sparse_output=False retorna array denso\n",
    "\n",
    "X_encoded_dense = encoder.fit_transform(X_original)\n",
    "\n",
    "print(f\"Dimensão de X após One-Hot Encoding: {X_encoded_dense.shape}\")\n",
    "print(f\"Tipo dos elementos após One-Hot Encoding: {X_encoded_dense.dtype}\")\n",
    "print(f\"Primeiras 2 linhas de X_encoded_dense:\\n{X_encoded_dense[:2]}\")"
   ]
  },
  {
   "cell_type": "markdown",
   "id": "b4dacc7f",
   "metadata": {},
   "source": [
    "### Dividindo os Dados em Treino e Teste"
   ]
  },
  {
   "cell_type": "code",
   "execution_count": 69,
   "id": "bc5809fc",
   "metadata": {},
   "outputs": [
    {
     "name": "stdout",
     "output_type": "stream",
     "text": [
      "Tamanho do conjunto de treino (X_train): 92 amostras, 98 bits\n",
      "Tamanho do conjunto de teste (X_test): 215 amostras, 98 bits\n",
      "Tipo dos elementos de X_train: uint8\n"
     ]
    }
   ],
   "source": [
    "X_encoded_uint8 = X_encoded_dense.astype(np.uint8)\n",
    "y_str = y_original.astype(str).tolist()\n",
    "\n",
    "X_train, X_test, y_train, y_test = train_test_split(\n",
    "    X_encoded_uint8, y_str, test_size=0.7, random_state=42\n",
    ")\n",
    "\n",
    "print(f\"Tamanho do conjunto de treino (X_train): {X_train.shape[0]} amostras, {X_train.shape[1]} bits\")\n",
    "print(f\"Tamanho do conjunto de teste (X_test): {X_test.shape[0]} amostras, {X_test.shape[1]} bits\")\n",
    "print(f\"Tipo dos elementos de X_train: {X_train.dtype}\")\n"
   ]
  },
  {
   "cell_type": "markdown",
   "id": "b48a03d0",
   "metadata": {},
   "source": [
    "### Treinando o Modelo WiSARD"
   ]
  },
  {
   "cell_type": "code",
   "execution_count": 70,
   "id": "ff44fbea",
   "metadata": {},
   "outputs": [
    {
     "name": "stdout",
     "output_type": "stream",
     "text": [
      "WiSARD inicializado com addressSize=8\n",
      "training 92 of 92\n",
      "classifying 215 of 2155\n"
     ]
    }
   ],
   "source": [
    "addressSize = 8\n",
    "\n",
    "wsd = wp.Wisard(addressSize, ignoreZero=False, verbose=True)\n",
    "\n",
    "print(f\"WiSARD inicializado com addressSize={addressSize}\")\n",
    "wsd.train(X_train, y_train)\n",
    "\n",
    "predictions_str = wsd.classify(X_test)\n",
    "\n",
    "y_pred_np = np.array(predictions_str)\n",
    "y_test_np = np.array(y_test) "
   ]
  },
  {
   "cell_type": "markdown",
   "id": "3cd8f127",
   "metadata": {},
   "source": [
    "### Relatório de Classificação"
   ]
  },
  {
   "cell_type": "code",
   "execution_count": 71,
   "id": "6f74259e",
   "metadata": {},
   "outputs": [
    {
     "name": "stdout",
     "output_type": "stream",
     "text": [
      "                             precision    recall  f1-score   support\n",
      "\n",
      "               2-4-d-injury       0.00      0.00      0.00         1\n",
      "        alternarialeaf-spot       0.41      1.00      0.58        28\n",
      "                anthracnose       1.00      0.79      0.88        14\n",
      "           bacterial-blight       0.80      0.57      0.67         7\n",
      "          bacterial-pustule       1.00      0.83      0.91         6\n",
      "                 brown-spot       1.00      0.68      0.81        31\n",
      "             brown-stem-rot       0.87      0.93      0.90        14\n",
      "               charcoal-rot       1.00      0.62      0.77         8\n",
      "              cyst-nematode       1.00      1.00      1.00         3\n",
      "diaporthe-pod-&-stem-blight       1.00      0.80      0.89         5\n",
      "      diaporthe-stem-canker       1.00      0.88      0.93         8\n",
      "               downy-mildew       1.00      0.57      0.73         7\n",
      "         frog-eye-leaf-spot       0.79      0.58      0.67        26\n",
      "           herbicide-injury       1.00      1.00      1.00         2\n",
      "     phyllosticta-leaf-spot       0.00      0.00      0.00         7\n",
      "           phytophthora-rot       0.71      1.00      0.83        25\n",
      "             powdery-mildew       1.00      0.71      0.83         7\n",
      "          purple-seed-stain       0.00      0.00      0.00         9\n",
      "       rhizoctonia-root-rot       1.00      0.86      0.92         7\n",
      "\n",
      "                   accuracy                           0.73       215\n",
      "                  macro avg       0.77      0.67      0.70       215\n",
      "               weighted avg       0.77      0.73      0.72       215\n",
      "\n"
     ]
    },
    {
     "name": "stderr",
     "output_type": "stream",
     "text": [
      "/usr/local/lib/python3.10/dist-packages/sklearn/metrics/_classification.py:1706: UndefinedMetricWarning: Precision is ill-defined and being set to 0.0 in labels with no predicted samples. Use `zero_division` parameter to control this behavior.\n",
      "  _warn_prf(average, modifier, f\"{metric.capitalize()} is\", result.shape[0])\n",
      "/usr/local/lib/python3.10/dist-packages/sklearn/metrics/_classification.py:1706: UndefinedMetricWarning: Precision is ill-defined and being set to 0.0 in labels with no predicted samples. Use `zero_division` parameter to control this behavior.\n",
      "  _warn_prf(average, modifier, f\"{metric.capitalize()} is\", result.shape[0])\n",
      "/usr/local/lib/python3.10/dist-packages/sklearn/metrics/_classification.py:1706: UndefinedMetricWarning: Precision is ill-defined and being set to 0.0 in labels with no predicted samples. Use `zero_division` parameter to control this behavior.\n",
      "  _warn_prf(average, modifier, f\"{metric.capitalize()} is\", result.shape[0])\n"
     ]
    }
   ],
   "source": [
    "print(classification_report(\n",
    "    y_test_np, y_pred_np,\n",
    "    labels=np.unique(y_test)\n",
    "))"
   ]
  },
  {
   "cell_type": "markdown",
   "id": "1c35b8dc",
   "metadata": {},
   "source": [
    "### WiSARD x MLP\n",
    "\n",
    "O modelo alcançou números similares ao do MLP nas métricas de avaliação. Os resultados negativos do modelo em ambos os métodos devem-se, provavelmente, a baixa quantidade de amostras."
   ]
  }
 ],
 "metadata": {
  "kernelspec": {
   "display_name": "Python 3",
   "language": "python",
   "name": "python3"
  },
  "language_info": {
   "codemirror_mode": {
    "name": "ipython",
    "version": 3
   },
   "file_extension": ".py",
   "mimetype": "text/x-python",
   "name": "python",
   "nbconvert_exporter": "python",
   "pygments_lexer": "ipython3",
   "version": "3.10.12"
  }
 },
 "nbformat": 4,
 "nbformat_minor": 5
}
