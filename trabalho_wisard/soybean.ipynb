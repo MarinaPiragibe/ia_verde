{
 "cells": [
  {
   "cell_type": "markdown",
   "id": "4308fcf2",
   "metadata": {},
   "source": [
    "#### Soybean (Large) Model\n",
    "\n",
    "Descrição: O dataset contém diversas informações sobre grãos de soja e deseja classifica-los em uma das 19 classes apresentadas (diaporthe-stem-canker, charcoal-rot, rhizoctonia-root-rot,\n",
    "     phytophthora-rot, brown-stem-rot, powdery-mildew,\n",
    "     downy-mildew, brown-spot, bacterial-blight,\n",
    "     bacterial-pustule, purple-seed-stain, anthracnose,\n",
    "     phyllosticta-leaf-spot, alternarialeaf-spot,\n",
    "     frog-eye-leaf-spot, diaporthe-pod-&-stem-blight,\n",
    "     cyst-nematode, 2-4-d-injury, herbicide-injury). São fornecidas 307 instâncias no total\n",
    "\n",
    "Resultados: O modelo não se saiu muito bem nas métricas avaliadas. Para melhorar os resultados foi implementada uma substituição da \"?\" por dados sintéticos baseados na moda da coluna em questão que estava sendo avaliada. Os resultados negativos do modelo provavelmente se devem a baixa quantidade de amostras."
   ]
  },
  {
   "cell_type": "code",
   "execution_count": 13,
   "id": "781e89f2",
   "metadata": {},
   "outputs": [],
   "source": [
    "\n",
    "import numpy as np\n",
    "from ucimlrepo import fetch_ucirepo\n",
    "from sklearn.preprocessing import OneHotEncoder, LabelEncoder\n",
    "from sklearn.model_selection import train_test_split\n",
    "from sklearn.metrics import classification_report, confusion_matrix\n",
    "import wisardpkg as wp\n"
   ]
  },
  {
   "cell_type": "code",
   "execution_count": null,
   "id": "d5d3fc81",
   "metadata": {},
   "outputs": [
    {
     "name": "stdout",
     "output_type": "stream",
     "text": [
      "Dimensão inicial de X: (307, 35)\n",
      "\n",
      "Classes de y:\n",
      "class\n",
      "alternarialeaf-spot            40\n",
      "brown-spot                     40\n",
      "phytophthora-rot               40\n",
      "frog-eye-leaf-spot             40\n",
      "brown-stem-rot                 20\n",
      "anthracnose                    20\n",
      "diaporthe-stem-canker          10\n",
      "rhizoctonia-root-rot           10\n",
      "charcoal-rot                   10\n",
      "downy-mildew                   10\n",
      "powdery-mildew                 10\n",
      "purple-seed-stain              10\n",
      "bacterial-pustule              10\n",
      "bacterial-blight               10\n",
      "phyllosticta-leaf-spot         10\n",
      "diaporthe-pod-&-stem-blight     6\n",
      "cyst-nematode                   6\n",
      "herbicide-injury                4\n",
      "2-4-d-injury                    1\n",
      "Name: count, dtype: int64\n",
      "--------------------------------------------------\n"
     ]
    }
   ],
   "source": [
    "soybean_large = fetch_ucirepo(id=90)\n",
    "X_original = soybean_large.data.features\n",
    "y_original = soybean_large.data.targets.iloc[:, 0]\n",
    "\n",
    "# Substituir '?' por NaN\n",
    "X_original = X_original.replace('?', np.nan)\n",
    "\n",
    "# Preencher valores ausentes com o valor mais frequente de cada coluna (moda)\n",
    "for col in X_original.columns:\n",
    "    X_original[col] = X_original[col].fillna(X_original[col].mode()[0])\n",
    "\n",
    "print(f\"Dimensão inicial de X: {X_original.shape}\")\n",
    "# print(f\"Colunas de X e seus tipos de dados:\\n{X_original.dtypes}\")\n",
    "# print(f\"\\nPrimeiras 5 linhas de X:\\n{X_original.head()}\")\n",
    "print(f\"\\nClasses de y:\\n{y_original.value_counts()}\")\n",
    "print(\"-\" * 50)"
   ]
  },
  {
   "cell_type": "code",
   "execution_count": 20,
   "id": "0a44b76f",
   "metadata": {},
   "outputs": [
    {
     "name": "stdout",
     "output_type": "stream",
     "text": [
      "--- 1. Carregando e Inspecionando o Dataset Soybean ---\n",
      "Dimensão inicial de X: (307, 35)\n",
      "\n",
      "Classes de y:\n",
      "class\n",
      "alternarialeaf-spot            40\n",
      "brown-spot                     40\n",
      "phytophthora-rot               40\n",
      "frog-eye-leaf-spot             40\n",
      "brown-stem-rot                 20\n",
      "anthracnose                    20\n",
      "diaporthe-stem-canker          10\n",
      "rhizoctonia-root-rot           10\n",
      "charcoal-rot                   10\n",
      "downy-mildew                   10\n",
      "powdery-mildew                 10\n",
      "purple-seed-stain              10\n",
      "bacterial-pustule              10\n",
      "bacterial-blight               10\n",
      "phyllosticta-leaf-spot         10\n",
      "diaporthe-pod-&-stem-blight     6\n",
      "cyst-nematode                   6\n",
      "herbicide-injury                4\n",
      "2-4-d-injury                    1\n",
      "Name: count, dtype: int64\n",
      "--------------------------------------------------\n"
     ]
    }
   ],
   "source": []
  },
  {
   "cell_type": "code",
   "execution_count": null,
   "id": "2f9e720d",
   "metadata": {},
   "outputs": [
    {
     "name": "stdout",
     "output_type": "stream",
     "text": [
      "--- 2. Pré-processamento: One-Hot Encoding ---\n",
      "Dimensão de X após One-Hot Encoding: (307, 132)\n",
      "Tipo dos elementos após One-Hot Encoding: float64\n",
      "Primeiras 2 linhas de X_encoded_dense:\n",
      "[[0. 0. 0. 0. 0. 0. 1. 0. 1. 0. 0. 0. 0. 1. 0. 0. 1. 0. 0. 1. 0. 0. 0. 1.\n",
      "  0. 0. 0. 0. 1. 0. 0. 0. 0. 1. 0. 0. 1. 0. 0. 0. 1. 0. 0. 0. 0. 1. 0. 0.\n",
      "  1. 1. 0. 0. 0. 0. 0. 1. 0. 0. 0. 1. 0. 1. 0. 0. 1. 0. 0. 1. 0. 0. 0. 0.\n",
      "  1. 0. 0. 1. 0. 0. 0. 0. 1. 0. 0. 1. 0. 0. 0. 0. 1. 0. 0. 1. 0. 1. 0. 0.\n",
      "  1. 0. 0. 0. 1. 0. 0. 1. 0. 0. 0. 0. 0. 0. 0. 1. 0. 1. 0. 0. 1. 0. 0. 1.\n",
      "  0. 0. 1. 0. 0. 1. 0. 0. 1. 0. 0. 0.]\n",
      " [0. 0. 0. 0. 1. 0. 0. 0. 1. 0. 0. 0. 0. 1. 0. 0. 1. 0. 0. 1. 0. 0. 0. 0.\n",
      "  1. 0. 0. 1. 0. 0. 0. 0. 0. 0. 1. 0. 0. 1. 0. 0. 0. 1. 0. 0. 0. 1. 0. 0.\n",
      "  1. 1. 0. 0. 0. 0. 0. 1. 0. 0. 0. 1. 0. 1. 0. 0. 1. 0. 0. 1. 0. 0. 0. 0.\n",
      "  1. 0. 1. 0. 0. 0. 0. 0. 1. 0. 0. 1. 0. 0. 0. 0. 1. 0. 0. 1. 0. 1. 0. 0.\n",
      "  1. 0. 0. 0. 1. 0. 0. 1. 0. 0. 0. 0. 0. 0. 0. 1. 0. 1. 0. 0. 1. 0. 0. 1.\n",
      "  0. 0. 1. 0. 0. 1. 0. 0. 1. 0. 0. 0.]]\n",
      "--------------------------------------------------\n"
     ]
    }
   ],
   "source": [
    "print(\"---  Pré-processamento: One-Hot Encoding ---\")\n",
    "\n",
    "encoder = OneHotEncoder(handle_unknown='ignore', sparse_output=False) # sparse_output=False retorna array denso\n",
    "\n",
    "X_encoded_dense = encoder.fit_transform(X_original)\n",
    "\n",
    "print(f\"Dimensão de X após One-Hot Encoding: {X_encoded_dense.shape}\")\n",
    "print(f\"Tipo dos elementos após One-Hot Encoding: {X_encoded_dense.dtype}\")\n",
    "print(f\"Primeiras 2 linhas de X_encoded_dense:\\n{X_encoded_dense[:2]}\")\n",
    "print(\"-\" * 50)"
   ]
  },
  {
   "cell_type": "code",
   "execution_count": 24,
   "id": "bc5809fc",
   "metadata": {},
   "outputs": [
    {
     "name": "stdout",
     "output_type": "stream",
     "text": [
      "--- 3. Dividindo os Dados em Treino e Teste ---\n",
      "Tamanho do conjunto de treino (X_train): 92 amostras, 132 bits\n",
      "Tamanho do conjunto de teste (X_test): 215 amostras, 132 bits\n",
      "Tipo dos elementos de X_train: uint8\n",
      "--------------------------------------------------\n"
     ]
    }
   ],
   "source": [
    "# --- Divisão dos Dados em Treino e Teste ---\n",
    "print(\"--- 3. Dividindo os Dados em Treino e Teste ---\")\n",
    "\n",
    "# Para o WiSARD, os dados de entrada X devem ser do tipo np.uint8.\n",
    "# E os rótulos y devem ser strings.\n",
    "# Fazemos a conversão de tipo após o split para manter a consistência do tipo de dados.\n",
    "X_encoded_uint8 = X_encoded_dense.astype(np.uint8)\n",
    "y_str = y_original.astype(str).tolist()\n",
    "\n",
    "X_train, X_test, y_train, y_test = train_test_split(\n",
    "    X_encoded_uint8, y_str, test_size=0.7, random_state=42\n",
    ")\n",
    "\n",
    "print(f\"Tamanho do conjunto de treino (X_train): {X_train.shape[0]} amostras, {X_train.shape[1]} bits\")\n",
    "print(f\"Tamanho do conjunto de teste (X_test): {X_test.shape[0]} amostras, {X_test.shape[1]} bits\")\n",
    "print(f\"Tipo dos elementos de X_train: {X_train.dtype}\")\n",
    "print(\"-\" * 50)"
   ]
  },
  {
   "cell_type": "code",
   "execution_count": 26,
   "id": "ff44fbea",
   "metadata": {},
   "outputs": [
    {
     "name": "stdout",
     "output_type": "stream",
     "text": [
      "--- Treinando o Modelo WiSARD ---\n",
      "WiSARD inicializado com addressSize=3\n",
      "--------------------------------------------------\n",
      "--- Classificação e Avaliação do Modelo WiSARD ---\n",
      "Classificando os dados de teste...\n",
      "training 57 of 92Classificação concluída.\n",
      "Relatório de Classificação:\n",
      "training 92 of 92\n",
      "classifying 215 of 215\n",
      "                             precision    recall  f1-score   support\n",
      "\n",
      "               2-4-d-injury       0.00      0.00      0.00         1\n",
      "        alternarialeaf-spot       0.48      0.82      0.61        28\n",
      "                anthracnose       0.74      1.00      0.85        14\n",
      "           bacterial-blight       1.00      0.57      0.73         7\n",
      "          bacterial-pustule       1.00      0.83      0.91         6\n",
      "                 brown-spot       0.88      0.74      0.81        31\n",
      "             brown-stem-rot       0.78      1.00      0.88        14\n",
      "               charcoal-rot       1.00      0.50      0.67         8\n",
      "              cyst-nematode       1.00      1.00      1.00         3\n",
      "diaporthe-pod-&-stem-blight       1.00      1.00      1.00         5\n",
      "      diaporthe-stem-canker       1.00      0.75      0.86         8\n",
      "               downy-mildew       1.00      0.57      0.73         7\n",
      "         frog-eye-leaf-spot       0.57      0.65      0.61        26\n",
      "           herbicide-injury       0.67      1.00      0.80         2\n",
      "     phyllosticta-leaf-spot       0.00      0.00      0.00         7\n",
      "           phytophthora-rot       0.96      1.00      0.98        25\n",
      "             powdery-mildew       1.00      1.00      1.00         7\n",
      "          purple-seed-stain       0.00      0.00      0.00         9\n",
      "       rhizoctonia-root-rot       1.00      1.00      1.00         7\n",
      "\n",
      "                   accuracy                           0.76       215\n",
      "                  macro avg       0.74      0.71      0.71       215\n",
      "               weighted avg       0.74      0.76      0.73       215\n",
      "\n"
     ]
    },
    {
     "name": "stderr",
     "output_type": "stream",
     "text": [
      "/usr/local/lib/python3.10/dist-packages/sklearn/metrics/_classification.py:1706: UndefinedMetricWarning: Precision is ill-defined and being set to 0.0 in labels with no predicted samples. Use `zero_division` parameter to control this behavior.\n",
      "  _warn_prf(average, modifier, f\"{metric.capitalize()} is\", result.shape[0])\n",
      "/usr/local/lib/python3.10/dist-packages/sklearn/metrics/_classification.py:1706: UndefinedMetricWarning: Precision is ill-defined and being set to 0.0 in labels with no predicted samples. Use `zero_division` parameter to control this behavior.\n",
      "  _warn_prf(average, modifier, f\"{metric.capitalize()} is\", result.shape[0])\n",
      "/usr/local/lib/python3.10/dist-packages/sklearn/metrics/_classification.py:1706: UndefinedMetricWarning: Precision is ill-defined and being set to 0.0 in labels with no predicted samples. Use `zero_division` parameter to control this behavior.\n",
      "  _warn_prf(average, modifier, f\"{metric.capitalize()} is\", result.shape[0])\n"
     ]
    }
   ],
   "source": [
    "print(\"--- Treinando o Modelo WiSARD ---\")\n",
    "\n",
    "# addressSize (tuple_size) para o WiSARD.\n",
    "# O número de bits de entrada de X_encoded_dense para Car Evaluation é 21.\n",
    "# Um addressSize de 21 ainda é muito grande.\n",
    "# Escolha um addressSize menor, como 2, 3 ou 4.\n",
    "# Por exemplo, se X_encoded_dense tem 21 bits, e addressSize=3, teremos 21/3 = 7 RAMs por classe.\n",
    "addressSize = 3 \n",
    "\n",
    "wsd = wp.Wisard(addressSize, ignoreZero=False, verbose=True)\n",
    "\n",
    "print(f\"WiSARD inicializado com addressSize={addressSize}\")\n",
    "wsd.train(X_train, y_train)\n",
    "print(\"-\" * 50)\n",
    "\n",
    "\n",
    "print(\"--- Classificação e Avaliação do Modelo WiSARD ---\")\n",
    "\n",
    "print(\"Classificando os dados de teste...\")\n",
    "predictions_str = wsd.classify(X_test)\n",
    "print(\"Classificação concluída.\")\n",
    "\n",
    "# Convertendo as previsões de string de volta para um array NumPy para fácil comparação\n",
    "predictions_np = np.array(predictions_str)\n",
    "y_test_np = np.array(y_test) \n",
    "\n",
    "print(\"Relatório de Classificação:\")\n",
    "print(classification_report(\n",
    "    y_test_np, predictions_np,\n",
    "    labels=np.unique(y_test),\n",
    "))"
   ]
  }
 ],
 "metadata": {
  "kernelspec": {
   "display_name": "Python 3",
   "language": "python",
   "name": "python3"
  },
  "language_info": {
   "codemirror_mode": {
    "name": "ipython",
    "version": 3
   },
   "file_extension": ".py",
   "mimetype": "text/x-python",
   "name": "python",
   "nbconvert_exporter": "python",
   "pygments_lexer": "ipython3",
   "version": "3.10.12"
  }
 },
 "nbformat": 4,
 "nbformat_minor": 5
}
