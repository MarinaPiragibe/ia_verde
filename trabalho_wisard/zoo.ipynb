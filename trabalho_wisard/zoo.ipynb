{
 "cells": [
  {
   "cell_type": "markdown",
   "id": "4308fcf2",
   "metadata": {},
   "source": [
    "#### Zoo Model\n",
    "\n",
    "Descrição: O dataset contém diversas informações sobre animais que devem ser classificados em 7 classes (\"Mammal\",\n",
    "    Bird,\n",
    "    Reptile,\n",
    "    Fish,\n",
    "    Amphibian,\n",
    "    Insect,\n",
    "    Invertebrate) para 101 instâncias."
   ]
  },
  {
   "cell_type": "markdown",
   "id": "47d994e7",
   "metadata": {},
   "source": [
    "### Imports"
   ]
  },
  {
   "cell_type": "code",
   "execution_count": 16,
   "id": "781e89f2",
   "metadata": {},
   "outputs": [],
   "source": [
    "\n",
    "import numpy as np\n",
    "from ucimlrepo import fetch_ucirepo\n",
    "from sklearn.preprocessing import OneHotEncoder, LabelEncoder\n",
    "from sklearn.model_selection import train_test_split\n",
    "from sklearn.metrics import classification_report, confusion_matrix\n",
    "import wisardpkg as wp\n"
   ]
  },
  {
   "cell_type": "markdown",
   "id": "34e3c9d1",
   "metadata": {},
   "source": [
    "### Carregando o Dataset Car Evaluation"
   ]
  },
  {
   "cell_type": "code",
   "execution_count": 17,
   "id": "0a44b76f",
   "metadata": {},
   "outputs": [
    {
     "name": "stdout",
     "output_type": "stream",
     "text": [
      "Dimensão inicial de X: (101, 16)\n",
      "Colunas de X e seus tipos de dados:\n",
      "hair        int64\n",
      "feathers    int64\n",
      "eggs        int64\n",
      "milk        int64\n",
      "airborne    int64\n",
      "aquatic     int64\n",
      "predator    int64\n",
      "toothed     int64\n",
      "backbone    int64\n",
      "breathes    int64\n",
      "venomous    int64\n",
      "fins        int64\n",
      "legs        int64\n",
      "tail        int64\n",
      "domestic    int64\n",
      "catsize     int64\n",
      "dtype: object\n",
      "\n",
      "Primeiras 5 linhas de X:\n",
      "   hair  feathers  eggs  milk  airborne  aquatic  predator  toothed  backbone  \\\n",
      "0     1         0     0     1         0        0         1        1         1   \n",
      "1     1         0     0     1         0        0         0        1         1   \n",
      "2     0         0     1     0         0        1         1        1         1   \n",
      "3     1         0     0     1         0        0         1        1         1   \n",
      "4     1         0     0     1         0        0         1        1         1   \n",
      "\n",
      "   breathes  venomous  fins  legs  tail  domestic  catsize  \n",
      "0         1         0     0     4     0         0        1  \n",
      "1         1         0     0     4     1         0        1  \n",
      "2         0         0     1     0     1         0        0  \n",
      "3         1         0     0     4     0         0        1  \n",
      "4         1         0     0     4     1         0        1  \n",
      "\n",
      "Classes de y:\n",
      "type\n",
      "1    41\n",
      "2    20\n",
      "4    13\n",
      "7    10\n",
      "6     8\n",
      "3     5\n",
      "5     4\n",
      "Name: count, dtype: int64\n"
     ]
    }
   ],
   "source": [
    "zoo_model = fetch_ucirepo(id=111)\n",
    "X_original = zoo_model.data.features\n",
    "y_original = zoo_model.data.targets.iloc[:, 0]\n",
    "\n",
    "\n",
    "print(f\"Dimensão inicial de X: {X_original.shape}\")\n",
    "print(f\"Colunas de X e seus tipos de dados:\\n{X_original.dtypes}\")\n",
    "print(f\"\\nPrimeiras 5 linhas de X:\\n{X_original.head()}\")\n",
    "print(f\"\\nClasses de y:\\n{y_original.value_counts()}\")\n"
   ]
  },
  {
   "cell_type": "markdown",
   "id": "3a483590",
   "metadata": {},
   "source": [
    "### Pré-processamento"
   ]
  },
  {
   "cell_type": "code",
   "execution_count": 18,
   "id": "2f9e720d",
   "metadata": {},
   "outputs": [
    {
     "name": "stdout",
     "output_type": "stream",
     "text": [
      "Dimensão de X após One-Hot Encoding: (101, 36)\n",
      "Tipo dos elementos após One-Hot Encoding: float64\n",
      "Primeiras 2 linhas de X_encoded_dense:\n",
      "[[0. 1. 1. 0. 1. 0. 0. 1. 1. 0. 1. 0. 0. 1. 0. 1. 0. 1. 0. 1. 1. 0. 1. 0.\n",
      "  0. 0. 1. 0. 0. 0. 1. 0. 1. 0. 0. 1.]\n",
      " [0. 1. 1. 0. 1. 0. 0. 1. 1. 0. 1. 0. 1. 0. 0. 1. 0. 1. 0. 1. 1. 0. 1. 0.\n",
      "  0. 0. 1. 0. 0. 0. 0. 1. 1. 0. 0. 1.]]\n"
     ]
    }
   ],
   "source": [
    "encoder = OneHotEncoder(handle_unknown='ignore', sparse_output=False) # sparse_output=False retorna array denso\n",
    "# sparse_output=False é o mesmo que chamar .toarray() depois.\n",
    "X_encoded_dense = encoder.fit_transform(X_original)\n",
    "\n",
    "print(f\"Dimensão de X após One-Hot Encoding: {X_encoded_dense.shape}\")\n",
    "print(f\"Tipo dos elementos após One-Hot Encoding: {X_encoded_dense.dtype}\")\n",
    "print(f\"Primeiras 2 linhas de X_encoded_dense:\\n{X_encoded_dense[:2]}\")"
   ]
  },
  {
   "cell_type": "markdown",
   "id": "81606db9",
   "metadata": {},
   "source": [
    "### Dividindo os Dados em Treino e Teste"
   ]
  },
  {
   "cell_type": "code",
   "execution_count": 19,
   "id": "bc5809fc",
   "metadata": {},
   "outputs": [
    {
     "name": "stdout",
     "output_type": "stream",
     "text": [
      "Tamanho do conjunto de treino (X_train): 30 amostras, 36 bits\n",
      "Tamanho do conjunto de teste (X_test): 71 amostras, 36 bits\n",
      "Tipo dos elementos de X_train: uint8\n"
     ]
    }
   ],
   "source": [
    "X_encoded_uint8 = X_encoded_dense.astype(np.uint8)\n",
    "y_str = y_original.astype(str).tolist()\n",
    "\n",
    "X_train, X_test, y_train, y_test = train_test_split(\n",
    "    X_encoded_uint8, y_str, test_size=0.7, random_state=42, stratify=y_str\n",
    ")\n",
    "\n",
    "print(f\"Tamanho do conjunto de treino (X_train): {X_train.shape[0]} amostras, {X_train.shape[1]} bits\")\n",
    "print(f\"Tamanho do conjunto de teste (X_test): {X_test.shape[0]} amostras, {X_test.shape[1]} bits\")\n",
    "print(f\"Tipo dos elementos de X_train: {X_train.dtype}\")"
   ]
  },
  {
   "cell_type": "markdown",
   "id": "99faf1dc",
   "metadata": {},
   "source": [
    "### Treinando o Modelo WiSARD"
   ]
  },
  {
   "cell_type": "code",
   "execution_count": 20,
   "id": "ff44fbea",
   "metadata": {},
   "outputs": [
    {
     "name": "stdout",
     "output_type": "stream",
     "text": [
      "WiSARD inicializado com addressSize=3\n",
      "training 30 of 30\n",
      "classifying 71 of 71of 71\n"
     ]
    }
   ],
   "source": [
    "addressSize = 3 \n",
    "\n",
    "wsd = wp.Wisard(addressSize, ignoreZero=False, verbose=True)\n",
    "\n",
    "print(f\"WiSARD inicializado com addressSize={addressSize}\")\n",
    "wsd.train(X_train, y_train)\n",
    "\n",
    "predictions_str = wsd.classify(X_test)\n",
    "\n",
    "y_pred_np = np.array(predictions_str)\n",
    "y_test_np = np.array(y_test) "
   ]
  },
  {
   "cell_type": "markdown",
   "id": "f2d9e074",
   "metadata": {},
   "source": [
    "### Relatório de Classificação"
   ]
  },
  {
   "cell_type": "code",
   "execution_count": 21,
   "id": "912faf38",
   "metadata": {},
   "outputs": [
    {
     "name": "stdout",
     "output_type": "stream",
     "text": [
      "              precision    recall  f1-score   support\n",
      "\n",
      "           1       1.00      1.00      1.00        29\n",
      "           2       1.00      1.00      1.00        14\n",
      "           3       1.00      0.33      0.50         3\n",
      "           4       0.75      1.00      0.86         9\n",
      "           5       1.00      0.67      0.80         3\n",
      "           6       1.00      0.67      0.80         6\n",
      "           7       0.78      1.00      0.88         7\n",
      "\n",
      "    accuracy                           0.93        71\n",
      "   macro avg       0.93      0.81      0.83        71\n",
      "weighted avg       0.95      0.93      0.92        71\n",
      "\n"
     ]
    }
   ],
   "source": [
    "print(classification_report(\n",
    "    y_test_np, y_pred_np,\n",
    "    labels=np.unique(y_test),\n",
    "))"
   ]
  },
  {
   "cell_type": "markdown",
   "id": "5253d13c",
   "metadata": {},
   "source": [
    "### WiSARD x MLP\n",
    "\n",
    "O modelo da WiSARD alcançou resultados superiores aos da MLP em todas as métricas de avaliação."
   ]
  }
 ],
 "metadata": {
  "kernelspec": {
   "display_name": "Python 3",
   "language": "python",
   "name": "python3"
  },
  "language_info": {
   "codemirror_mode": {
    "name": "ipython",
    "version": 3
   },
   "file_extension": ".py",
   "mimetype": "text/x-python",
   "name": "python",
   "nbconvert_exporter": "python",
   "pygments_lexer": "ipython3",
   "version": "3.10.12"
  }
 },
 "nbformat": 4,
 "nbformat_minor": 5
}
