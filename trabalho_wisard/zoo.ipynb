{
 "cells": [
  {
   "cell_type": "markdown",
   "id": "4308fcf2",
   "metadata": {},
   "source": [
    "#### Zoo Model\n",
    "\n",
    "Descrição: O dataset contém diversas informações sobre animais que devem ser classificados em 7 classes (\"Mammal\",\n",
    "    Bird,\n",
    "    Reptile,\n",
    "    Fish,\n",
    "    Amphibian,\n",
    "    Insect,\n",
    "    Invertebrate) para 101 instâncias.\n",
    "\n",
    "Resultados: O modelo se saiu bem em todas as métricas avaliadas, no entanto o dataset é pequeno demais e pode ser que haja overfitting com o modelo."
   ]
  },
  {
   "cell_type": "code",
   "execution_count": 6,
   "id": "781e89f2",
   "metadata": {},
   "outputs": [],
   "source": [
    "\n",
    "import numpy as np\n",
    "from ucimlrepo import fetch_ucirepo\n",
    "from sklearn.preprocessing import OneHotEncoder, LabelEncoder\n",
    "from sklearn.model_selection import train_test_split\n",
    "from sklearn.metrics import classification_report, confusion_matrix\n",
    "import wisardpkg as wp\n"
   ]
  },
  {
   "cell_type": "code",
   "execution_count": 7,
   "id": "0a44b76f",
   "metadata": {},
   "outputs": [
    {
     "name": "stdout",
     "output_type": "stream",
     "text": [
      "--- 1. Carregando e Inspecionando o Dataset Zoo ---\n",
      "Dimensão inicial de X: (101, 16)\n",
      "Colunas de X e seus tipos de dados:\n",
      "hair        int64\n",
      "feathers    int64\n",
      "eggs        int64\n",
      "milk        int64\n",
      "airborne    int64\n",
      "aquatic     int64\n",
      "predator    int64\n",
      "toothed     int64\n",
      "backbone    int64\n",
      "breathes    int64\n",
      "venomous    int64\n",
      "fins        int64\n",
      "legs        int64\n",
      "tail        int64\n",
      "domestic    int64\n",
      "catsize     int64\n",
      "dtype: object\n",
      "\n",
      "Primeiras 5 linhas de X:\n",
      "   hair  feathers  eggs  milk  airborne  aquatic  predator  toothed  backbone  \\\n",
      "0     1         0     0     1         0        0         1        1         1   \n",
      "1     1         0     0     1         0        0         0        1         1   \n",
      "2     0         0     1     0         0        1         1        1         1   \n",
      "3     1         0     0     1         0        0         1        1         1   \n",
      "4     1         0     0     1         0        0         1        1         1   \n",
      "\n",
      "   breathes  venomous  fins  legs  tail  domestic  catsize  \n",
      "0         1         0     0     4     0         0        1  \n",
      "1         1         0     0     4     1         0        1  \n",
      "2         0         0     1     0     1         0        0  \n",
      "3         1         0     0     4     0         0        1  \n",
      "4         1         0     0     4     1         0        1  \n",
      "\n",
      "Classes de y:\n",
      "type\n",
      "1    41\n",
      "2    20\n",
      "4    13\n",
      "7    10\n",
      "6     8\n",
      "3     5\n",
      "5     4\n",
      "Name: count, dtype: int64\n",
      "--------------------------------------------------\n"
     ]
    }
   ],
   "source": [
    "# --- 1. Carregar e Inspecionar o Dataset ---\n",
    "print(\"--- 1. Carregando e Inspecionando o Dataset Zoo ---\")\n",
    "zoo_model = fetch_ucirepo(id=111)\n",
    "X_original = zoo_model.data.features\n",
    "y_original = zoo_model.data.targets.iloc[:, 0]\n",
    "\n",
    "\n",
    "print(f\"Dimensão inicial de X: {X_original.shape}\")\n",
    "print(f\"Colunas de X e seus tipos de dados:\\n{X_original.dtypes}\")\n",
    "print(f\"\\nPrimeiras 5 linhas de X:\\n{X_original.head()}\")\n",
    "print(f\"\\nClasses de y:\\n{y_original.value_counts()}\")\n",
    "print(\"-\" * 50)"
   ]
  },
  {
   "cell_type": "code",
   "execution_count": 8,
   "id": "2f9e720d",
   "metadata": {},
   "outputs": [
    {
     "name": "stdout",
     "output_type": "stream",
     "text": [
      "--- 2. Pré-processamento: One-Hot Encoding ---\n",
      "Dimensão de X após One-Hot Encoding: (101, 36)\n",
      "Tipo dos elementos após One-Hot Encoding: float64\n",
      "Primeiras 2 linhas de X_encoded_dense:\n",
      "[[0. 1. 1. 0. 1. 0. 0. 1. 1. 0. 1. 0. 0. 1. 0. 1. 0. 1. 0. 1. 1. 0. 1. 0.\n",
      "  0. 0. 1. 0. 0. 0. 1. 0. 1. 0. 0. 1.]\n",
      " [0. 1. 1. 0. 1. 0. 0. 1. 1. 0. 1. 0. 1. 0. 0. 1. 0. 1. 0. 1. 1. 0. 1. 0.\n",
      "  0. 0. 1. 0. 0. 0. 0. 1. 1. 0. 0. 1.]]\n",
      "--------------------------------------------------\n"
     ]
    }
   ],
   "source": [
    "# --- 2. Pré-processamento: One-Hot Encoding para Atributos Categóricos ---\n",
    "print(\"--- 2. Pré-processamento: One-Hot Encoding ---\")\n",
    "\n",
    "encoder = OneHotEncoder(handle_unknown='ignore', sparse_output=False) # sparse_output=False retorna array denso\n",
    "# sparse_output=False é o mesmo que chamar .toarray() depois.\n",
    "# Não precisamos do .astype(int).tolist() ainda, faremos a conversão de tipo para np.uint8 depois do split.\n",
    "X_encoded_dense = encoder.fit_transform(X_original)\n",
    "\n",
    "print(f\"Dimensão de X após One-Hot Encoding: {X_encoded_dense.shape}\")\n",
    "print(f\"Tipo dos elementos após One-Hot Encoding: {X_encoded_dense.dtype}\")\n",
    "print(f\"Primeiras 2 linhas de X_encoded_dense:\\n{X_encoded_dense[:2]}\")\n",
    "print(\"-\" * 50)"
   ]
  },
  {
   "cell_type": "code",
   "execution_count": 9,
   "id": "bc5809fc",
   "metadata": {},
   "outputs": [
    {
     "name": "stdout",
     "output_type": "stream",
     "text": [
      "--- 3. Dividindo os Dados em Treino e Teste ---\n",
      "Tamanho do conjunto de treino (X_train): 30 amostras, 36 bits\n",
      "Tamanho do conjunto de teste (X_test): 71 amostras, 36 bits\n",
      "Tipo dos elementos de X_train: uint8\n",
      "--------------------------------------------------\n"
     ]
    }
   ],
   "source": [
    "# --- 3. Divisão dos Dados em Treino e Teste ---\n",
    "print(\"--- 3. Dividindo os Dados em Treino e Teste ---\")\n",
    "\n",
    "# Para o WiSARD, os dados de entrada X devem ser do tipo np.uint8.\n",
    "# E os rótulos y devem ser strings.\n",
    "# Fazemos a conversão de tipo após o split para manter a consistência do tipo de dados.\n",
    "X_encoded_uint8 = X_encoded_dense.astype(np.uint8)\n",
    "y_str = y_original.astype(str).tolist()\n",
    "\n",
    "X_train, X_test, y_train, y_test = train_test_split(\n",
    "    X_encoded_uint8, y_str, test_size=0.7, random_state=42, stratify=y_str\n",
    ")\n",
    "\n",
    "print(f\"Tamanho do conjunto de treino (X_train): {X_train.shape[0]} amostras, {X_train.shape[1]} bits\")\n",
    "print(f\"Tamanho do conjunto de teste (X_test): {X_test.shape[0]} amostras, {X_test.shape[1]} bits\")\n",
    "print(f\"Tipo dos elementos de X_train: {X_train.dtype}\")\n",
    "print(\"-\" * 50)"
   ]
  },
  {
   "cell_type": "code",
   "execution_count": 10,
   "id": "ff44fbea",
   "metadata": {},
   "outputs": [
    {
     "name": "stdout",
     "output_type": "stream",
     "text": [
      "--- 4. Configurando e Treinando o Modelo WiSARD ---\n",
      "WiSARD inicializado com addressSize=3\n",
      "Treinando o WiSARD...\n",
      "Treinamento concluído.\n",
      "--------------------------------------------------\n",
      "--- 5. Classificação e Avaliação do Modelo WiSARD ---\n",
      "Classificando os dados de teste...\n",
      "Classificação concluída.\n",
      "Relatório de Classificação:\n",
      "training 30 of 30\n",
      "c              precision    recall  f1-score   support\n",
      "\n",
      "           1       1.00      1.00      1.00        29\n",
      "           2       1.00      1.00      1.00        14\n",
      "           3       1.00      0.67      0.80         3\n",
      "           4       0.82      1.00      0.90         9\n",
      "           5       1.00      0.67      0.80         3\n",
      "           6       1.00      0.67      0.80         6\n",
      "           7       0.78      1.00      0.88         7\n",
      "\n",
      "    accuracy                           0.94        71\n",
      "   macro avg       0.94      0.86      0.88        71\n",
      "weighted avg       0.96      0.94      0.94        71\n",
      "\n",
      "classifying 71 of 71\n"
     ]
    }
   ],
   "source": [
    "# --- 4. Configuração e Treinamento do Modelo WiSARD ---\n",
    "print(\"--- 4. Configurando e Treinando o Modelo WiSARD ---\")\n",
    "\n",
    "# addressSize (tuple_size) para o WiSARD.\n",
    "# O número de bits de entrada de X_encoded_dense para Car Evaluation é 21.\n",
    "# Um addressSize de 21 ainda é muito grande.\n",
    "# Escolha um addressSize menor, como 2, 3 ou 4.\n",
    "# Por exemplo, se X_encoded_dense tem 21 bits, e addressSize=3, teremos 21/3 = 7 RAMs por classe.\n",
    "addressSize = 3 # Ajuste este valor. 2 ou 3 são bons pontos de partida.\n",
    "\n",
    "wsd = wp.Wisard(addressSize, ignoreZero=False, verbose=True)\n",
    "\n",
    "print(f\"WiSARD inicializado com addressSize={addressSize}\")\n",
    "print(\"Treinando o WiSARD...\")\n",
    "wsd.train(X_train, y_train)\n",
    "print(\"Treinamento concluído.\")\n",
    "print(\"-\" * 50)\n",
    "\n",
    "\n",
    "# --- 5. Classificação e Avaliação do Modelo WiSARD ---\n",
    "print(\"--- 5. Classificação e Avaliação do Modelo WiSARD ---\")\n",
    "\n",
    "print(\"Classificando os dados de teste...\")\n",
    "predictions_str = wsd.classify(X_test)\n",
    "print(\"Classificação concluída.\")\n",
    "\n",
    "# Convertendo as previsões de string de volta para um array NumPy para fácil comparação\n",
    "predictions_np = np.array(predictions_str)\n",
    "y_test_np = np.array(y_test) # Converte o y_test também para numpy array para comparação elemento a elemento\n",
    "\n",
    "accuracy_wisard = np.mean(predictions_np == y_test_np)\n",
    "\n",
    "print(\"Relatório de Classificação:\")\n",
    "print(classification_report(\n",
    "    y_test_np, predictions_np,\n",
    "    labels=np.unique(y_test),\n",
    "))"
   ]
  }
 ],
 "metadata": {
  "kernelspec": {
   "display_name": "Python 3",
   "language": "python",
   "name": "python3"
  },
  "language_info": {
   "codemirror_mode": {
    "name": "ipython",
    "version": 3
   },
   "file_extension": ".py",
   "mimetype": "text/x-python",
   "name": "python",
   "nbconvert_exporter": "python",
   "pygments_lexer": "ipython3",
   "version": "3.10.12"
  }
 },
 "nbformat": 4,
 "nbformat_minor": 5
}
